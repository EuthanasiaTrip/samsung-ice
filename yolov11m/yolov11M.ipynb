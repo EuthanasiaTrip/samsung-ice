{
 "cells": [
  {
   "cell_type": "code",
   "execution_count": 13,
   "metadata": {},
   "outputs": [],
   "source": [
    "import numpy as np\n",
    "from PIL import Image\n",
    "import requests\n",
    "from io import BytesIO\n",
    "import cv2\n",
    "import matplotlib.pyplot as plt"
   ]
  },
  {
   "cell_type": "code",
   "execution_count": 4,
   "metadata": {},
   "outputs": [
    {
     "name": "stderr",
     "output_type": "stream",
     "text": [
      "\u001b[34m\u001b[1mwandb\u001b[0m: \u001b[33mWARNING\u001b[0m Calling wandb.login() after wandb.init() has no effect.\n"
     ]
    },
    {
     "data": {
      "text/html": [
       "Finishing last run (ID:p8r5fjmv) before initializing another..."
      ],
      "text/plain": [
       "<IPython.core.display.HTML object>"
      ]
     },
     "metadata": {},
     "output_type": "display_data"
    },
    {
     "data": {
      "text/html": [
       " View run <strong style=\"color:#cdcd00\">yolo_12s</strong> at: <a href='https://wandb.ai/craftyea-narfu/diploma/runs/p8r5fjmv' target=\"_blank\">https://wandb.ai/craftyea-narfu/diploma/runs/p8r5fjmv</a><br/> View project at: <a href='https://wandb.ai/craftyea-narfu/diploma' target=\"_blank\">https://wandb.ai/craftyea-narfu/diploma</a><br/>Synced 5 W&B file(s), 0 media file(s), 0 artifact file(s) and 0 other file(s)"
      ],
      "text/plain": [
       "<IPython.core.display.HTML object>"
      ]
     },
     "metadata": {},
     "output_type": "display_data"
    },
    {
     "data": {
      "text/html": [
       "Find logs at: <code>.\\wandb\\run-20250412_224145-p8r5fjmv\\logs</code>"
      ],
      "text/plain": [
       "<IPython.core.display.HTML object>"
      ]
     },
     "metadata": {},
     "output_type": "display_data"
    },
    {
     "data": {
      "text/html": [
       "Successfully finished last run (ID:p8r5fjmv). Initializing new run:<br/>"
      ],
      "text/plain": [
       "<IPython.core.display.HTML object>"
      ]
     },
     "metadata": {},
     "output_type": "display_data"
    },
    {
     "data": {
      "text/html": [
       "Tracking run with wandb version 0.18.3"
      ],
      "text/plain": [
       "<IPython.core.display.HTML object>"
      ]
     },
     "metadata": {},
     "output_type": "display_data"
    },
    {
     "data": {
      "text/html": [
       "Run data is saved locally in <code>d:\\snap data\\yolov12s\\wandb\\run-20250412_224524-3c3eigcq</code>"
      ],
      "text/plain": [
       "<IPython.core.display.HTML object>"
      ]
     },
     "metadata": {},
     "output_type": "display_data"
    },
    {
     "data": {
      "text/html": [
       "Syncing run <strong><a href='https://wandb.ai/craftyea-narfu/diploma/runs/3c3eigcq' target=\"_blank\">yolo_11M</a></strong> to <a href='https://wandb.ai/craftyea-narfu/diploma' target=\"_blank\">Weights & Biases</a> (<a href='https://wandb.me/run' target=\"_blank\">docs</a>)<br/>"
      ],
      "text/plain": [
       "<IPython.core.display.HTML object>"
      ]
     },
     "metadata": {},
     "output_type": "display_data"
    },
    {
     "data": {
      "text/html": [
       " View project at <a href='https://wandb.ai/craftyea-narfu/diploma' target=\"_blank\">https://wandb.ai/craftyea-narfu/diploma</a>"
      ],
      "text/plain": [
       "<IPython.core.display.HTML object>"
      ]
     },
     "metadata": {},
     "output_type": "display_data"
    },
    {
     "data": {
      "text/html": [
       " View run at <a href='https://wandb.ai/craftyea-narfu/diploma/runs/3c3eigcq' target=\"_blank\">https://wandb.ai/craftyea-narfu/diploma/runs/3c3eigcq</a>"
      ],
      "text/plain": [
       "<IPython.core.display.HTML object>"
      ]
     },
     "metadata": {},
     "output_type": "display_data"
    },
    {
     "data": {
      "text/html": [
       "<button onClick=\"this.nextSibling.style.display='block';this.style.display='none';\">Display W&B run</button><iframe src='https://wandb.ai/craftyea-narfu/diploma/runs/3c3eigcq?jupyter=true' style='border:none;width:100%;height:420px;display:none;'></iframe>"
      ],
      "text/plain": [
       "<wandb.sdk.wandb_run.Run at 0x19be458eac0>"
      ]
     },
     "execution_count": 4,
     "metadata": {},
     "output_type": "execute_result"
    }
   ],
   "source": [
    "import wandb\n",
    "\n",
    "\n",
    "wandb.login(key=\"bac1dbcc274cb1a9808095dd46ca8ce81dd8e53e\")\n",
    "wandb.init(project=\"diploma\", name=\"yolo_11M\")"
   ]
  },
  {
   "cell_type": "code",
   "execution_count": 3,
   "metadata": {},
   "outputs": [],
   "source": [
    "import os\n",
    "os.environ[\"PYTORCH_CUDA_ALLOC_CONF\"] = \"max_split_size_mb:512\""
   ]
  },
  {
   "cell_type": "code",
   "execution_count": 6,
   "metadata": {},
   "outputs": [
    {
     "name": "stdout",
     "output_type": "stream",
     "text": [
      "Downloading https://github.com/ultralytics/assets/releases/download/v8.3.0/yolo11m.pt to 'yolo11m.pt'...\n"
     ]
    },
    {
     "name": "stderr",
     "output_type": "stream",
     "text": [
      "100%|██████████| 38.8M/38.8M [00:04<00:00, 8.60MB/s]\n"
     ]
    },
    {
     "name": "stdout",
     "output_type": "stream",
     "text": [
      "New https://pypi.org/project/ultralytics/8.3.107 available  Update with 'pip install -U ultralytics'\n",
      "Ultralytics 8.3.13  Python-3.9.2 torch-2.1.0+cu118 CUDA:0 (NVIDIA GeForce GTX 1070, 8192MiB)\n",
      "\u001b[34m\u001b[1mengine\\trainer: \u001b[0mtask=detect, mode=train, model=yolo11m.pt, data=D:/snap data/marked data/data.yaml, epochs=40, time=None, patience=100, batch=16, imgsz=640, save=True, save_period=-1, cache=False, device=None, workers=8, project=None, name=train, exist_ok=False, pretrained=True, optimizer=auto, verbose=True, seed=0, deterministic=True, single_cls=False, rect=False, cos_lr=False, close_mosaic=10, resume=False, amp=True, fraction=1.0, profile=False, freeze=None, multi_scale=False, overlap_mask=True, mask_ratio=4, dropout=0.0, val=True, split=val, save_json=False, save_hybrid=False, conf=None, iou=0.7, max_det=300, half=False, dnn=False, plots=True, source=None, vid_stride=1, stream_buffer=False, visualize=False, augment=False, agnostic_nms=False, classes=None, retina_masks=False, embed=None, show=False, save_frames=False, save_txt=False, save_conf=False, save_crop=False, show_labels=True, show_conf=True, show_boxes=True, line_width=None, format=torchscript, keras=False, optimize=False, int8=False, dynamic=False, simplify=True, opset=None, workspace=4, nms=False, lr0=0.01, lrf=0.01, momentum=0.937, weight_decay=0.0005, warmup_epochs=3.0, warmup_momentum=0.8, warmup_bias_lr=0.1, box=7.5, cls=0.5, dfl=1.5, pose=12.0, kobj=1.0, label_smoothing=0.0, nbs=64, hsv_h=0.015, hsv_s=0.7, hsv_v=0.4, degrees=0.0, translate=0.1, scale=0.5, shear=0.0, perspective=0.0, flipud=0.0, fliplr=0.5, bgr=0.0, mosaic=1.0, mixup=0.0, copy_paste=0.0, copy_paste_mode=flip, auto_augment=randaugment, erasing=0.4, crop_fraction=1.0, cfg=None, tracker=botsort.yaml, save_dir=runs\\detect\\train\n",
      "Overriding model.yaml nc=80 with nc=1\n",
      "\n",
      "                   from  n    params  module                                       arguments                     \n",
      "  0                  -1  1      1856  ultralytics.nn.modules.conv.Conv             [3, 64, 3, 2]                 \n",
      "  1                  -1  1     73984  ultralytics.nn.modules.conv.Conv             [64, 128, 3, 2]               \n",
      "  2                  -1  1    111872  ultralytics.nn.modules.block.C3k2            [128, 256, 1, True, 0.25]     \n",
      "  3                  -1  1    590336  ultralytics.nn.modules.conv.Conv             [256, 256, 3, 2]              \n",
      "  4                  -1  1    444928  ultralytics.nn.modules.block.C3k2            [256, 512, 1, True, 0.25]     \n",
      "  5                  -1  1   2360320  ultralytics.nn.modules.conv.Conv             [512, 512, 3, 2]              \n",
      "  6                  -1  1   1380352  ultralytics.nn.modules.block.C3k2            [512, 512, 1, True]           \n",
      "  7                  -1  1   2360320  ultralytics.nn.modules.conv.Conv             [512, 512, 3, 2]              \n",
      "  8                  -1  1   1380352  ultralytics.nn.modules.block.C3k2            [512, 512, 1, True]           \n",
      "  9                  -1  1    656896  ultralytics.nn.modules.block.SPPF            [512, 512, 5]                 \n",
      " 10                  -1  1    990976  ultralytics.nn.modules.block.C2PSA           [512, 512, 1]                 \n",
      " 11                  -1  1         0  torch.nn.modules.upsampling.Upsample         [None, 2, 'nearest']          \n",
      " 12             [-1, 6]  1         0  ultralytics.nn.modules.conv.Concat           [1]                           \n",
      " 13                  -1  1   1642496  ultralytics.nn.modules.block.C3k2            [1024, 512, 1, True]          \n",
      " 14                  -1  1         0  torch.nn.modules.upsampling.Upsample         [None, 2, 'nearest']          \n",
      " 15             [-1, 4]  1         0  ultralytics.nn.modules.conv.Concat           [1]                           \n",
      " 16                  -1  1    542720  ultralytics.nn.modules.block.C3k2            [1024, 256, 1, True]          \n",
      " 17                  -1  1    590336  ultralytics.nn.modules.conv.Conv             [256, 256, 3, 2]              \n",
      " 18            [-1, 13]  1         0  ultralytics.nn.modules.conv.Concat           [1]                           \n",
      " 19                  -1  1   1511424  ultralytics.nn.modules.block.C3k2            [768, 512, 1, True]           \n",
      " 20                  -1  1   2360320  ultralytics.nn.modules.conv.Conv             [512, 512, 3, 2]              \n",
      " 21            [-1, 10]  1         0  ultralytics.nn.modules.conv.Concat           [1]                           \n",
      " 22                  -1  1   1642496  ultralytics.nn.modules.block.C3k2            [1024, 512, 1, True]          \n",
      " 23        [16, 19, 22]  1   1411795  ultralytics.nn.modules.head.Detect           [1, [256, 512, 512]]          \n",
      "YOLO11m summary: 409 layers, 20,053,779 parameters, 20,053,763 gradients, 68.2 GFLOPs\n",
      "\n",
      "Transferred 643/649 items from pretrained weights\n",
      "\u001b[34m\u001b[1mTensorBoard: \u001b[0mStart with 'tensorboard --logdir runs\\detect\\train', view at http://localhost:6006/\n",
      "Freezing layer 'model.23.dfl.conv.weight'\n",
      "\u001b[34m\u001b[1mAMP: \u001b[0mrunning Automatic Mixed Precision (AMP) checks with YOLO11n...\n",
      "Downloading https://github.com/ultralytics/assets/releases/download/v8.3.0/yolo11n.pt to 'yolo11n.pt'...\n"
     ]
    },
    {
     "name": "stderr",
     "output_type": "stream",
     "text": [
      "100%|██████████| 5.35M/5.35M [00:00<00:00, 9.52MB/s]\n",
      "c:\\Users\\jeday\\AppData\\Local\\Programs\\Python\\Python39\\lib\\site-packages\\tqdm\\auto.py:21: TqdmWarning: IProgress not found. Please update jupyter and ipywidgets. See https://ipywidgets.readthedocs.io/en/stable/user_install.html\n",
      "  from .autonotebook import tqdm as notebook_tqdm\n"
     ]
    },
    {
     "name": "stdout",
     "output_type": "stream",
     "text": [
      "\u001b[34m\u001b[1mAMP: \u001b[0mchecks passed \n"
     ]
    },
    {
     "name": "stderr",
     "output_type": "stream",
     "text": [
      "\u001b[34m\u001b[1mtrain: \u001b[0mScanning D:\\snap data\\marked data\\train\\labels... 798 images, 181 backgrounds, 0 corrupt: 100%|██████████| 798/798 [00:00<00:00, 1625.75it/s]\n"
     ]
    },
    {
     "name": "stdout",
     "output_type": "stream",
     "text": [
      "\u001b[34m\u001b[1mtrain: \u001b[0mNew cache created: D:\\snap data\\marked data\\train\\labels.cache\n",
      "\u001b[34m\u001b[1malbumentations: \u001b[0mBlur(p=0.01, blur_limit=(3, 7)), MedianBlur(p=0.01, blur_limit=(3, 7)), ToGray(p=0.01), CLAHE(p=0.01, clip_limit=(1, 4.0), tile_grid_size=(8, 8))\n"
     ]
    },
    {
     "name": "stderr",
     "output_type": "stream",
     "text": [
      "\u001b[34m\u001b[1mval: \u001b[0mScanning D:\\snap data\\marked data\\valid\\labels... 15 images, 0 backgrounds, 0 corrupt: 100%|██████████| 15/15 [00:00<00:00, 1671.22it/s]"
     ]
    },
    {
     "name": "stdout",
     "output_type": "stream",
     "text": [
      "\u001b[34m\u001b[1mval: \u001b[0mNew cache created: D:\\snap data\\marked data\\valid\\labels.cache\n"
     ]
    },
    {
     "name": "stderr",
     "output_type": "stream",
     "text": [
      "\n"
     ]
    },
    {
     "name": "stdout",
     "output_type": "stream",
     "text": [
      "Plotting labels to runs\\detect\\train\\labels.jpg... \n",
      "\u001b[34m\u001b[1moptimizer:\u001b[0m 'optimizer=auto' found, ignoring 'lr0=0.01' and 'momentum=0.937' and determining best 'optimizer', 'lr0' and 'momentum' automatically... \n",
      "\u001b[34m\u001b[1moptimizer:\u001b[0m AdamW(lr=0.002, momentum=0.9) with parameter groups 106 weight(decay=0.0), 113 weight(decay=0.0005), 112 bias(decay=0.0)\n",
      "\u001b[34m\u001b[1mTensorBoard: \u001b[0mmodel graph visualization added \n",
      "Image sizes 640 train, 640 val\n",
      "Using 6 dataloader workers\n",
      "Logging results to \u001b[1mruns\\detect\\train\u001b[0m\n",
      "Starting training for 40 epochs...\n",
      "\n",
      "      Epoch    GPU_mem   box_loss   cls_loss   dfl_loss  Instances       Size\n"
     ]
    },
    {
     "name": "stderr",
     "output_type": "stream",
     "text": [
      "       1/40      9.69G      3.278      4.987     0.9408        151        640: 100%|██████████| 50/50 [07:05<00:00,  8.51s/it]\n",
      "                 Class     Images  Instances      Box(P          R      mAP50  mAP50-95): 100%|██████████| 1/1 [00:03<00:00,  3.13s/it]"
     ]
    },
    {
     "name": "stdout",
     "output_type": "stream",
     "text": [
      "                   all         15        505     0.0121      0.097    0.00623    0.00178\n"
     ]
    },
    {
     "name": "stderr",
     "output_type": "stream",
     "text": [
      "\n"
     ]
    },
    {
     "name": "stdout",
     "output_type": "stream",
     "text": [
      "\n",
      "      Epoch    GPU_mem   box_loss   cls_loss   dfl_loss  Instances       Size\n"
     ]
    },
    {
     "name": "stderr",
     "output_type": "stream",
     "text": [
      "       2/40      9.51G       3.16      2.187     0.8856        219        640: 100%|██████████| 50/50 [07:13<00:00,  8.67s/it]\n",
      "                 Class     Images  Instances      Box(P          R      mAP50  mAP50-95): 100%|██████████| 1/1 [00:01<00:00,  1.67s/it]"
     ]
    },
    {
     "name": "stdout",
     "output_type": "stream",
     "text": [
      "                   all         15        505     0.0101     0.0693    0.00483    0.00131\n"
     ]
    },
    {
     "name": "stderr",
     "output_type": "stream",
     "text": [
      "\n"
     ]
    },
    {
     "name": "stdout",
     "output_type": "stream",
     "text": [
      "\n",
      "      Epoch    GPU_mem   box_loss   cls_loss   dfl_loss  Instances       Size\n"
     ]
    },
    {
     "name": "stderr",
     "output_type": "stream",
     "text": [
      "       3/40      9.96G      3.108      1.996     0.8808        150        640: 100%|██████████| 50/50 [07:07<00:00,  8.54s/it]\n",
      "                 Class     Images  Instances      Box(P          R      mAP50  mAP50-95): 100%|██████████| 1/1 [00:01<00:00,  1.46s/it]"
     ]
    },
    {
     "name": "stdout",
     "output_type": "stream",
     "text": [
      "                   all         15        505    0.00759     0.0535    0.00372    0.00104\n"
     ]
    },
    {
     "name": "stderr",
     "output_type": "stream",
     "text": [
      "\n"
     ]
    },
    {
     "name": "stdout",
     "output_type": "stream",
     "text": [
      "\n",
      "      Epoch    GPU_mem   box_loss   cls_loss   dfl_loss  Instances       Size\n"
     ]
    },
    {
     "name": "stderr",
     "output_type": "stream",
     "text": [
      "       4/40      9.69G      3.088      2.122     0.8726        114        640: 100%|██████████| 50/50 [05:40<00:00,  6.81s/it]\n",
      "                 Class     Images  Instances      Box(P          R      mAP50  mAP50-95): 100%|██████████| 1/1 [00:04<00:00,  4.25s/it]"
     ]
    },
    {
     "name": "stdout",
     "output_type": "stream",
     "text": [
      "                   all         15        505      0.258      0.259      0.149     0.0365\n"
     ]
    },
    {
     "name": "stderr",
     "output_type": "stream",
     "text": [
      "\n"
     ]
    },
    {
     "name": "stdout",
     "output_type": "stream",
     "text": [
      "\n",
      "      Epoch    GPU_mem   box_loss   cls_loss   dfl_loss  Instances       Size\n"
     ]
    },
    {
     "name": "stderr",
     "output_type": "stream",
     "text": [
      "       5/40      9.82G      3.036      2.029     0.8754        210        640: 100%|██████████| 50/50 [05:57<00:00,  7.16s/it]\n",
      "                 Class     Images  Instances      Box(P          R      mAP50  mAP50-95): 100%|██████████| 1/1 [00:01<00:00,  1.08s/it]"
     ]
    },
    {
     "name": "stdout",
     "output_type": "stream",
     "text": [
      "                   all         15        505     0.0173      0.154       0.01    0.00288\n"
     ]
    },
    {
     "name": "stderr",
     "output_type": "stream",
     "text": [
      "\n"
     ]
    },
    {
     "name": "stdout",
     "output_type": "stream",
     "text": [
      "\n",
      "      Epoch    GPU_mem   box_loss   cls_loss   dfl_loss  Instances       Size\n"
     ]
    },
    {
     "name": "stderr",
     "output_type": "stream",
     "text": [
      "       6/40      9.53G      3.096      2.154     0.8794        168        640: 100%|██████████| 50/50 [05:31<00:00,  6.64s/it]\n",
      "                 Class     Images  Instances      Box(P          R      mAP50  mAP50-95): 100%|██████████| 1/1 [00:04<00:00,  4.58s/it]"
     ]
    },
    {
     "name": "stdout",
     "output_type": "stream",
     "text": [
      "                   all         15        505      0.193      0.246      0.113      0.026\n"
     ]
    },
    {
     "name": "stderr",
     "output_type": "stream",
     "text": [
      "\n"
     ]
    },
    {
     "name": "stdout",
     "output_type": "stream",
     "text": [
      "\n",
      "      Epoch    GPU_mem   box_loss   cls_loss   dfl_loss  Instances       Size\n"
     ]
    },
    {
     "name": "stderr",
     "output_type": "stream",
     "text": [
      "       7/40      9.94G      3.051      2.059     0.8741        253        640: 100%|██████████| 50/50 [05:43<00:00,  6.87s/it]\n",
      "                 Class     Images  Instances      Box(P          R      mAP50  mAP50-95): 100%|██████████| 1/1 [00:01<00:00,  1.01s/it]"
     ]
    },
    {
     "name": "stdout",
     "output_type": "stream",
     "text": [
      "                   all         15        505      0.309      0.305      0.183     0.0463\n"
     ]
    },
    {
     "name": "stderr",
     "output_type": "stream",
     "text": [
      "\n"
     ]
    },
    {
     "name": "stdout",
     "output_type": "stream",
     "text": [
      "\n",
      "      Epoch    GPU_mem   box_loss   cls_loss   dfl_loss  Instances       Size\n"
     ]
    },
    {
     "name": "stderr",
     "output_type": "stream",
     "text": [
      "       8/40      9.51G      2.986      1.967     0.8623        205        640: 100%|██████████| 50/50 [04:22<00:00,  5.25s/it]\n",
      "                 Class     Images  Instances      Box(P          R      mAP50  mAP50-95): 100%|██████████| 1/1 [00:01<00:00,  1.12s/it]"
     ]
    },
    {
     "name": "stdout",
     "output_type": "stream",
     "text": [
      "                   all         15        505      0.296      0.303      0.196     0.0432\n"
     ]
    },
    {
     "name": "stderr",
     "output_type": "stream",
     "text": [
      "\n"
     ]
    },
    {
     "name": "stdout",
     "output_type": "stream",
     "text": [
      "\n",
      "      Epoch    GPU_mem   box_loss   cls_loss   dfl_loss  Instances       Size\n"
     ]
    },
    {
     "name": "stderr",
     "output_type": "stream",
     "text": [
      "       9/40      9.71G       2.95      1.932      0.863        145        640: 100%|██████████| 50/50 [04:45<00:00,  5.71s/it]\n",
      "                 Class     Images  Instances      Box(P          R      mAP50  mAP50-95): 100%|██████████| 1/1 [00:01<00:00,  1.17s/it]"
     ]
    },
    {
     "name": "stdout",
     "output_type": "stream",
     "text": [
      "                   all         15        505      0.346      0.307      0.221     0.0537\n"
     ]
    },
    {
     "name": "stderr",
     "output_type": "stream",
     "text": [
      "\n"
     ]
    },
    {
     "name": "stdout",
     "output_type": "stream",
     "text": [
      "\n",
      "      Epoch    GPU_mem   box_loss   cls_loss   dfl_loss  Instances       Size\n"
     ]
    },
    {
     "name": "stderr",
     "output_type": "stream",
     "text": [
      "      10/40      9.85G      2.949      1.837     0.8607        263        640: 100%|██████████| 50/50 [05:32<00:00,  6.65s/it]\n",
      "                 Class     Images  Instances      Box(P          R      mAP50  mAP50-95): 100%|██████████| 1/1 [00:01<00:00,  1.84s/it]"
     ]
    },
    {
     "name": "stdout",
     "output_type": "stream",
     "text": [
      "                   all         15        505      0.413      0.354      0.307     0.0712\n"
     ]
    },
    {
     "name": "stderr",
     "output_type": "stream",
     "text": [
      "\n"
     ]
    },
    {
     "name": "stdout",
     "output_type": "stream",
     "text": [
      "\n",
      "      Epoch    GPU_mem   box_loss   cls_loss   dfl_loss  Instances       Size\n"
     ]
    },
    {
     "name": "stderr",
     "output_type": "stream",
     "text": [
      "      11/40      9.71G      2.941      1.879     0.8623        167        640: 100%|██████████| 50/50 [05:27<00:00,  6.56s/it]\n",
      "                 Class     Images  Instances      Box(P          R      mAP50  mAP50-95): 100%|██████████| 1/1 [00:02<00:00,  2.05s/it]"
     ]
    },
    {
     "name": "stdout",
     "output_type": "stream",
     "text": [
      "                   all         15        505      0.361      0.331      0.252     0.0591\n"
     ]
    },
    {
     "name": "stderr",
     "output_type": "stream",
     "text": [
      "\n"
     ]
    },
    {
     "name": "stdout",
     "output_type": "stream",
     "text": [
      "\n",
      "      Epoch    GPU_mem   box_loss   cls_loss   dfl_loss  Instances       Size\n"
     ]
    },
    {
     "name": "stderr",
     "output_type": "stream",
     "text": [
      "      12/40      9.46G      2.887      1.913     0.8569        183        640: 100%|██████████| 50/50 [05:20<00:00,  6.41s/it]\n",
      "                 Class     Images  Instances      Box(P          R      mAP50  mAP50-95): 100%|██████████| 1/1 [00:02<00:00,  2.09s/it]"
     ]
    },
    {
     "name": "stdout",
     "output_type": "stream",
     "text": [
      "                   all         15        505      0.259      0.257      0.156     0.0361\n"
     ]
    },
    {
     "name": "stderr",
     "output_type": "stream",
     "text": [
      "\n"
     ]
    },
    {
     "name": "stdout",
     "output_type": "stream",
     "text": [
      "\n",
      "      Epoch    GPU_mem   box_loss   cls_loss   dfl_loss  Instances       Size\n"
     ]
    },
    {
     "name": "stderr",
     "output_type": "stream",
     "text": [
      "      13/40       9.6G      2.901      1.899      0.844        210        640: 100%|██████████| 50/50 [06:16<00:00,  7.53s/it]\n",
      "                 Class     Images  Instances      Box(P          R      mAP50  mAP50-95): 100%|██████████| 1/1 [00:01<00:00,  1.25s/it]"
     ]
    },
    {
     "name": "stdout",
     "output_type": "stream",
     "text": [
      "                   all         15        505      0.356      0.374      0.293     0.0703\n"
     ]
    },
    {
     "name": "stderr",
     "output_type": "stream",
     "text": [
      "\n"
     ]
    },
    {
     "name": "stdout",
     "output_type": "stream",
     "text": [
      "\n",
      "      Epoch    GPU_mem   box_loss   cls_loss   dfl_loss  Instances       Size\n"
     ]
    },
    {
     "name": "stderr",
     "output_type": "stream",
     "text": [
      "      14/40       9.8G      2.916      1.859       0.85        240        640: 100%|██████████| 50/50 [03:25<00:00,  4.12s/it]\n",
      "                 Class     Images  Instances      Box(P          R      mAP50  mAP50-95): 100%|██████████| 1/1 [00:01<00:00,  1.09s/it]"
     ]
    },
    {
     "name": "stdout",
     "output_type": "stream",
     "text": [
      "                   all         15        505      0.342      0.251      0.201     0.0486\n"
     ]
    },
    {
     "name": "stderr",
     "output_type": "stream",
     "text": [
      "\n"
     ]
    },
    {
     "name": "stdout",
     "output_type": "stream",
     "text": [
      "\n",
      "      Epoch    GPU_mem   box_loss   cls_loss   dfl_loss  Instances       Size\n"
     ]
    },
    {
     "name": "stderr",
     "output_type": "stream",
     "text": [
      "      15/40      9.47G      2.903      1.843     0.8499        249        640: 100%|██████████| 50/50 [04:40<00:00,  5.61s/it]\n",
      "                 Class     Images  Instances      Box(P          R      mAP50  mAP50-95): 100%|██████████| 1/1 [00:01<00:00,  1.23s/it]"
     ]
    },
    {
     "name": "stdout",
     "output_type": "stream",
     "text": [
      "                   all         15        505      0.411      0.327      0.275     0.0678\n"
     ]
    },
    {
     "name": "stderr",
     "output_type": "stream",
     "text": [
      "\n"
     ]
    },
    {
     "name": "stdout",
     "output_type": "stream",
     "text": [
      "\n",
      "      Epoch    GPU_mem   box_loss   cls_loss   dfl_loss  Instances       Size\n"
     ]
    },
    {
     "name": "stderr",
     "output_type": "stream",
     "text": [
      "      16/40      9.34G      2.827      1.841     0.8602        169        640: 100%|██████████| 50/50 [20:42<00:00, 24.86s/it] \n",
      "                 Class     Images  Instances      Box(P          R      mAP50  mAP50-95): 100%|██████████| 1/1 [00:01<00:00,  1.34s/it]"
     ]
    },
    {
     "name": "stdout",
     "output_type": "stream",
     "text": [
      "                   all         15        505      0.448      0.307      0.298     0.0783\n"
     ]
    },
    {
     "name": "stderr",
     "output_type": "stream",
     "text": [
      "\n"
     ]
    },
    {
     "name": "stdout",
     "output_type": "stream",
     "text": [
      "\n",
      "      Epoch    GPU_mem   box_loss   cls_loss   dfl_loss  Instances       Size\n"
     ]
    },
    {
     "name": "stderr",
     "output_type": "stream",
     "text": [
      "      17/40      9.77G      2.839      1.757     0.8472        175        640: 100%|██████████| 50/50 [06:46<00:00,  8.14s/it]\n",
      "                 Class     Images  Instances      Box(P          R      mAP50  mAP50-95): 100%|██████████| 1/1 [00:01<00:00,  1.42s/it]"
     ]
    },
    {
     "name": "stdout",
     "output_type": "stream",
     "text": [
      "                   all         15        505       0.41      0.325      0.294     0.0771\n"
     ]
    },
    {
     "name": "stderr",
     "output_type": "stream",
     "text": [
      "\n"
     ]
    },
    {
     "name": "stdout",
     "output_type": "stream",
     "text": [
      "\n",
      "      Epoch    GPU_mem   box_loss   cls_loss   dfl_loss  Instances       Size\n"
     ]
    },
    {
     "name": "stderr",
     "output_type": "stream",
     "text": [
      "      18/40      9.97G      2.841      1.729     0.8574        383        640: 100%|██████████| 50/50 [05:02<00:00,  6.04s/it]\n",
      "                 Class     Images  Instances      Box(P          R      mAP50  mAP50-95): 100%|██████████| 1/1 [00:02<00:00,  2.12s/it]"
     ]
    },
    {
     "name": "stdout",
     "output_type": "stream",
     "text": [
      "                   all         15        505      0.375       0.42      0.319     0.0825\n"
     ]
    },
    {
     "name": "stderr",
     "output_type": "stream",
     "text": [
      "\n"
     ]
    },
    {
     "name": "stdout",
     "output_type": "stream",
     "text": [
      "\n",
      "      Epoch    GPU_mem   box_loss   cls_loss   dfl_loss  Instances       Size\n"
     ]
    },
    {
     "name": "stderr",
     "output_type": "stream",
     "text": [
      "      19/40       9.7G      2.787      1.742     0.8529        159        640: 100%|██████████| 50/50 [05:52<00:00,  7.05s/it]\n",
      "                 Class     Images  Instances      Box(P          R      mAP50  mAP50-95): 100%|██████████| 1/1 [00:01<00:00,  1.74s/it]"
     ]
    },
    {
     "name": "stdout",
     "output_type": "stream",
     "text": [
      "                   all         15        505      0.395      0.358      0.284     0.0673\n"
     ]
    },
    {
     "name": "stderr",
     "output_type": "stream",
     "text": [
      "\n"
     ]
    },
    {
     "name": "stdout",
     "output_type": "stream",
     "text": [
      "\n",
      "      Epoch    GPU_mem   box_loss   cls_loss   dfl_loss  Instances       Size\n"
     ]
    },
    {
     "name": "stderr",
     "output_type": "stream",
     "text": [
      "      20/40      9.74G      2.823      1.719     0.8441        100        640: 100%|██████████| 50/50 [03:43<00:00,  4.47s/it]\n",
      "                 Class     Images  Instances      Box(P          R      mAP50  mAP50-95): 100%|██████████| 1/1 [00:01<00:00,  1.87s/it]"
     ]
    },
    {
     "name": "stdout",
     "output_type": "stream",
     "text": [
      "                   all         15        505      0.385      0.352      0.286     0.0731\n"
     ]
    },
    {
     "name": "stderr",
     "output_type": "stream",
     "text": [
      "\n"
     ]
    },
    {
     "name": "stdout",
     "output_type": "stream",
     "text": [
      "\n",
      "      Epoch    GPU_mem   box_loss   cls_loss   dfl_loss  Instances       Size\n"
     ]
    },
    {
     "name": "stderr",
     "output_type": "stream",
     "text": [
      "      21/40      9.39G      2.832      1.701     0.8408        274        640: 100%|██████████| 50/50 [03:53<00:00,  4.68s/it]\n",
      "                 Class     Images  Instances      Box(P          R      mAP50  mAP50-95): 100%|██████████| 1/1 [00:01<00:00,  1.28s/it]"
     ]
    },
    {
     "name": "stdout",
     "output_type": "stream",
     "text": [
      "                   all         15        505      0.414      0.412      0.332     0.0914\n"
     ]
    },
    {
     "name": "stderr",
     "output_type": "stream",
     "text": [
      "\n"
     ]
    },
    {
     "name": "stdout",
     "output_type": "stream",
     "text": [
      "\n",
      "      Epoch    GPU_mem   box_loss   cls_loss   dfl_loss  Instances       Size\n"
     ]
    },
    {
     "name": "stderr",
     "output_type": "stream",
     "text": [
      "      22/40      9.68G      2.766      1.727     0.8411        186        640: 100%|██████████| 50/50 [03:44<00:00,  4.49s/it]\n",
      "                 Class     Images  Instances      Box(P          R      mAP50  mAP50-95): 100%|██████████| 1/1 [00:01<00:00,  1.79s/it]"
     ]
    },
    {
     "name": "stdout",
     "output_type": "stream",
     "text": [
      "                   all         15        505      0.409       0.39      0.313     0.0767\n"
     ]
    },
    {
     "name": "stderr",
     "output_type": "stream",
     "text": [
      "\n"
     ]
    },
    {
     "name": "stdout",
     "output_type": "stream",
     "text": [
      "\n",
      "      Epoch    GPU_mem   box_loss   cls_loss   dfl_loss  Instances       Size\n"
     ]
    },
    {
     "name": "stderr",
     "output_type": "stream",
     "text": [
      "      23/40      9.27G      2.747      1.682      0.844        142        640: 100%|██████████| 50/50 [03:30<00:00,  4.20s/it]\n",
      "                 Class     Images  Instances      Box(P          R      mAP50  mAP50-95): 100%|██████████| 1/1 [00:00<00:00,  1.04it/s]"
     ]
    },
    {
     "name": "stdout",
     "output_type": "stream",
     "text": [
      "                   all         15        505      0.409      0.358      0.304     0.0746\n"
     ]
    },
    {
     "name": "stderr",
     "output_type": "stream",
     "text": [
      "\n"
     ]
    },
    {
     "name": "stdout",
     "output_type": "stream",
     "text": [
      "\n",
      "      Epoch    GPU_mem   box_loss   cls_loss   dfl_loss  Instances       Size\n"
     ]
    },
    {
     "name": "stderr",
     "output_type": "stream",
     "text": [
      "      24/40      9.77G      2.744      1.654     0.8334        173        640: 100%|██████████| 50/50 [04:31<00:00,  5.43s/it]\n",
      "                 Class     Images  Instances      Box(P          R      mAP50  mAP50-95): 100%|██████████| 1/1 [00:02<00:00,  2.82s/it]"
     ]
    },
    {
     "name": "stdout",
     "output_type": "stream",
     "text": [
      "                   all         15        505      0.312      0.392       0.23     0.0562\n"
     ]
    },
    {
     "name": "stderr",
     "output_type": "stream",
     "text": [
      "\n"
     ]
    },
    {
     "name": "stdout",
     "output_type": "stream",
     "text": [
      "\n",
      "      Epoch    GPU_mem   box_loss   cls_loss   dfl_loss  Instances       Size\n"
     ]
    },
    {
     "name": "stderr",
     "output_type": "stream",
     "text": [
      "      25/40      9.38G      2.783        1.7     0.8433        259        640: 100%|██████████| 50/50 [03:34<00:00,  4.28s/it]\n",
      "                 Class     Images  Instances      Box(P          R      mAP50  mAP50-95): 100%|██████████| 1/1 [00:01<00:00,  1.31s/it]"
     ]
    },
    {
     "name": "stdout",
     "output_type": "stream",
     "text": [
      "                   all         15        505      0.443      0.383      0.337     0.0841\n"
     ]
    },
    {
     "name": "stderr",
     "output_type": "stream",
     "text": [
      "\n"
     ]
    },
    {
     "name": "stdout",
     "output_type": "stream",
     "text": [
      "\n",
      "      Epoch    GPU_mem   box_loss   cls_loss   dfl_loss  Instances       Size\n"
     ]
    },
    {
     "name": "stderr",
     "output_type": "stream",
     "text": [
      "      26/40      9.49G      2.702      1.658     0.8384        320        640: 100%|██████████| 50/50 [03:22<00:00,  4.05s/it]\n",
      "                 Class     Images  Instances      Box(P          R      mAP50  mAP50-95): 100%|██████████| 1/1 [00:01<00:00,  1.33s/it]"
     ]
    },
    {
     "name": "stdout",
     "output_type": "stream",
     "text": [
      "                   all         15        505      0.458      0.394      0.332     0.0868\n"
     ]
    },
    {
     "name": "stderr",
     "output_type": "stream",
     "text": [
      "\n"
     ]
    },
    {
     "name": "stdout",
     "output_type": "stream",
     "text": [
      "\n",
      "      Epoch    GPU_mem   box_loss   cls_loss   dfl_loss  Instances       Size\n"
     ]
    },
    {
     "name": "stderr",
     "output_type": "stream",
     "text": [
      "      27/40      9.58G      2.731       1.68     0.8373        259        640: 100%|██████████| 50/50 [03:10<00:00,  3.82s/it]\n",
      "                 Class     Images  Instances      Box(P          R      mAP50  mAP50-95): 100%|██████████| 1/1 [00:00<00:00,  1.03it/s]"
     ]
    },
    {
     "name": "stdout",
     "output_type": "stream",
     "text": [
      "                   all         15        505      0.398      0.396      0.294     0.0741\n"
     ]
    },
    {
     "name": "stderr",
     "output_type": "stream",
     "text": [
      "\n"
     ]
    },
    {
     "name": "stdout",
     "output_type": "stream",
     "text": [
      "\n",
      "      Epoch    GPU_mem   box_loss   cls_loss   dfl_loss  Instances       Size\n"
     ]
    },
    {
     "name": "stderr",
     "output_type": "stream",
     "text": [
      "      28/40      9.76G      2.713      1.636     0.8392        186        640: 100%|██████████| 50/50 [03:58<00:00,  4.78s/it]\n",
      "                 Class     Images  Instances      Box(P          R      mAP50  mAP50-95): 100%|██████████| 1/1 [00:01<00:00,  1.58s/it]"
     ]
    },
    {
     "name": "stdout",
     "output_type": "stream",
     "text": [
      "                   all         15        505      0.389      0.408      0.295     0.0774\n"
     ]
    },
    {
     "name": "stderr",
     "output_type": "stream",
     "text": [
      "\n"
     ]
    },
    {
     "name": "stdout",
     "output_type": "stream",
     "text": [
      "\n",
      "      Epoch    GPU_mem   box_loss   cls_loss   dfl_loss  Instances       Size\n"
     ]
    },
    {
     "name": "stderr",
     "output_type": "stream",
     "text": [
      "      29/40      9.51G      2.716      1.649     0.8387        245        640: 100%|██████████| 50/50 [03:18<00:00,  3.98s/it]\n",
      "                 Class     Images  Instances      Box(P          R      mAP50  mAP50-95): 100%|██████████| 1/1 [00:00<00:00,  1.03it/s]"
     ]
    },
    {
     "name": "stdout",
     "output_type": "stream",
     "text": [
      "                   all         15        505      0.469      0.333      0.327     0.0859\n"
     ]
    },
    {
     "name": "stderr",
     "output_type": "stream",
     "text": [
      "\n"
     ]
    },
    {
     "name": "stdout",
     "output_type": "stream",
     "text": [
      "\n",
      "      Epoch    GPU_mem   box_loss   cls_loss   dfl_loss  Instances       Size\n"
     ]
    },
    {
     "name": "stderr",
     "output_type": "stream",
     "text": [
      "      30/40      9.28G      2.767      1.699     0.8407        203        640: 100%|██████████| 50/50 [04:02<00:00,  4.86s/it]\n",
      "                 Class     Images  Instances      Box(P          R      mAP50  mAP50-95): 100%|██████████| 1/1 [00:01<00:00,  1.06s/it]"
     ]
    },
    {
     "name": "stdout",
     "output_type": "stream",
     "text": [
      "                   all         15        505      0.362      0.349      0.272     0.0711\n"
     ]
    },
    {
     "name": "stderr",
     "output_type": "stream",
     "text": [
      "\n"
     ]
    },
    {
     "name": "stdout",
     "output_type": "stream",
     "text": [
      "Closing dataloader mosaic\n",
      "\u001b[34m\u001b[1malbumentations: \u001b[0mBlur(p=0.01, blur_limit=(3, 7)), MedianBlur(p=0.01, blur_limit=(3, 7)), ToGray(p=0.01), CLAHE(p=0.01, clip_limit=(1, 4.0), tile_grid_size=(8, 8))\n",
      "\n",
      "      Epoch    GPU_mem   box_loss   cls_loss   dfl_loss  Instances       Size\n"
     ]
    },
    {
     "name": "stderr",
     "output_type": "stream",
     "text": [
      "      31/40      9.57G      2.716       1.71     0.8547        120        640: 100%|██████████| 50/50 [03:38<00:00,  4.36s/it]\n",
      "                 Class     Images  Instances      Box(P          R      mAP50  mAP50-95): 100%|██████████| 1/1 [00:00<00:00,  1.11it/s]"
     ]
    },
    {
     "name": "stdout",
     "output_type": "stream",
     "text": [
      "                   all         15        505      0.347      0.333      0.237     0.0587\n"
     ]
    },
    {
     "name": "stderr",
     "output_type": "stream",
     "text": [
      "\n"
     ]
    },
    {
     "name": "stdout",
     "output_type": "stream",
     "text": [
      "\n",
      "      Epoch    GPU_mem   box_loss   cls_loss   dfl_loss  Instances       Size\n"
     ]
    },
    {
     "name": "stderr",
     "output_type": "stream",
     "text": [
      "      32/40      9.36G      2.648      1.712     0.8373        129        640: 100%|██████████| 50/50 [03:20<00:00,  4.01s/it]\n",
      "                 Class     Images  Instances      Box(P          R      mAP50  mAP50-95): 100%|██████████| 1/1 [00:01<00:00,  1.63s/it]"
     ]
    },
    {
     "name": "stdout",
     "output_type": "stream",
     "text": [
      "                   all         15        505      0.413      0.392      0.336     0.0887\n"
     ]
    },
    {
     "name": "stderr",
     "output_type": "stream",
     "text": [
      "\n"
     ]
    },
    {
     "name": "stdout",
     "output_type": "stream",
     "text": [
      "\n",
      "      Epoch    GPU_mem   box_loss   cls_loss   dfl_loss  Instances       Size\n"
     ]
    },
    {
     "name": "stderr",
     "output_type": "stream",
     "text": [
      "      33/40      9.97G      2.692       1.68     0.8468         73        640: 100%|██████████| 50/50 [04:42<00:00,  5.65s/it]\n",
      "                 Class     Images  Instances      Box(P          R      mAP50  mAP50-95): 100%|██████████| 1/1 [00:02<00:00,  2.73s/it]"
     ]
    },
    {
     "name": "stdout",
     "output_type": "stream",
     "text": [
      "                   all         15        505      0.408      0.335      0.275     0.0695\n"
     ]
    },
    {
     "name": "stderr",
     "output_type": "stream",
     "text": [
      "\n"
     ]
    },
    {
     "name": "stdout",
     "output_type": "stream",
     "text": [
      "\n",
      "      Epoch    GPU_mem   box_loss   cls_loss   dfl_loss  Instances       Size\n"
     ]
    },
    {
     "name": "stderr",
     "output_type": "stream",
     "text": [
      "      34/40      9.39G      2.666      1.586     0.8417        135        640: 100%|██████████| 50/50 [03:48<00:00,  4.57s/it]\n",
      "                 Class     Images  Instances      Box(P          R      mAP50  mAP50-95): 100%|██████████| 1/1 [00:01<00:00,  1.18s/it]"
     ]
    },
    {
     "name": "stdout",
     "output_type": "stream",
     "text": [
      "                   all         15        505      0.379      0.349      0.276     0.0664\n"
     ]
    },
    {
     "name": "stderr",
     "output_type": "stream",
     "text": [
      "\n"
     ]
    },
    {
     "name": "stdout",
     "output_type": "stream",
     "text": [
      "\n",
      "      Epoch    GPU_mem   box_loss   cls_loss   dfl_loss  Instances       Size\n"
     ]
    },
    {
     "name": "stderr",
     "output_type": "stream",
     "text": [
      "      35/40       9.8G      2.605      1.618     0.8506         96        640: 100%|██████████| 50/50 [03:18<00:00,  3.98s/it]\n",
      "                 Class     Images  Instances      Box(P          R      mAP50  mAP50-95): 100%|██████████| 1/1 [00:01<00:00,  1.07s/it]"
     ]
    },
    {
     "name": "stdout",
     "output_type": "stream",
     "text": [
      "                   all         15        505       0.38      0.368      0.283     0.0715\n"
     ]
    },
    {
     "name": "stderr",
     "output_type": "stream",
     "text": [
      "\n"
     ]
    },
    {
     "name": "stdout",
     "output_type": "stream",
     "text": [
      "\n",
      "      Epoch    GPU_mem   box_loss   cls_loss   dfl_loss  Instances       Size\n"
     ]
    },
    {
     "name": "stderr",
     "output_type": "stream",
     "text": [
      "      36/40      9.76G      2.633      1.595     0.8464        156        640: 100%|██████████| 50/50 [06:44<00:00,  8.08s/it]\n",
      "                 Class     Images  Instances      Box(P          R      mAP50  mAP50-95): 100%|██████████| 1/1 [00:03<00:00,  3.77s/it]"
     ]
    },
    {
     "name": "stdout",
     "output_type": "stream",
     "text": [
      "                   all         15        505      0.409      0.358        0.3     0.0733\n"
     ]
    },
    {
     "name": "stderr",
     "output_type": "stream",
     "text": [
      "\n"
     ]
    },
    {
     "name": "stdout",
     "output_type": "stream",
     "text": [
      "\n",
      "      Epoch    GPU_mem   box_loss   cls_loss   dfl_loss  Instances       Size\n"
     ]
    },
    {
     "name": "stderr",
     "output_type": "stream",
     "text": [
      "      37/40       9.3G      2.599      1.581     0.8366        124        640: 100%|██████████| 50/50 [05:12<00:00,  6.25s/it]\n",
      "                 Class     Images  Instances      Box(P          R      mAP50  mAP50-95): 100%|██████████| 1/1 [00:01<00:00,  1.33s/it]"
     ]
    },
    {
     "name": "stdout",
     "output_type": "stream",
     "text": [
      "                   all         15        505      0.395      0.387       0.32     0.0783\n"
     ]
    },
    {
     "name": "stderr",
     "output_type": "stream",
     "text": [
      "\n"
     ]
    },
    {
     "name": "stdout",
     "output_type": "stream",
     "text": [
      "\n",
      "      Epoch    GPU_mem   box_loss   cls_loss   dfl_loss  Instances       Size\n"
     ]
    },
    {
     "name": "stderr",
     "output_type": "stream",
     "text": [
      "      38/40       9.4G      2.589      1.596     0.8424         70        640: 100%|██████████| 50/50 [04:36<00:00,  5.53s/it]\n",
      "                 Class     Images  Instances      Box(P          R      mAP50  mAP50-95): 100%|██████████| 1/1 [00:01<00:00,  1.92s/it]"
     ]
    },
    {
     "name": "stdout",
     "output_type": "stream",
     "text": [
      "                   all         15        505      0.411      0.364      0.298     0.0739\n"
     ]
    },
    {
     "name": "stderr",
     "output_type": "stream",
     "text": [
      "\n"
     ]
    },
    {
     "name": "stdout",
     "output_type": "stream",
     "text": [
      "\n",
      "      Epoch    GPU_mem   box_loss   cls_loss   dfl_loss  Instances       Size\n"
     ]
    },
    {
     "name": "stderr",
     "output_type": "stream",
     "text": [
      "      39/40      9.56G      2.588      1.575     0.8391        175        640: 100%|██████████| 50/50 [05:59<00:00,  7.19s/it]\n",
      "                 Class     Images  Instances      Box(P          R      mAP50  mAP50-95): 100%|██████████| 1/1 [00:01<00:00,  1.11s/it]"
     ]
    },
    {
     "name": "stdout",
     "output_type": "stream",
     "text": [
      "                   all         15        505      0.436       0.41      0.335     0.0848\n"
     ]
    },
    {
     "name": "stderr",
     "output_type": "stream",
     "text": [
      "\n"
     ]
    },
    {
     "name": "stdout",
     "output_type": "stream",
     "text": [
      "\n",
      "      Epoch    GPU_mem   box_loss   cls_loss   dfl_loss  Instances       Size\n"
     ]
    },
    {
     "name": "stderr",
     "output_type": "stream",
     "text": [
      "      40/40      9.39G      2.589      1.578     0.8465        112        640: 100%|██████████| 50/50 [03:02<00:00,  3.64s/it]\n",
      "                 Class     Images  Instances      Box(P          R      mAP50  mAP50-95): 100%|██████████| 1/1 [00:00<00:00,  1.13it/s]"
     ]
    },
    {
     "name": "stdout",
     "output_type": "stream",
     "text": [
      "                   all         15        505      0.394      0.358      0.277     0.0712\n"
     ]
    },
    {
     "name": "stderr",
     "output_type": "stream",
     "text": [
      "\n"
     ]
    },
    {
     "name": "stdout",
     "output_type": "stream",
     "text": [
      "\n",
      "40 epochs completed in 3.518 hours.\n",
      "Optimizer stripped from runs\\detect\\train\\weights\\last.pt, 40.5MB\n",
      "Optimizer stripped from runs\\detect\\train\\weights\\best.pt, 40.5MB\n",
      "\n",
      "Validating runs\\detect\\train\\weights\\best.pt...\n",
      "Ultralytics 8.3.13  Python-3.9.2 torch-2.1.0+cu118 CUDA:0 (NVIDIA GeForce GTX 1070, 8192MiB)\n",
      "YOLO11m summary (fused): 303 layers, 20,030,803 parameters, 0 gradients, 67.6 GFLOPs\n"
     ]
    },
    {
     "name": "stderr",
     "output_type": "stream",
     "text": [
      "                 Class     Images  Instances      Box(P          R      mAP50  mAP50-95): 100%|██████████| 1/1 [00:00<00:00,  1.31it/s]\n"
     ]
    },
    {
     "name": "stdout",
     "output_type": "stream",
     "text": [
      "                   all         15        505      0.413       0.41      0.331      0.091\n",
      "Speed: 0.7ms preprocess, 29.9ms inference, 0.0ms loss, 1.5ms postprocess per image\n",
      "Results saved to \u001b[1mruns\\detect\\train\u001b[0m\n"
     ]
    },
    {
     "data": {
      "text/html": [
       "<style>\n",
       "    table.wandb td:nth-child(1) { padding: 0 10px; text-align: left ; width: auto;} td:nth-child(2) {text-align: left ; width: 100%}\n",
       "    .wandb-row { display: flex; flex-direction: row; flex-wrap: wrap; justify-content: flex-start; width: 100% }\n",
       "    .wandb-col { display: flex; flex-direction: column; flex-basis: 100%; flex: 1; padding: 10px; }\n",
       "    </style>\n",
       "<div class=\"wandb-row\"><div class=\"wandb-col\"><h3>Run history:</h3><br/><table class=\"wandb\"><tr><td>lr/pg0</td><td>▃▆███▇▇▇▇▇▇▆▆▆▆▆▅▅▅▅▅▄▄▄▄▄▃▃▃▃▃▃▂▂▂▂▂▁▁▁</td></tr><tr><td>lr/pg1</td><td>▃▆███▇▇▇▇▇▇▆▆▆▆▆▅▅▅▅▅▄▄▄▄▄▃▃▃▃▃▃▂▂▂▂▂▁▁▁</td></tr><tr><td>lr/pg2</td><td>▃▆███▇▇▇▇▇▇▆▆▆▆▆▅▅▅▅▅▄▄▄▄▄▃▃▃▃▃▃▂▂▂▂▂▁▁▁</td></tr><tr><td>metrics/mAP50(B)</td><td>▁▁▁▄▁▃▅▅▆▇▆▄▇▅▇▇▇█▇▇█▇▇▆██▇▇█▇▆█▇▇▇▇█▇██</td></tr><tr><td>metrics/mAP50-95(B)</td><td>▁▁▁▄▁▃▅▄▅▆▆▄▆▅▆▇▇▇▆▇█▇▇▅▇█▇▇█▆▅█▆▆▆▇▇▇▇█</td></tr><tr><td>metrics/precision(B)</td><td>▁▁▁▅▁▄▆▅▆▇▆▅▆▆▇█▇▇▇▇▇▇▇▆██▇▇█▆▆▇▇▇▇▇▇▇▇▇</td></tr><tr><td>metrics/recall(B)</td><td>▂▁▁▅▃▅▆▆▆▇▆▅▇▅▆▆▆█▇▇█▇▇▇▇███▆▇▆▇▆▇▇▇▇▇██</td></tr><tr><td>model/GFLOPs</td><td>▁</td></tr><tr><td>model/parameters</td><td>▁</td></tr><tr><td>model/speed_PyTorch(ms)</td><td>▁</td></tr><tr><td>train/box_loss</td><td>█▇▆▆▆▆▆▅▅▅▅▄▄▄▄▃▄▄▃▃▃▃▃▃▃▂▂▂▂▃▂▂▂▂▁▁▁▁▁▁</td></tr><tr><td>train/cls_loss</td><td>█▂▂▂▂▂▂▂▂▂▂▂▂▂▂▂▁▁▁▁▁▁▁▁▁▁▁▁▁▁▁▁▁▁▁▁▁▁▁▁</td></tr><tr><td>train/dfl_loss</td><td>█▄▄▄▄▄▄▃▃▃▃▃▂▂▂▃▂▃▂▂▁▁▂▁▂▁▁▁▁▁▂▁▂▂▂▂▁▂▁▂</td></tr><tr><td>val/box_loss</td><td>█ ▅▂▄▃▂▃▂▁▂▃▂▂▂▁▁▁▂▂▁▁▂▂▁▁▁▁▂▁▂▁▂▂▂▂▂▂▁▂</td></tr><tr><td>val/cls_loss</td><td>   ▁█▁▁▁▁▁▁▁▁▁▁▁▁▁▁▁▁▁▁▁▁▁▁▁▁▁▁▁▁▁▁▁▁▁▁▁</td></tr><tr><td>val/dfl_loss</td><td>█ ▄▂▃▂▁▂▂▁▂▂▂▂▁▁▁▁▁▁▁▁▁▁▁▁▁▁▁▁▁▁▁▁▁▁▁▁▁▁</td></tr></table><br/></div><div class=\"wandb-col\"><h3>Run summary:</h3><br/><table class=\"wandb\"><tr><td>lr/pg0</td><td>7e-05</td></tr><tr><td>lr/pg1</td><td>7e-05</td></tr><tr><td>lr/pg2</td><td>7e-05</td></tr><tr><td>metrics/mAP50(B)</td><td>0.3311</td></tr><tr><td>metrics/mAP50-95(B)</td><td>0.09102</td></tr><tr><td>metrics/precision(B)</td><td>0.41287</td></tr><tr><td>metrics/recall(B)</td><td>0.4099</td></tr><tr><td>model/GFLOPs</td><td>68.189</td></tr><tr><td>model/parameters</td><td>20053779</td></tr><tr><td>model/speed_PyTorch(ms)</td><td>185.462</td></tr><tr><td>train/box_loss</td><td>2.58923</td></tr><tr><td>train/cls_loss</td><td>1.57798</td></tr><tr><td>train/dfl_loss</td><td>0.84648</td></tr><tr><td>val/box_loss</td><td>3.06552</td></tr><tr><td>val/cls_loss</td><td>1.66702</td></tr><tr><td>val/dfl_loss</td><td>0.88995</td></tr></table><br/></div></div>"
      ],
      "text/plain": [
       "<IPython.core.display.HTML object>"
      ]
     },
     "metadata": {},
     "output_type": "display_data"
    },
    {
     "data": {
      "text/html": [
       " View run <strong style=\"color:#cdcd00\">yolo_11M</strong> at: <a href='https://wandb.ai/craftyea-narfu/diploma/runs/3c3eigcq' target=\"_blank\">https://wandb.ai/craftyea-narfu/diploma/runs/3c3eigcq</a><br/> View project at: <a href='https://wandb.ai/craftyea-narfu/diploma' target=\"_blank\">https://wandb.ai/craftyea-narfu/diploma</a><br/>Synced 5 W&B file(s), 0 media file(s), 10 artifact file(s) and 20 other file(s)"
      ],
      "text/plain": [
       "<IPython.core.display.HTML object>"
      ]
     },
     "metadata": {},
     "output_type": "display_data"
    },
    {
     "data": {
      "text/html": [
       "Find logs at: <code>.\\wandb\\run-20250412_224524-3c3eigcq\\logs</code>"
      ],
      "text/plain": [
       "<IPython.core.display.HTML object>"
      ]
     },
     "metadata": {},
     "output_type": "display_data"
    },
    {
     "data": {
      "text/plain": [
       "ultralytics.utils.metrics.DetMetrics object with attributes:\n",
       "\n",
       "ap_class_index: array([0])\n",
       "box: ultralytics.utils.metrics.Metric object\n",
       "confusion_matrix: <ultralytics.utils.metrics.ConfusionMatrix object at 0x0000019BA2366AF0>\n",
       "curves: ['Precision-Recall(B)', 'F1-Confidence(B)', 'Precision-Confidence(B)', 'Recall-Confidence(B)']\n",
       "curves_results: [[array([          0,    0.001001,    0.002002,    0.003003,    0.004004,    0.005005,    0.006006,    0.007007,    0.008008,    0.009009,     0.01001,    0.011011,    0.012012,    0.013013,    0.014014,    0.015015,    0.016016,    0.017017,    0.018018,    0.019019,     0.02002,    0.021021,    0.022022,    0.023023,\n",
       "          0.024024,    0.025025,    0.026026,    0.027027,    0.028028,    0.029029,     0.03003,    0.031031,    0.032032,    0.033033,    0.034034,    0.035035,    0.036036,    0.037037,    0.038038,    0.039039,     0.04004,    0.041041,    0.042042,    0.043043,    0.044044,    0.045045,    0.046046,    0.047047,\n",
       "          0.048048,    0.049049,     0.05005,    0.051051,    0.052052,    0.053053,    0.054054,    0.055055,    0.056056,    0.057057,    0.058058,    0.059059,     0.06006,    0.061061,    0.062062,    0.063063,    0.064064,    0.065065,    0.066066,    0.067067,    0.068068,    0.069069,     0.07007,    0.071071,\n",
       "          0.072072,    0.073073,    0.074074,    0.075075,    0.076076,    0.077077,    0.078078,    0.079079,     0.08008,    0.081081,    0.082082,    0.083083,    0.084084,    0.085085,    0.086086,    0.087087,    0.088088,    0.089089,     0.09009,    0.091091,    0.092092,    0.093093,    0.094094,    0.095095,\n",
       "          0.096096,    0.097097,    0.098098,    0.099099,      0.1001,      0.1011,      0.1021,      0.1031,      0.1041,     0.10511,     0.10611,     0.10711,     0.10811,     0.10911,     0.11011,     0.11111,     0.11211,     0.11311,     0.11411,     0.11512,     0.11612,     0.11712,     0.11812,     0.11912,\n",
       "           0.12012,     0.12112,     0.12212,     0.12312,     0.12412,     0.12513,     0.12613,     0.12713,     0.12813,     0.12913,     0.13013,     0.13113,     0.13213,     0.13313,     0.13413,     0.13514,     0.13614,     0.13714,     0.13814,     0.13914,     0.14014,     0.14114,     0.14214,     0.14314,\n",
       "           0.14414,     0.14515,     0.14615,     0.14715,     0.14815,     0.14915,     0.15015,     0.15115,     0.15215,     0.15315,     0.15415,     0.15516,     0.15616,     0.15716,     0.15816,     0.15916,     0.16016,     0.16116,     0.16216,     0.16316,     0.16416,     0.16517,     0.16617,     0.16717,\n",
       "           0.16817,     0.16917,     0.17017,     0.17117,     0.17217,     0.17317,     0.17417,     0.17518,     0.17618,     0.17718,     0.17818,     0.17918,     0.18018,     0.18118,     0.18218,     0.18318,     0.18418,     0.18519,     0.18619,     0.18719,     0.18819,     0.18919,     0.19019,     0.19119,\n",
       "           0.19219,     0.19319,     0.19419,      0.1952,      0.1962,      0.1972,      0.1982,      0.1992,      0.2002,      0.2012,      0.2022,      0.2032,      0.2042,     0.20521,     0.20621,     0.20721,     0.20821,     0.20921,     0.21021,     0.21121,     0.21221,     0.21321,     0.21421,     0.21522,\n",
       "           0.21622,     0.21722,     0.21822,     0.21922,     0.22022,     0.22122,     0.22222,     0.22322,     0.22422,     0.22523,     0.22623,     0.22723,     0.22823,     0.22923,     0.23023,     0.23123,     0.23223,     0.23323,     0.23423,     0.23524,     0.23624,     0.23724,     0.23824,     0.23924,\n",
       "           0.24024,     0.24124,     0.24224,     0.24324,     0.24424,     0.24525,     0.24625,     0.24725,     0.24825,     0.24925,     0.25025,     0.25125,     0.25225,     0.25325,     0.25425,     0.25526,     0.25626,     0.25726,     0.25826,     0.25926,     0.26026,     0.26126,     0.26226,     0.26326,\n",
       "           0.26426,     0.26527,     0.26627,     0.26727,     0.26827,     0.26927,     0.27027,     0.27127,     0.27227,     0.27327,     0.27427,     0.27528,     0.27628,     0.27728,     0.27828,     0.27928,     0.28028,     0.28128,     0.28228,     0.28328,     0.28428,     0.28529,     0.28629,     0.28729,\n",
       "           0.28829,     0.28929,     0.29029,     0.29129,     0.29229,     0.29329,     0.29429,      0.2953,      0.2963,      0.2973,      0.2983,      0.2993,      0.3003,      0.3013,      0.3023,      0.3033,      0.3043,     0.30531,     0.30631,     0.30731,     0.30831,     0.30931,     0.31031,     0.31131,\n",
       "           0.31231,     0.31331,     0.31431,     0.31532,     0.31632,     0.31732,     0.31832,     0.31932,     0.32032,     0.32132,     0.32232,     0.32332,     0.32432,     0.32533,     0.32633,     0.32733,     0.32833,     0.32933,     0.33033,     0.33133,     0.33233,     0.33333,     0.33433,     0.33534,\n",
       "           0.33634,     0.33734,     0.33834,     0.33934,     0.34034,     0.34134,     0.34234,     0.34334,     0.34434,     0.34535,     0.34635,     0.34735,     0.34835,     0.34935,     0.35035,     0.35135,     0.35235,     0.35335,     0.35435,     0.35536,     0.35636,     0.35736,     0.35836,     0.35936,\n",
       "           0.36036,     0.36136,     0.36236,     0.36336,     0.36436,     0.36537,     0.36637,     0.36737,     0.36837,     0.36937,     0.37037,     0.37137,     0.37237,     0.37337,     0.37437,     0.37538,     0.37638,     0.37738,     0.37838,     0.37938,     0.38038,     0.38138,     0.38238,     0.38338,\n",
       "           0.38438,     0.38539,     0.38639,     0.38739,     0.38839,     0.38939,     0.39039,     0.39139,     0.39239,     0.39339,     0.39439,      0.3954,      0.3964,      0.3974,      0.3984,      0.3994,      0.4004,      0.4014,      0.4024,      0.4034,      0.4044,     0.40541,     0.40641,     0.40741,\n",
       "           0.40841,     0.40941,     0.41041,     0.41141,     0.41241,     0.41341,     0.41441,     0.41542,     0.41642,     0.41742,     0.41842,     0.41942,     0.42042,     0.42142,     0.42242,     0.42342,     0.42442,     0.42543,     0.42643,     0.42743,     0.42843,     0.42943,     0.43043,     0.43143,\n",
       "           0.43243,     0.43343,     0.43443,     0.43544,     0.43644,     0.43744,     0.43844,     0.43944,     0.44044,     0.44144,     0.44244,     0.44344,     0.44444,     0.44545,     0.44645,     0.44745,     0.44845,     0.44945,     0.45045,     0.45145,     0.45245,     0.45345,     0.45445,     0.45546,\n",
       "           0.45646,     0.45746,     0.45846,     0.45946,     0.46046,     0.46146,     0.46246,     0.46346,     0.46446,     0.46547,     0.46647,     0.46747,     0.46847,     0.46947,     0.47047,     0.47147,     0.47247,     0.47347,     0.47447,     0.47548,     0.47648,     0.47748,     0.47848,     0.47948,\n",
       "           0.48048,     0.48148,     0.48248,     0.48348,     0.48448,     0.48549,     0.48649,     0.48749,     0.48849,     0.48949,     0.49049,     0.49149,     0.49249,     0.49349,     0.49449,      0.4955,      0.4965,      0.4975,      0.4985,      0.4995,      0.5005,      0.5015,      0.5025,      0.5035,\n",
       "            0.5045,     0.50551,     0.50651,     0.50751,     0.50851,     0.50951,     0.51051,     0.51151,     0.51251,     0.51351,     0.51451,     0.51552,     0.51652,     0.51752,     0.51852,     0.51952,     0.52052,     0.52152,     0.52252,     0.52352,     0.52452,     0.52553,     0.52653,     0.52753,\n",
       "           0.52853,     0.52953,     0.53053,     0.53153,     0.53253,     0.53353,     0.53453,     0.53554,     0.53654,     0.53754,     0.53854,     0.53954,     0.54054,     0.54154,     0.54254,     0.54354,     0.54454,     0.54555,     0.54655,     0.54755,     0.54855,     0.54955,     0.55055,     0.55155,\n",
       "           0.55255,     0.55355,     0.55455,     0.55556,     0.55656,     0.55756,     0.55856,     0.55956,     0.56056,     0.56156,     0.56256,     0.56356,     0.56456,     0.56557,     0.56657,     0.56757,     0.56857,     0.56957,     0.57057,     0.57157,     0.57257,     0.57357,     0.57457,     0.57558,\n",
       "           0.57658,     0.57758,     0.57858,     0.57958,     0.58058,     0.58158,     0.58258,     0.58358,     0.58458,     0.58559,     0.58659,     0.58759,     0.58859,     0.58959,     0.59059,     0.59159,     0.59259,     0.59359,     0.59459,      0.5956,      0.5966,      0.5976,      0.5986,      0.5996,\n",
       "            0.6006,      0.6016,      0.6026,      0.6036,      0.6046,     0.60561,     0.60661,     0.60761,     0.60861,     0.60961,     0.61061,     0.61161,     0.61261,     0.61361,     0.61461,     0.61562,     0.61662,     0.61762,     0.61862,     0.61962,     0.62062,     0.62162,     0.62262,     0.62362,\n",
       "           0.62462,     0.62563,     0.62663,     0.62763,     0.62863,     0.62963,     0.63063,     0.63163,     0.63263,     0.63363,     0.63463,     0.63564,     0.63664,     0.63764,     0.63864,     0.63964,     0.64064,     0.64164,     0.64264,     0.64364,     0.64464,     0.64565,     0.64665,     0.64765,\n",
       "           0.64865,     0.64965,     0.65065,     0.65165,     0.65265,     0.65365,     0.65465,     0.65566,     0.65666,     0.65766,     0.65866,     0.65966,     0.66066,     0.66166,     0.66266,     0.66366,     0.66466,     0.66567,     0.66667,     0.66767,     0.66867,     0.66967,     0.67067,     0.67167,\n",
       "           0.67267,     0.67367,     0.67467,     0.67568,     0.67668,     0.67768,     0.67868,     0.67968,     0.68068,     0.68168,     0.68268,     0.68368,     0.68468,     0.68569,     0.68669,     0.68769,     0.68869,     0.68969,     0.69069,     0.69169,     0.69269,     0.69369,     0.69469,      0.6957,\n",
       "            0.6967,      0.6977,      0.6987,      0.6997,      0.7007,      0.7017,      0.7027,      0.7037,      0.7047,     0.70571,     0.70671,     0.70771,     0.70871,     0.70971,     0.71071,     0.71171,     0.71271,     0.71371,     0.71471,     0.71572,     0.71672,     0.71772,     0.71872,     0.71972,\n",
       "           0.72072,     0.72172,     0.72272,     0.72372,     0.72472,     0.72573,     0.72673,     0.72773,     0.72873,     0.72973,     0.73073,     0.73173,     0.73273,     0.73373,     0.73473,     0.73574,     0.73674,     0.73774,     0.73874,     0.73974,     0.74074,     0.74174,     0.74274,     0.74374,\n",
       "           0.74474,     0.74575,     0.74675,     0.74775,     0.74875,     0.74975,     0.75075,     0.75175,     0.75275,     0.75375,     0.75475,     0.75576,     0.75676,     0.75776,     0.75876,     0.75976,     0.76076,     0.76176,     0.76276,     0.76376,     0.76476,     0.76577,     0.76677,     0.76777,\n",
       "           0.76877,     0.76977,     0.77077,     0.77177,     0.77277,     0.77377,     0.77477,     0.77578,     0.77678,     0.77778,     0.77878,     0.77978,     0.78078,     0.78178,     0.78278,     0.78378,     0.78478,     0.78579,     0.78679,     0.78779,     0.78879,     0.78979,     0.79079,     0.79179,\n",
       "           0.79279,     0.79379,     0.79479,      0.7958,      0.7968,      0.7978,      0.7988,      0.7998,      0.8008,      0.8018,      0.8028,      0.8038,      0.8048,     0.80581,     0.80681,     0.80781,     0.80881,     0.80981,     0.81081,     0.81181,     0.81281,     0.81381,     0.81481,     0.81582,\n",
       "           0.81682,     0.81782,     0.81882,     0.81982,     0.82082,     0.82182,     0.82282,     0.82382,     0.82482,     0.82583,     0.82683,     0.82783,     0.82883,     0.82983,     0.83083,     0.83183,     0.83283,     0.83383,     0.83483,     0.83584,     0.83684,     0.83784,     0.83884,     0.83984,\n",
       "           0.84084,     0.84184,     0.84284,     0.84384,     0.84484,     0.84585,     0.84685,     0.84785,     0.84885,     0.84985,     0.85085,     0.85185,     0.85285,     0.85385,     0.85485,     0.85586,     0.85686,     0.85786,     0.85886,     0.85986,     0.86086,     0.86186,     0.86286,     0.86386,\n",
       "           0.86486,     0.86587,     0.86687,     0.86787,     0.86887,     0.86987,     0.87087,     0.87187,     0.87287,     0.87387,     0.87487,     0.87588,     0.87688,     0.87788,     0.87888,     0.87988,     0.88088,     0.88188,     0.88288,     0.88388,     0.88488,     0.88589,     0.88689,     0.88789,\n",
       "           0.88889,     0.88989,     0.89089,     0.89189,     0.89289,     0.89389,     0.89489,      0.8959,      0.8969,      0.8979,      0.8989,      0.8999,      0.9009,      0.9019,      0.9029,      0.9039,      0.9049,     0.90591,     0.90691,     0.90791,     0.90891,     0.90991,     0.91091,     0.91191,\n",
       "           0.91291,     0.91391,     0.91491,     0.91592,     0.91692,     0.91792,     0.91892,     0.91992,     0.92092,     0.92192,     0.92292,     0.92392,     0.92492,     0.92593,     0.92693,     0.92793,     0.92893,     0.92993,     0.93093,     0.93193,     0.93293,     0.93393,     0.93493,     0.93594,\n",
       "           0.93694,     0.93794,     0.93894,     0.93994,     0.94094,     0.94194,     0.94294,     0.94394,     0.94494,     0.94595,     0.94695,     0.94795,     0.94895,     0.94995,     0.95095,     0.95195,     0.95295,     0.95395,     0.95495,     0.95596,     0.95696,     0.95796,     0.95896,     0.95996,\n",
       "           0.96096,     0.96196,     0.96296,     0.96396,     0.96496,     0.96597,     0.96697,     0.96797,     0.96897,     0.96997,     0.97097,     0.97197,     0.97297,     0.97397,     0.97497,     0.97598,     0.97698,     0.97798,     0.97898,     0.97998,     0.98098,     0.98198,     0.98298,     0.98398,\n",
       "           0.98498,     0.98599,     0.98699,     0.98799,     0.98899,     0.98999,     0.99099,     0.99199,     0.99299,     0.99399,     0.99499,       0.996,       0.997,       0.998,       0.999,           1]), array([[          1,           1,           1,           1,     0.73684,     0.73684,     0.73684,     0.73684,     0.73684,     0.73684,     0.73684,     0.73684,     0.73684,     0.73684,     0.73684,     0.73684,     0.73684,     0.73684,     0.73684,     0.73684,     0.73684,     0.73684,     0.73684,\n",
       "            0.73684,     0.73684,     0.73684,     0.73684,     0.73684,     0.73684,     0.73684,     0.73684,     0.73684,     0.73684,     0.73684,     0.73684,     0.73684,     0.73684,     0.73684,     0.73684,     0.73684,     0.73684,     0.73684,     0.73684,     0.73684,     0.73684,     0.73684,\n",
       "            0.73684,     0.73684,     0.73684,     0.73684,     0.73684,     0.73684,     0.73684,     0.73684,     0.73684,     0.73684,     0.73684,     0.73684,     0.73684,     0.73684,     0.73684,     0.73684,     0.73684,     0.73684,     0.73684,     0.73684,     0.73684,     0.73684,     0.73684,\n",
       "            0.73684,     0.73684,     0.73684,     0.73684,     0.73684,     0.73684,     0.73684,     0.73684,     0.73684,     0.73684,     0.73684,     0.73684,     0.73684,     0.73684,     0.73684,     0.70968,     0.70968,     0.70968,     0.70968,     0.70423,     0.70423,     0.70423,     0.70423,\n",
       "            0.70423,     0.70423,     0.70423,     0.70423,     0.70423,     0.70423,     0.70423,      0.7027,      0.7027,      0.7027,      0.7027,      0.7013,      0.7013,      0.7013,      0.7013,      0.6962,      0.6962,     0.69136,     0.69136,     0.68235,     0.68235,     0.68235,     0.68235,\n",
       "            0.67021,     0.67021,     0.67021,     0.67021,     0.67021,     0.67021,     0.67021,     0.67021,     0.67021,     0.67021,     0.66667,     0.66667,     0.66327,     0.66327,        0.66,        0.66,     0.65766,     0.65766,     0.65766,     0.65766,     0.65766,     0.65766,     0.65766,\n",
       "            0.65766,     0.65766,     0.65766,     0.65766,     0.65766,     0.65766,     0.65766,     0.65116,     0.65116,     0.65116,     0.65116,     0.65116,     0.65116,     0.65116,     0.65116,     0.65116,     0.65116,     0.65116,     0.65116,     0.65116,     0.65116,     0.65116,     0.65116,\n",
       "            0.65116,     0.65116,     0.65116,     0.65116,     0.65116,     0.65116,     0.64925,     0.64925,     0.64925,     0.64925,     0.64925,     0.64925,     0.64493,     0.64493,     0.64493,     0.64493,     0.64286,     0.64286,     0.64085,     0.64085,     0.63522,     0.63522,     0.63522,\n",
       "            0.63522,     0.63522,     0.63522,     0.63522,     0.63522,     0.63522,     0.63522,     0.63522,     0.63522,     0.63522,     0.63522,     0.63522,     0.63522,     0.63522,     0.63522,     0.63522,      0.6319,      0.6319,      0.6319,      0.6319,     0.63095,     0.63095,     0.63095,\n",
       "            0.63095,     0.63095,     0.63095,     0.62209,     0.62209,     0.61932,     0.61932,     0.61932,     0.61932,     0.61828,     0.61828,     0.61828,     0.61828,     0.61828,     0.61828,     0.61828,     0.61828,     0.61828,     0.61828,     0.61828,     0.61828,     0.61458,     0.61458,\n",
       "            0.61458,     0.61458,     0.61458,     0.61458,     0.59701,     0.59701,     0.59701,     0.59701,     0.59512,     0.59512,     0.59512,     0.59512,     0.58852,     0.58852,     0.56561,     0.56561,     0.56561,     0.56561,     0.56332,     0.56332,     0.56332,     0.56332,     0.56332,\n",
       "            0.56332,     0.56332,     0.56332,     0.55794,     0.55794,     0.54812,     0.54812,     0.54321,     0.54321,       0.532,       0.532,     0.53125,     0.53125,     0.53125,     0.53125,     0.53125,     0.53125,     0.52091,     0.52091,     0.51493,     0.51292,     0.51292,     0.49831,\n",
       "            0.49831,     0.49831,     0.49831,     0.49831,     0.49831,     0.49831,     0.49831,     0.49831,     0.49831,     0.49831,     0.49831,     0.49831,     0.49831,     0.49831,     0.49831,     0.49498,     0.49498,     0.48795,     0.48795,     0.48795,     0.48795,     0.48795,     0.48795,\n",
       "            0.48795,     0.48795,     0.48795,     0.48795,     0.48795,     0.48795,     0.48795,     0.48795,     0.48795,     0.48795,     0.48795,     0.48795,     0.48795,     0.48795,     0.48795,     0.48795,     0.48795,     0.48795,     0.48795,     0.48795,     0.48795,     0.48795,     0.48225,\n",
       "            0.48225,     0.48105,     0.48105,     0.48105,     0.48105,     0.47658,     0.47658,     0.47658,     0.47658,     0.47658,     0.47658,     0.47658,     0.47658,     0.47658,     0.47658,     0.47658,     0.47658,     0.47658,     0.47658,     0.47658,     0.47658,     0.47453,     0.47453,\n",
       "            0.47453,     0.47453,     0.47453,     0.47453,     0.47453,     0.47453,     0.47215,     0.47215,     0.46373,     0.46373,     0.46056,     0.46056,     0.46056,     0.46056,      0.4596,      0.4596,     0.45545,     0.45545,     0.45545,     0.44794,     0.44794,     0.44498,     0.44498,\n",
       "            0.44313,     0.44313,     0.44262,     0.44262,     0.44262,     0.44262,     0.44084,     0.44084,     0.43707,     0.43707,     0.43636,     0.43636,     0.42984,     0.42984,     0.42982,     0.42982,     0.42982,     0.42982,     0.42982,     0.42982,     0.42919,     0.42919,     0.42181,\n",
       "            0.42181,     0.42181,     0.42181,     0.42181,     0.42181,     0.42181,     0.42181,     0.42181,     0.42181,     0.42181,     0.42181,     0.42181,     0.42181,     0.42181,     0.42181,     0.42041,     0.42041,     0.41903,     0.41903,     0.41352,     0.41352,     0.41223,     0.41223,\n",
       "            0.41096,     0.41096,     0.40971,     0.40971,     0.40962,     0.40962,     0.40962,     0.40962,     0.40301,     0.40301,     0.40187,     0.40187,     0.39926,     0.39926,      0.3989,      0.3989,     0.39636,     0.39636,     0.38899,     0.38899,     0.38732,     0.38732,     0.38569,\n",
       "            0.38569,     0.38014,     0.38014,     0.37925,     0.37925,     0.37209,     0.37209,     0.37129,     0.37129,     0.36407,     0.36407,     0.36407,     0.36407,     0.36407,     0.36407,     0.36407,     0.36407,     0.36107,     0.35802,     0.35802,     0.35802,     0.35802,     0.35627,\n",
       "            0.35627,      0.3497,      0.3497,      0.3497,      0.3497,     0.34388,     0.34388,     0.34388,     0.34388,     0.34388,     0.34388,     0.34388,     0.34388,     0.33799,     0.33799,     0.33799,     0.33799,     0.33799,     0.33799,     0.32357,     0.32357,      0.3219,      0.3219,\n",
       "             0.3211,      0.3211,     0.31907,     0.31907,     0.31266,     0.31266,     0.31211,     0.31211,     0.31211,     0.31211,     0.31211,     0.31211,     0.30685,     0.30685,     0.30325,     0.30325,     0.30263,     0.30263,     0.29847,     0.29847,     0.29802,     0.29802,     0.29802,\n",
       "            0.29802,      0.2978,      0.2978,     0.29689,     0.29689,     0.29668,     0.29668,     0.29512,     0.29512,     0.29353,     0.29353,     0.29353,     0.29353,     0.29353,     0.29353,     0.29301,     0.29301,     0.29249,     0.29249,     0.28695,     0.28695,     0.28587,     0.28587,\n",
       "            0.27876,     0.27876,     0.27876,     0.27876,     0.27653,     0.27653,     0.27653,     0.27653,     0.27586,     0.27586,     0.27435,     0.27435,     0.27435,     0.27435,     0.27435,     0.27435,     0.27435,     0.27157,     0.27157,     0.27096,     0.27096,     0.27035,     0.27035,\n",
       "            0.27027,     0.27027,     0.26942,     0.26942,     0.26832,     0.26832,     0.26424,     0.26424,     0.25722,     0.25722,     0.25722,     0.25722,     0.25422,     0.25422,     0.25398,     0.25398,     0.24742,     0.24742,     0.23732,     0.23732,     0.23732,     0.23732,     0.23317,\n",
       "            0.23317,     0.22956,     0.22956,     0.22731,     0.22731,     0.22189,     0.22189,     0.21723,     0.21723,     0.21372,     0.21372,     0.21336,     0.21336,     0.21316,     0.21316,     0.20175,     0.20175,     0.20013,     0.20013,      0.1966,      0.1966,     0.19322,     0.19322,\n",
       "            0.18286,     0.18286,     0.18258,     0.18258,     0.17784,     0.17784,     0.17678,     0.17678,      0.1718,      0.1718,     0.16202,     0.16202,     0.15806,     0.15806,       0.152,       0.152,       0.152,       0.152,     0.15102,     0.15102,     0.13722,     0.13722,     0.13221,\n",
       "            0.13221,     0.11811,     0.11811,     0.11606,     0.11575,     0.11544,     0.11513,     0.11482,     0.11451,      0.1142,     0.11389,     0.11358,     0.11327,     0.11296,     0.11265,     0.11234,     0.11203,     0.11172,     0.11141,      0.1111,     0.11079,     0.11048,     0.11018,\n",
       "            0.10987,     0.10956,     0.10925,     0.10894,     0.10863,     0.10832,     0.10801,      0.1077,     0.10739,     0.10708,     0.10677,     0.10646,     0.10615,     0.10584,     0.10553,     0.10522,     0.10491,      0.1046,      0.1043,     0.10399,     0.10368,     0.10337,     0.10306,\n",
       "            0.10275,     0.10244,     0.10213,     0.10182,     0.10151,      0.1012,     0.10089,     0.10058,     0.10027,    0.099962,    0.099653,    0.099343,    0.099034,    0.098724,    0.098415,    0.098106,    0.097796,    0.097487,    0.097177,    0.096868,    0.096558,    0.096249,    0.095939,\n",
       "            0.09563,     0.09532,    0.095011,    0.094701,    0.094392,    0.094082,    0.093773,    0.093463,    0.093154,    0.092844,    0.092535,    0.092225,    0.091916,    0.091606,    0.091297,    0.090987,    0.090678,    0.090368,    0.090059,     0.08975,     0.08944,    0.089131,    0.088821,\n",
       "           0.088512,    0.088202,    0.087893,    0.087583,    0.087274,    0.086964,    0.086655,    0.086345,    0.086036,    0.085726,    0.085417,    0.085107,    0.084798,    0.084488,    0.084179,    0.083869,     0.08356,     0.08325,    0.082941,    0.082631,    0.082322,    0.082013,    0.081703,\n",
       "           0.081394,    0.081084,    0.080775,    0.080465,    0.080156,    0.079846,    0.079537,    0.079227,    0.078918,    0.078608,    0.078299,    0.077989,     0.07768,     0.07737,    0.077061,    0.076751,    0.076442,    0.076132,    0.075823,    0.075513,    0.075204,    0.074894,    0.074585,\n",
       "           0.074275,    0.073966,    0.073657,    0.073347,    0.073038,    0.072728,    0.072419,    0.072109,      0.0718,     0.07149,    0.071181,    0.070871,    0.070562,    0.070252,    0.069943,    0.069633,    0.069324,    0.069014,    0.068705,    0.068395,    0.068086,    0.067776,    0.067467,\n",
       "           0.067157,    0.066848,    0.066538,    0.066229,    0.065919,     0.06561,    0.065301,    0.064991,    0.064682,    0.064372,    0.064063,    0.063753,    0.063444,    0.063134,    0.062825,    0.062515,    0.062206,    0.061896,    0.061587,    0.061277,    0.060968,    0.060658,    0.060349,\n",
       "           0.060039,     0.05973,     0.05942,    0.059111,    0.058801,    0.058492,    0.058182,    0.057873,    0.057563,    0.057254,    0.056945,    0.056635,    0.056326,    0.056016,    0.055707,    0.055397,    0.055088,    0.054778,    0.054469,    0.054159,     0.05385,     0.05354,    0.053231,\n",
       "           0.052921,    0.052612,    0.052302,    0.051993,    0.051683,    0.051374,    0.051064,    0.050755,    0.050445,    0.050136,    0.049826,    0.049517,    0.049208,    0.048898,    0.048589,    0.048279,     0.04797,     0.04766,    0.047351,    0.047041,    0.046732,    0.046422,    0.046113,\n",
       "           0.045803,    0.045494,    0.045184,    0.044875,    0.044565,    0.044256,    0.043946,    0.043637,    0.043327,    0.043018,    0.042708,    0.042399,    0.042089,     0.04178,     0.04147,    0.041161,    0.040852,    0.040542,    0.040233,    0.039923,    0.039614,    0.039304,    0.038995,\n",
       "           0.038685,    0.038376,    0.038066,    0.037757,    0.037447,    0.037138,    0.036828,    0.036519,    0.036209,      0.0359,     0.03559,    0.035281,    0.034971,    0.034662,    0.034352,    0.034043,    0.033733,    0.033424,    0.033114,    0.032805,    0.032496,    0.032186,    0.031877,\n",
       "           0.031567,    0.031258,    0.030948,    0.030639,    0.030329,     0.03002,     0.02971,    0.029401,    0.029091,    0.028782,    0.028472,    0.028163,    0.027853,    0.027544,    0.027234,    0.026925,    0.026615,    0.026306,    0.025996,    0.025687,    0.025377,    0.025068,    0.024758,\n",
       "           0.024449,     0.02414,     0.02383,    0.023521,    0.023211,    0.022902,    0.022592,    0.022283,    0.021973,    0.021664,    0.021354,    0.021045,    0.020735,    0.020426,    0.020116,    0.019807,    0.019497,    0.019188,    0.018878,    0.018569,    0.018259,     0.01795,     0.01764,\n",
       "           0.017331,    0.017021,    0.016712,    0.016403,    0.016093,    0.015784,    0.015474,    0.015165,    0.014855,    0.014546,    0.014236,    0.013927,    0.013617,    0.013308,    0.012998,    0.012689,    0.012379,     0.01207,     0.01176,    0.011451,    0.011141,    0.010832,    0.010522,\n",
       "           0.010213,   0.0099034,   0.0095939,   0.0092844,    0.008975,   0.0086655,    0.008356,   0.0080465,    0.007737,   0.0074275,   0.0071181,   0.0068086,   0.0064991,   0.0061896,   0.0058801,   0.0055707,   0.0052612,   0.0049517,   0.0046422,   0.0043327,   0.0040233,   0.0037138,   0.0034043,\n",
       "          0.0030948,   0.0027853,   0.0024758,   0.0021664,   0.0018569,   0.0015474,   0.0012379,  0.00092844,  0.00061896,  0.00030948,           0]]), 'Recall', 'Precision'], [array([          0,    0.001001,    0.002002,    0.003003,    0.004004,    0.005005,    0.006006,    0.007007,    0.008008,    0.009009,     0.01001,    0.011011,    0.012012,    0.013013,    0.014014,    0.015015,    0.016016,    0.017017,    0.018018,    0.019019,     0.02002,    0.021021,    0.022022,    0.023023,\n",
       "          0.024024,    0.025025,    0.026026,    0.027027,    0.028028,    0.029029,     0.03003,    0.031031,    0.032032,    0.033033,    0.034034,    0.035035,    0.036036,    0.037037,    0.038038,    0.039039,     0.04004,    0.041041,    0.042042,    0.043043,    0.044044,    0.045045,    0.046046,    0.047047,\n",
       "          0.048048,    0.049049,     0.05005,    0.051051,    0.052052,    0.053053,    0.054054,    0.055055,    0.056056,    0.057057,    0.058058,    0.059059,     0.06006,    0.061061,    0.062062,    0.063063,    0.064064,    0.065065,    0.066066,    0.067067,    0.068068,    0.069069,     0.07007,    0.071071,\n",
       "          0.072072,    0.073073,    0.074074,    0.075075,    0.076076,    0.077077,    0.078078,    0.079079,     0.08008,    0.081081,    0.082082,    0.083083,    0.084084,    0.085085,    0.086086,    0.087087,    0.088088,    0.089089,     0.09009,    0.091091,    0.092092,    0.093093,    0.094094,    0.095095,\n",
       "          0.096096,    0.097097,    0.098098,    0.099099,      0.1001,      0.1011,      0.1021,      0.1031,      0.1041,     0.10511,     0.10611,     0.10711,     0.10811,     0.10911,     0.11011,     0.11111,     0.11211,     0.11311,     0.11411,     0.11512,     0.11612,     0.11712,     0.11812,     0.11912,\n",
       "           0.12012,     0.12112,     0.12212,     0.12312,     0.12412,     0.12513,     0.12613,     0.12713,     0.12813,     0.12913,     0.13013,     0.13113,     0.13213,     0.13313,     0.13413,     0.13514,     0.13614,     0.13714,     0.13814,     0.13914,     0.14014,     0.14114,     0.14214,     0.14314,\n",
       "           0.14414,     0.14515,     0.14615,     0.14715,     0.14815,     0.14915,     0.15015,     0.15115,     0.15215,     0.15315,     0.15415,     0.15516,     0.15616,     0.15716,     0.15816,     0.15916,     0.16016,     0.16116,     0.16216,     0.16316,     0.16416,     0.16517,     0.16617,     0.16717,\n",
       "           0.16817,     0.16917,     0.17017,     0.17117,     0.17217,     0.17317,     0.17417,     0.17518,     0.17618,     0.17718,     0.17818,     0.17918,     0.18018,     0.18118,     0.18218,     0.18318,     0.18418,     0.18519,     0.18619,     0.18719,     0.18819,     0.18919,     0.19019,     0.19119,\n",
       "           0.19219,     0.19319,     0.19419,      0.1952,      0.1962,      0.1972,      0.1982,      0.1992,      0.2002,      0.2012,      0.2022,      0.2032,      0.2042,     0.20521,     0.20621,     0.20721,     0.20821,     0.20921,     0.21021,     0.21121,     0.21221,     0.21321,     0.21421,     0.21522,\n",
       "           0.21622,     0.21722,     0.21822,     0.21922,     0.22022,     0.22122,     0.22222,     0.22322,     0.22422,     0.22523,     0.22623,     0.22723,     0.22823,     0.22923,     0.23023,     0.23123,     0.23223,     0.23323,     0.23423,     0.23524,     0.23624,     0.23724,     0.23824,     0.23924,\n",
       "           0.24024,     0.24124,     0.24224,     0.24324,     0.24424,     0.24525,     0.24625,     0.24725,     0.24825,     0.24925,     0.25025,     0.25125,     0.25225,     0.25325,     0.25425,     0.25526,     0.25626,     0.25726,     0.25826,     0.25926,     0.26026,     0.26126,     0.26226,     0.26326,\n",
       "           0.26426,     0.26527,     0.26627,     0.26727,     0.26827,     0.26927,     0.27027,     0.27127,     0.27227,     0.27327,     0.27427,     0.27528,     0.27628,     0.27728,     0.27828,     0.27928,     0.28028,     0.28128,     0.28228,     0.28328,     0.28428,     0.28529,     0.28629,     0.28729,\n",
       "           0.28829,     0.28929,     0.29029,     0.29129,     0.29229,     0.29329,     0.29429,      0.2953,      0.2963,      0.2973,      0.2983,      0.2993,      0.3003,      0.3013,      0.3023,      0.3033,      0.3043,     0.30531,     0.30631,     0.30731,     0.30831,     0.30931,     0.31031,     0.31131,\n",
       "           0.31231,     0.31331,     0.31431,     0.31532,     0.31632,     0.31732,     0.31832,     0.31932,     0.32032,     0.32132,     0.32232,     0.32332,     0.32432,     0.32533,     0.32633,     0.32733,     0.32833,     0.32933,     0.33033,     0.33133,     0.33233,     0.33333,     0.33433,     0.33534,\n",
       "           0.33634,     0.33734,     0.33834,     0.33934,     0.34034,     0.34134,     0.34234,     0.34334,     0.34434,     0.34535,     0.34635,     0.34735,     0.34835,     0.34935,     0.35035,     0.35135,     0.35235,     0.35335,     0.35435,     0.35536,     0.35636,     0.35736,     0.35836,     0.35936,\n",
       "           0.36036,     0.36136,     0.36236,     0.36336,     0.36436,     0.36537,     0.36637,     0.36737,     0.36837,     0.36937,     0.37037,     0.37137,     0.37237,     0.37337,     0.37437,     0.37538,     0.37638,     0.37738,     0.37838,     0.37938,     0.38038,     0.38138,     0.38238,     0.38338,\n",
       "           0.38438,     0.38539,     0.38639,     0.38739,     0.38839,     0.38939,     0.39039,     0.39139,     0.39239,     0.39339,     0.39439,      0.3954,      0.3964,      0.3974,      0.3984,      0.3994,      0.4004,      0.4014,      0.4024,      0.4034,      0.4044,     0.40541,     0.40641,     0.40741,\n",
       "           0.40841,     0.40941,     0.41041,     0.41141,     0.41241,     0.41341,     0.41441,     0.41542,     0.41642,     0.41742,     0.41842,     0.41942,     0.42042,     0.42142,     0.42242,     0.42342,     0.42442,     0.42543,     0.42643,     0.42743,     0.42843,     0.42943,     0.43043,     0.43143,\n",
       "           0.43243,     0.43343,     0.43443,     0.43544,     0.43644,     0.43744,     0.43844,     0.43944,     0.44044,     0.44144,     0.44244,     0.44344,     0.44444,     0.44545,     0.44645,     0.44745,     0.44845,     0.44945,     0.45045,     0.45145,     0.45245,     0.45345,     0.45445,     0.45546,\n",
       "           0.45646,     0.45746,     0.45846,     0.45946,     0.46046,     0.46146,     0.46246,     0.46346,     0.46446,     0.46547,     0.46647,     0.46747,     0.46847,     0.46947,     0.47047,     0.47147,     0.47247,     0.47347,     0.47447,     0.47548,     0.47648,     0.47748,     0.47848,     0.47948,\n",
       "           0.48048,     0.48148,     0.48248,     0.48348,     0.48448,     0.48549,     0.48649,     0.48749,     0.48849,     0.48949,     0.49049,     0.49149,     0.49249,     0.49349,     0.49449,      0.4955,      0.4965,      0.4975,      0.4985,      0.4995,      0.5005,      0.5015,      0.5025,      0.5035,\n",
       "            0.5045,     0.50551,     0.50651,     0.50751,     0.50851,     0.50951,     0.51051,     0.51151,     0.51251,     0.51351,     0.51451,     0.51552,     0.51652,     0.51752,     0.51852,     0.51952,     0.52052,     0.52152,     0.52252,     0.52352,     0.52452,     0.52553,     0.52653,     0.52753,\n",
       "           0.52853,     0.52953,     0.53053,     0.53153,     0.53253,     0.53353,     0.53453,     0.53554,     0.53654,     0.53754,     0.53854,     0.53954,     0.54054,     0.54154,     0.54254,     0.54354,     0.54454,     0.54555,     0.54655,     0.54755,     0.54855,     0.54955,     0.55055,     0.55155,\n",
       "           0.55255,     0.55355,     0.55455,     0.55556,     0.55656,     0.55756,     0.55856,     0.55956,     0.56056,     0.56156,     0.56256,     0.56356,     0.56456,     0.56557,     0.56657,     0.56757,     0.56857,     0.56957,     0.57057,     0.57157,     0.57257,     0.57357,     0.57457,     0.57558,\n",
       "           0.57658,     0.57758,     0.57858,     0.57958,     0.58058,     0.58158,     0.58258,     0.58358,     0.58458,     0.58559,     0.58659,     0.58759,     0.58859,     0.58959,     0.59059,     0.59159,     0.59259,     0.59359,     0.59459,      0.5956,      0.5966,      0.5976,      0.5986,      0.5996,\n",
       "            0.6006,      0.6016,      0.6026,      0.6036,      0.6046,     0.60561,     0.60661,     0.60761,     0.60861,     0.60961,     0.61061,     0.61161,     0.61261,     0.61361,     0.61461,     0.61562,     0.61662,     0.61762,     0.61862,     0.61962,     0.62062,     0.62162,     0.62262,     0.62362,\n",
       "           0.62462,     0.62563,     0.62663,     0.62763,     0.62863,     0.62963,     0.63063,     0.63163,     0.63263,     0.63363,     0.63463,     0.63564,     0.63664,     0.63764,     0.63864,     0.63964,     0.64064,     0.64164,     0.64264,     0.64364,     0.64464,     0.64565,     0.64665,     0.64765,\n",
       "           0.64865,     0.64965,     0.65065,     0.65165,     0.65265,     0.65365,     0.65465,     0.65566,     0.65666,     0.65766,     0.65866,     0.65966,     0.66066,     0.66166,     0.66266,     0.66366,     0.66466,     0.66567,     0.66667,     0.66767,     0.66867,     0.66967,     0.67067,     0.67167,\n",
       "           0.67267,     0.67367,     0.67467,     0.67568,     0.67668,     0.67768,     0.67868,     0.67968,     0.68068,     0.68168,     0.68268,     0.68368,     0.68468,     0.68569,     0.68669,     0.68769,     0.68869,     0.68969,     0.69069,     0.69169,     0.69269,     0.69369,     0.69469,      0.6957,\n",
       "            0.6967,      0.6977,      0.6987,      0.6997,      0.7007,      0.7017,      0.7027,      0.7037,      0.7047,     0.70571,     0.70671,     0.70771,     0.70871,     0.70971,     0.71071,     0.71171,     0.71271,     0.71371,     0.71471,     0.71572,     0.71672,     0.71772,     0.71872,     0.71972,\n",
       "           0.72072,     0.72172,     0.72272,     0.72372,     0.72472,     0.72573,     0.72673,     0.72773,     0.72873,     0.72973,     0.73073,     0.73173,     0.73273,     0.73373,     0.73473,     0.73574,     0.73674,     0.73774,     0.73874,     0.73974,     0.74074,     0.74174,     0.74274,     0.74374,\n",
       "           0.74474,     0.74575,     0.74675,     0.74775,     0.74875,     0.74975,     0.75075,     0.75175,     0.75275,     0.75375,     0.75475,     0.75576,     0.75676,     0.75776,     0.75876,     0.75976,     0.76076,     0.76176,     0.76276,     0.76376,     0.76476,     0.76577,     0.76677,     0.76777,\n",
       "           0.76877,     0.76977,     0.77077,     0.77177,     0.77277,     0.77377,     0.77477,     0.77578,     0.77678,     0.77778,     0.77878,     0.77978,     0.78078,     0.78178,     0.78278,     0.78378,     0.78478,     0.78579,     0.78679,     0.78779,     0.78879,     0.78979,     0.79079,     0.79179,\n",
       "           0.79279,     0.79379,     0.79479,      0.7958,      0.7968,      0.7978,      0.7988,      0.7998,      0.8008,      0.8018,      0.8028,      0.8038,      0.8048,     0.80581,     0.80681,     0.80781,     0.80881,     0.80981,     0.81081,     0.81181,     0.81281,     0.81381,     0.81481,     0.81582,\n",
       "           0.81682,     0.81782,     0.81882,     0.81982,     0.82082,     0.82182,     0.82282,     0.82382,     0.82482,     0.82583,     0.82683,     0.82783,     0.82883,     0.82983,     0.83083,     0.83183,     0.83283,     0.83383,     0.83483,     0.83584,     0.83684,     0.83784,     0.83884,     0.83984,\n",
       "           0.84084,     0.84184,     0.84284,     0.84384,     0.84484,     0.84585,     0.84685,     0.84785,     0.84885,     0.84985,     0.85085,     0.85185,     0.85285,     0.85385,     0.85485,     0.85586,     0.85686,     0.85786,     0.85886,     0.85986,     0.86086,     0.86186,     0.86286,     0.86386,\n",
       "           0.86486,     0.86587,     0.86687,     0.86787,     0.86887,     0.86987,     0.87087,     0.87187,     0.87287,     0.87387,     0.87487,     0.87588,     0.87688,     0.87788,     0.87888,     0.87988,     0.88088,     0.88188,     0.88288,     0.88388,     0.88488,     0.88589,     0.88689,     0.88789,\n",
       "           0.88889,     0.88989,     0.89089,     0.89189,     0.89289,     0.89389,     0.89489,      0.8959,      0.8969,      0.8979,      0.8989,      0.8999,      0.9009,      0.9019,      0.9029,      0.9039,      0.9049,     0.90591,     0.90691,     0.90791,     0.90891,     0.90991,     0.91091,     0.91191,\n",
       "           0.91291,     0.91391,     0.91491,     0.91592,     0.91692,     0.91792,     0.91892,     0.91992,     0.92092,     0.92192,     0.92292,     0.92392,     0.92492,     0.92593,     0.92693,     0.92793,     0.92893,     0.92993,     0.93093,     0.93193,     0.93293,     0.93393,     0.93493,     0.93594,\n",
       "           0.93694,     0.93794,     0.93894,     0.93994,     0.94094,     0.94194,     0.94294,     0.94394,     0.94494,     0.94595,     0.94695,     0.94795,     0.94895,     0.94995,     0.95095,     0.95195,     0.95295,     0.95395,     0.95495,     0.95596,     0.95696,     0.95796,     0.95896,     0.95996,\n",
       "           0.96096,     0.96196,     0.96296,     0.96396,     0.96496,     0.96597,     0.96697,     0.96797,     0.96897,     0.96997,     0.97097,     0.97197,     0.97297,     0.97397,     0.97497,     0.97598,     0.97698,     0.97798,     0.97898,     0.97998,     0.98098,     0.98198,     0.98298,     0.98398,\n",
       "           0.98498,     0.98599,     0.98699,     0.98799,     0.98899,     0.98999,     0.99099,     0.99199,     0.99299,     0.99399,     0.99499,       0.996,       0.997,       0.998,       0.999,           1]), array([[    0.19608,     0.19608,      0.2219,     0.23825,     0.24651,     0.25564,     0.26308,      0.2703,     0.27613,     0.27985,     0.28518,     0.28976,     0.29453,     0.29867,      0.3021,     0.30611,     0.31089,     0.31226,     0.31433,     0.31809,     0.32085,     0.32659,        0.33,\n",
       "            0.33275,     0.33674,      0.3402,      0.3453,     0.34879,      0.3504,     0.35263,     0.35617,     0.35886,     0.36126,     0.36276,     0.36268,     0.36473,     0.36337,      0.3638,       0.364,     0.36543,     0.36659,     0.37016,      0.3716,     0.37431,      0.3753,     0.37307,\n",
       "            0.37513,     0.37549,     0.37424,     0.37547,     0.37654,     0.37682,     0.37885,     0.38255,     0.38067,     0.38267,     0.38501,     0.38479,     0.38608,     0.38674,     0.38685,     0.39077,     0.39198,     0.39453,     0.39615,     0.39366,     0.39534,     0.39766,     0.39431,\n",
       "            0.39568,     0.39898,     0.39798,     0.40083,     0.40091,     0.40048,     0.40124,      0.4024,     0.40227,     0.40384,     0.40046,     0.40012,     0.40089,     0.40232,     0.40368,     0.40377,     0.40326,     0.40593,     0.40785,     0.40762,     0.40865,     0.40858,     0.40904,\n",
       "            0.41096,     0.41258,     0.41187,     0.41269,     0.41217,     0.41249,      0.4134,     0.41292,     0.41233,     0.41405,     0.41527,     0.41529,      0.4133,     0.41321,     0.41199,      0.4124,     0.41261,     0.41297,     0.41269,     0.41138,     0.41365,     0.41436,     0.41298,\n",
       "            0.41317,     0.40652,     0.40566,     0.40463,     0.40402,     0.40458,     0.40645,     0.40803,     0.40714,     0.40443,     0.40419,     0.40338,     0.40413,     0.40599,     0.40397,     0.40541,     0.40506,      0.4022,     0.40275,     0.40209,     0.40147,     0.40264,     0.40356,\n",
       "            0.40469,     0.40337,     0.40266,     0.40268,     0.40083,     0.39961,     0.40043,     0.40157,     0.40048,     0.40115,     0.40184,     0.40276,     0.40329,      0.4028,     0.40085,     0.39757,     0.39598,      0.3978,     0.39666,     0.39401,     0.39162,     0.39132,     0.38953,\n",
       "            0.38815,     0.38701,     0.38723,     0.38756,     0.38667,     0.38756,     0.38789,      0.3881,     0.38849,     0.38744,      0.3853,     0.38556,     0.38605,     0.38699,     0.38148,     0.38216,     0.38039,     0.37665,     0.37305,     0.37096,     0.37132,     0.36972,     0.37013,\n",
       "            0.37117,     0.37013,      0.3672,     0.36455,     0.36492,     0.36734,      0.3678,     0.36644,     0.36647,     0.36707,     0.36745,      0.3645,     0.36342,     0.36365,     0.36392,     0.36274,     0.35713,     0.35704,     0.35716,     0.35728,      0.3574,     0.35587,      0.3562,\n",
       "            0.35527,     0.35573,     0.35649,     0.35673,     0.35762,     0.35793,     0.35811,     0.35627,     0.35533,     0.35642,     0.35487,     0.35711,     0.35134,     0.35157,     0.35053,      0.3512,     0.35236,     0.35103,     0.35152,     0.34999,     0.35034,     0.35149,     0.35166,\n",
       "            0.35229,     0.35063,     0.35076,     0.35115,     0.34751,     0.34492,     0.34513,     0.34342,     0.34363,     0.34385,     0.33988,     0.34058,      0.3412,     0.34142,     0.34164,     0.34195,      0.3424,     0.34305,     0.34427,     0.34451,      0.3427,     0.34336,     0.33959,\n",
       "            0.33525,     0.33558,     0.33638,     0.33724,     0.33769,     0.33786,     0.33803,     0.33779,     0.33426,     0.33328,     0.33229,     0.33228,     0.32658,     0.32426,     0.32092,     0.31983,     0.31879,      0.3191,     0.31981,     0.32003,      0.3193,     0.31785,     0.31619,\n",
       "            0.31542,     0.31595,     0.31405,     0.31449,     0.31395,     0.31341,     0.31287,     0.31139,     0.30845,     0.30831,     0.30746,     0.30642,     0.30538,     0.30434,     0.30331,     0.30381,       0.304,     0.30419,     0.30334,     0.30229,     0.30027,     0.29551,       0.294,\n",
       "            0.29155,     0.29049,     0.28942,     0.28955,     0.28727,     0.28693,     0.28539,     0.28311,     0.28039,     0.28067,     0.28092,     0.28118,     0.27879,     0.27892,     0.27642,     0.27667,     0.27546,     0.27364,     0.27285,     0.27206,     0.27155,     0.27192,     0.27209,\n",
       "            0.27227,     0.27101,     0.26692,     0.26715,     0.26603,     0.26491,     0.26486,      0.2623,      0.2567,      0.2508,     0.24831,     0.24667,     0.24633,      0.2455,     0.24445,     0.24047,     0.23882,     0.23799,      0.2381,      0.2382,     0.23831,     0.23874,     0.23879,\n",
       "             0.2365,     0.23136,     0.23158,     0.22773,     0.22625,     0.22506,     0.22397,     0.22296,     0.22318,     0.22304,     0.22224,     0.22144,     0.22064,     0.21993,     0.21927,      0.2186,     0.21793,     0.21749,     0.21759,     0.21769,     0.21779,     0.21796,     0.21817,\n",
       "            0.21769,     0.21716,     0.21664,     0.21611,     0.21559,     0.21525,     0.21532,     0.21539,     0.21545,     0.21552,     0.21559,      0.2128,     0.21297,     0.21186,     0.21075,     0.20935,     0.20697,     0.20585,     0.20473,     0.20332,     0.20178,     0.19912,     0.19864,\n",
       "            0.19708,     0.19564,     0.19597,     0.19633,     0.19543,     0.19229,     0.18978,     0.18809,     0.18821,     0.18833,     0.18714,     0.18554,     0.18426,     0.18266,     0.17967,     0.17936,     0.17942,     0.17947,     0.17953,     0.17958,     0.17917,     0.17756,     0.17334,\n",
       "            0.17342,      0.1735,     0.17358,     0.17318,     0.17253,     0.17187,     0.17122,     0.17057,     0.16656,     0.16568,     0.16481,     0.16383,     0.16219,     0.16089,     0.16089,     0.15979,     0.15869,     0.15759,     0.15648,     0.15537,     0.15476,     0.15507,     0.15484,\n",
       "            0.15429,     0.15373,     0.15317,     0.15262,     0.15206,     0.15128,     0.15044,      0.1496,     0.14877,     0.14875,     0.14884,     0.14893,     0.14907,      0.1492,     0.14943,     0.14853,     0.14763,     0.14673,     0.13911,     0.13797,     0.13683,     0.13594,     0.13537,\n",
       "             0.1348,     0.13423,     0.13366,     0.13309,     0.13183,     0.13011,     0.12952,     0.12956,      0.1296,     0.12964,     0.12968,     0.12972,     0.12882,     0.12766,     0.12651,     0.12485,     0.12312,     0.11978,     0.10942,     0.10936,     0.10942,     0.10947,     0.10908,\n",
       "            0.10869,     0.10829,      0.1079,     0.10751,     0.10711,     0.10672,     0.10633,     0.10558,      0.1038,     0.10202,     0.10024,    0.099091,    0.099115,    0.099138,    0.099162,    0.099185,    0.099208,    0.099231,    0.099254,    0.095585,    0.095258,    0.094931,    0.094603,\n",
       "           0.094276,    0.093949,    0.093621,    0.093294,    0.092966,    0.092639,    0.092311,    0.091267,    0.090062,    0.088857,    0.087648,    0.086439,    0.085229,    0.084484,    0.083756,    0.083028,    0.082299,    0.081528,    0.080311,    0.079092,    0.078075,    0.078126,    0.078175,\n",
       "           0.077786,    0.075949,    0.074454,     0.07384,    0.073225,    0.072611,    0.071996,     0.07138,    0.070802,    0.070274,    0.069745,    0.069216,    0.068687,    0.068158,    0.067628,    0.067455,     0.06752,    0.066338,    0.064476,    0.063997,    0.063796,     0.06347,    0.063145,\n",
       "            0.06282,    0.062494,    0.062169,    0.061843,    0.061517,    0.061192,    0.060866,     0.06054,     0.05975,    0.058497,    0.057244,    0.056724,    0.056746,    0.056769,     0.05679,    0.056812,    0.053138,    0.053149,     0.05316,     0.05317,    0.053181,    0.053191,    0.053201,\n",
       "           0.053211,    0.053221,    0.053231,    0.052682,    0.052098,    0.051513,    0.050929,    0.050343,    0.049758,     0.04927,    0.048846,    0.048423,    0.047999,    0.047575,    0.047151,    0.046727,    0.046303,    0.045878,    0.045876,    0.045301,    0.044604,    0.043906,    0.043208,\n",
       "            0.04251,    0.042051,    0.041684,    0.041317,    0.040949,    0.040582,    0.040214,    0.039847,    0.039479,    0.039111,    0.038743,    0.038235,    0.037267,    0.036299,     0.03533,     0.03451,    0.033992,    0.033474,    0.032955,    0.032437,    0.031918,    0.031399,    0.030889,\n",
       "           0.030904,    0.029787,     0.02867,    0.027551,    0.025906,    0.023942,    0.023022,    0.022607,    0.022192,    0.021778,    0.021363,    0.020948,    0.020533,    0.020117,    0.019702,    0.019456,    0.019458,    0.019459,    0.019461,    0.019462,    0.019464,    0.019465,    0.019467,\n",
       "           0.019469,     0.01947,    0.019472,    0.019473,    0.019475,    0.019476,    0.019477,    0.019479,     0.01948,    0.019482,    0.019483,    0.019485,    0.019486,    0.019487,    0.019489,     0.01949,    0.019491,    0.019493,     0.01922,    0.018724,    0.018229,    0.017733,    0.017238,\n",
       "           0.016742,    0.016246,     0.01575,    0.015632,     0.01564,    0.015647,    0.015655,    0.015559,    0.015445,    0.015332,    0.015218,    0.015104,     0.01499,    0.014876,    0.014762,    0.014649,    0.014535,    0.014421,    0.014307,    0.014193,    0.014079,    0.013965,    0.013851,\n",
       "           0.013737,    0.013623,    0.013509,    0.013395,    0.013281,    0.013167,    0.013053,    0.012939,    0.012825,    0.012711,    0.012597,    0.012483,    0.012369,    0.012255,    0.012141,    0.012027,    0.011913,    0.011799,    0.010964,   0.0098208,   0.0086765,   0.0078587,   0.0078594,\n",
       "          0.0078601,   0.0078608,   0.0078614,   0.0078621,   0.0078627,   0.0078633,   0.0078639,   0.0078645,    0.007865,   0.0078656,   0.0078661,   0.0078667,   0.0078672,   0.0078677,   0.0078682,   0.0078687,   0.0078692,   0.0078697,   0.0078702,   0.0078706,   0.0078711,   0.0078715,   0.0078719,\n",
       "          0.0078724,   0.0078728,   0.0078732,   0.0078736,   0.0078741,   0.0078767,   0.0078791,   0.0078812,   0.0078831,   0.0078848,   0.0078864,   0.0078879,   0.0078892,   0.0078274,   0.0077417,    0.007656,   0.0075702,   0.0074845,   0.0073988,    0.007313,   0.0072273,   0.0071415,   0.0070558,\n",
       "            0.00697,   0.0068842,   0.0067985,   0.0067127,   0.0066269,   0.0065411,   0.0064553,   0.0063694,   0.0062836,   0.0061978,   0.0061119,   0.0060261,   0.0059402,   0.0058544,   0.0057685,   0.0056826,   0.0055967,   0.0055108,   0.0054249,    0.005339,   0.0052531,   0.0051672,   0.0050813,\n",
       "          0.0049953,   0.0049094,   0.0048234,   0.0047375,   0.0046515,   0.0045655,   0.0044795,   0.0043936,   0.0043076,   0.0042215,   0.0041355,   0.0040495,   0.0039635,           0,           0,           0,           0,           0,           0,           0,           0,           0,           0,\n",
       "                  0,           0,           0,           0,           0,           0,           0,           0,           0,           0,           0,           0,           0,           0,           0,           0,           0,           0,           0,           0,           0,           0,           0,\n",
       "                  0,           0,           0,           0,           0,           0,           0,           0,           0,           0,           0,           0,           0,           0,           0,           0,           0,           0,           0,           0,           0,           0,           0,\n",
       "                  0,           0,           0,           0,           0,           0,           0,           0,           0,           0,           0,           0,           0,           0,           0,           0,           0,           0,           0,           0,           0,           0,           0,\n",
       "                  0,           0,           0,           0,           0,           0,           0,           0,           0,           0,           0,           0,           0,           0,           0,           0,           0,           0,           0,           0,           0,           0,           0,\n",
       "                  0,           0,           0,           0,           0,           0,           0,           0,           0,           0,           0,           0,           0,           0,           0,           0,           0,           0,           0,           0,           0,           0,           0,\n",
       "                  0,           0,           0,           0,           0,           0,           0,           0,           0,           0,           0,           0,           0,           0,           0,           0,           0,           0,           0,           0,           0,           0,           0,\n",
       "                  0,           0,           0,           0,           0,           0,           0,           0,           0,           0,           0,           0,           0,           0,           0,           0,           0,           0,           0,           0,           0,           0,           0,\n",
       "                  0,           0,           0,           0,           0,           0,           0,           0,           0,           0,           0,           0,           0,           0,           0,           0,           0,           0,           0,           0,           0,           0,           0,\n",
       "                  0,           0,           0,           0,           0,           0,           0,           0,           0,           0,           0]]), 'Confidence', 'F1'], [array([          0,    0.001001,    0.002002,    0.003003,    0.004004,    0.005005,    0.006006,    0.007007,    0.008008,    0.009009,     0.01001,    0.011011,    0.012012,    0.013013,    0.014014,    0.015015,    0.016016,    0.017017,    0.018018,    0.019019,     0.02002,    0.021021,    0.022022,    0.023023,\n",
       "          0.024024,    0.025025,    0.026026,    0.027027,    0.028028,    0.029029,     0.03003,    0.031031,    0.032032,    0.033033,    0.034034,    0.035035,    0.036036,    0.037037,    0.038038,    0.039039,     0.04004,    0.041041,    0.042042,    0.043043,    0.044044,    0.045045,    0.046046,    0.047047,\n",
       "          0.048048,    0.049049,     0.05005,    0.051051,    0.052052,    0.053053,    0.054054,    0.055055,    0.056056,    0.057057,    0.058058,    0.059059,     0.06006,    0.061061,    0.062062,    0.063063,    0.064064,    0.065065,    0.066066,    0.067067,    0.068068,    0.069069,     0.07007,    0.071071,\n",
       "          0.072072,    0.073073,    0.074074,    0.075075,    0.076076,    0.077077,    0.078078,    0.079079,     0.08008,    0.081081,    0.082082,    0.083083,    0.084084,    0.085085,    0.086086,    0.087087,    0.088088,    0.089089,     0.09009,    0.091091,    0.092092,    0.093093,    0.094094,    0.095095,\n",
       "          0.096096,    0.097097,    0.098098,    0.099099,      0.1001,      0.1011,      0.1021,      0.1031,      0.1041,     0.10511,     0.10611,     0.10711,     0.10811,     0.10911,     0.11011,     0.11111,     0.11211,     0.11311,     0.11411,     0.11512,     0.11612,     0.11712,     0.11812,     0.11912,\n",
       "           0.12012,     0.12112,     0.12212,     0.12312,     0.12412,     0.12513,     0.12613,     0.12713,     0.12813,     0.12913,     0.13013,     0.13113,     0.13213,     0.13313,     0.13413,     0.13514,     0.13614,     0.13714,     0.13814,     0.13914,     0.14014,     0.14114,     0.14214,     0.14314,\n",
       "           0.14414,     0.14515,     0.14615,     0.14715,     0.14815,     0.14915,     0.15015,     0.15115,     0.15215,     0.15315,     0.15415,     0.15516,     0.15616,     0.15716,     0.15816,     0.15916,     0.16016,     0.16116,     0.16216,     0.16316,     0.16416,     0.16517,     0.16617,     0.16717,\n",
       "           0.16817,     0.16917,     0.17017,     0.17117,     0.17217,     0.17317,     0.17417,     0.17518,     0.17618,     0.17718,     0.17818,     0.17918,     0.18018,     0.18118,     0.18218,     0.18318,     0.18418,     0.18519,     0.18619,     0.18719,     0.18819,     0.18919,     0.19019,     0.19119,\n",
       "           0.19219,     0.19319,     0.19419,      0.1952,      0.1962,      0.1972,      0.1982,      0.1992,      0.2002,      0.2012,      0.2022,      0.2032,      0.2042,     0.20521,     0.20621,     0.20721,     0.20821,     0.20921,     0.21021,     0.21121,     0.21221,     0.21321,     0.21421,     0.21522,\n",
       "           0.21622,     0.21722,     0.21822,     0.21922,     0.22022,     0.22122,     0.22222,     0.22322,     0.22422,     0.22523,     0.22623,     0.22723,     0.22823,     0.22923,     0.23023,     0.23123,     0.23223,     0.23323,     0.23423,     0.23524,     0.23624,     0.23724,     0.23824,     0.23924,\n",
       "           0.24024,     0.24124,     0.24224,     0.24324,     0.24424,     0.24525,     0.24625,     0.24725,     0.24825,     0.24925,     0.25025,     0.25125,     0.25225,     0.25325,     0.25425,     0.25526,     0.25626,     0.25726,     0.25826,     0.25926,     0.26026,     0.26126,     0.26226,     0.26326,\n",
       "           0.26426,     0.26527,     0.26627,     0.26727,     0.26827,     0.26927,     0.27027,     0.27127,     0.27227,     0.27327,     0.27427,     0.27528,     0.27628,     0.27728,     0.27828,     0.27928,     0.28028,     0.28128,     0.28228,     0.28328,     0.28428,     0.28529,     0.28629,     0.28729,\n",
       "           0.28829,     0.28929,     0.29029,     0.29129,     0.29229,     0.29329,     0.29429,      0.2953,      0.2963,      0.2973,      0.2983,      0.2993,      0.3003,      0.3013,      0.3023,      0.3033,      0.3043,     0.30531,     0.30631,     0.30731,     0.30831,     0.30931,     0.31031,     0.31131,\n",
       "           0.31231,     0.31331,     0.31431,     0.31532,     0.31632,     0.31732,     0.31832,     0.31932,     0.32032,     0.32132,     0.32232,     0.32332,     0.32432,     0.32533,     0.32633,     0.32733,     0.32833,     0.32933,     0.33033,     0.33133,     0.33233,     0.33333,     0.33433,     0.33534,\n",
       "           0.33634,     0.33734,     0.33834,     0.33934,     0.34034,     0.34134,     0.34234,     0.34334,     0.34434,     0.34535,     0.34635,     0.34735,     0.34835,     0.34935,     0.35035,     0.35135,     0.35235,     0.35335,     0.35435,     0.35536,     0.35636,     0.35736,     0.35836,     0.35936,\n",
       "           0.36036,     0.36136,     0.36236,     0.36336,     0.36436,     0.36537,     0.36637,     0.36737,     0.36837,     0.36937,     0.37037,     0.37137,     0.37237,     0.37337,     0.37437,     0.37538,     0.37638,     0.37738,     0.37838,     0.37938,     0.38038,     0.38138,     0.38238,     0.38338,\n",
       "           0.38438,     0.38539,     0.38639,     0.38739,     0.38839,     0.38939,     0.39039,     0.39139,     0.39239,     0.39339,     0.39439,      0.3954,      0.3964,      0.3974,      0.3984,      0.3994,      0.4004,      0.4014,      0.4024,      0.4034,      0.4044,     0.40541,     0.40641,     0.40741,\n",
       "           0.40841,     0.40941,     0.41041,     0.41141,     0.41241,     0.41341,     0.41441,     0.41542,     0.41642,     0.41742,     0.41842,     0.41942,     0.42042,     0.42142,     0.42242,     0.42342,     0.42442,     0.42543,     0.42643,     0.42743,     0.42843,     0.42943,     0.43043,     0.43143,\n",
       "           0.43243,     0.43343,     0.43443,     0.43544,     0.43644,     0.43744,     0.43844,     0.43944,     0.44044,     0.44144,     0.44244,     0.44344,     0.44444,     0.44545,     0.44645,     0.44745,     0.44845,     0.44945,     0.45045,     0.45145,     0.45245,     0.45345,     0.45445,     0.45546,\n",
       "           0.45646,     0.45746,     0.45846,     0.45946,     0.46046,     0.46146,     0.46246,     0.46346,     0.46446,     0.46547,     0.46647,     0.46747,     0.46847,     0.46947,     0.47047,     0.47147,     0.47247,     0.47347,     0.47447,     0.47548,     0.47648,     0.47748,     0.47848,     0.47948,\n",
       "           0.48048,     0.48148,     0.48248,     0.48348,     0.48448,     0.48549,     0.48649,     0.48749,     0.48849,     0.48949,     0.49049,     0.49149,     0.49249,     0.49349,     0.49449,      0.4955,      0.4965,      0.4975,      0.4985,      0.4995,      0.5005,      0.5015,      0.5025,      0.5035,\n",
       "            0.5045,     0.50551,     0.50651,     0.50751,     0.50851,     0.50951,     0.51051,     0.51151,     0.51251,     0.51351,     0.51451,     0.51552,     0.51652,     0.51752,     0.51852,     0.51952,     0.52052,     0.52152,     0.52252,     0.52352,     0.52452,     0.52553,     0.52653,     0.52753,\n",
       "           0.52853,     0.52953,     0.53053,     0.53153,     0.53253,     0.53353,     0.53453,     0.53554,     0.53654,     0.53754,     0.53854,     0.53954,     0.54054,     0.54154,     0.54254,     0.54354,     0.54454,     0.54555,     0.54655,     0.54755,     0.54855,     0.54955,     0.55055,     0.55155,\n",
       "           0.55255,     0.55355,     0.55455,     0.55556,     0.55656,     0.55756,     0.55856,     0.55956,     0.56056,     0.56156,     0.56256,     0.56356,     0.56456,     0.56557,     0.56657,     0.56757,     0.56857,     0.56957,     0.57057,     0.57157,     0.57257,     0.57357,     0.57457,     0.57558,\n",
       "           0.57658,     0.57758,     0.57858,     0.57958,     0.58058,     0.58158,     0.58258,     0.58358,     0.58458,     0.58559,     0.58659,     0.58759,     0.58859,     0.58959,     0.59059,     0.59159,     0.59259,     0.59359,     0.59459,      0.5956,      0.5966,      0.5976,      0.5986,      0.5996,\n",
       "            0.6006,      0.6016,      0.6026,      0.6036,      0.6046,     0.60561,     0.60661,     0.60761,     0.60861,     0.60961,     0.61061,     0.61161,     0.61261,     0.61361,     0.61461,     0.61562,     0.61662,     0.61762,     0.61862,     0.61962,     0.62062,     0.62162,     0.62262,     0.62362,\n",
       "           0.62462,     0.62563,     0.62663,     0.62763,     0.62863,     0.62963,     0.63063,     0.63163,     0.63263,     0.63363,     0.63463,     0.63564,     0.63664,     0.63764,     0.63864,     0.63964,     0.64064,     0.64164,     0.64264,     0.64364,     0.64464,     0.64565,     0.64665,     0.64765,\n",
       "           0.64865,     0.64965,     0.65065,     0.65165,     0.65265,     0.65365,     0.65465,     0.65566,     0.65666,     0.65766,     0.65866,     0.65966,     0.66066,     0.66166,     0.66266,     0.66366,     0.66466,     0.66567,     0.66667,     0.66767,     0.66867,     0.66967,     0.67067,     0.67167,\n",
       "           0.67267,     0.67367,     0.67467,     0.67568,     0.67668,     0.67768,     0.67868,     0.67968,     0.68068,     0.68168,     0.68268,     0.68368,     0.68468,     0.68569,     0.68669,     0.68769,     0.68869,     0.68969,     0.69069,     0.69169,     0.69269,     0.69369,     0.69469,      0.6957,\n",
       "            0.6967,      0.6977,      0.6987,      0.6997,      0.7007,      0.7017,      0.7027,      0.7037,      0.7047,     0.70571,     0.70671,     0.70771,     0.70871,     0.70971,     0.71071,     0.71171,     0.71271,     0.71371,     0.71471,     0.71572,     0.71672,     0.71772,     0.71872,     0.71972,\n",
       "           0.72072,     0.72172,     0.72272,     0.72372,     0.72472,     0.72573,     0.72673,     0.72773,     0.72873,     0.72973,     0.73073,     0.73173,     0.73273,     0.73373,     0.73473,     0.73574,     0.73674,     0.73774,     0.73874,     0.73974,     0.74074,     0.74174,     0.74274,     0.74374,\n",
       "           0.74474,     0.74575,     0.74675,     0.74775,     0.74875,     0.74975,     0.75075,     0.75175,     0.75275,     0.75375,     0.75475,     0.75576,     0.75676,     0.75776,     0.75876,     0.75976,     0.76076,     0.76176,     0.76276,     0.76376,     0.76476,     0.76577,     0.76677,     0.76777,\n",
       "           0.76877,     0.76977,     0.77077,     0.77177,     0.77277,     0.77377,     0.77477,     0.77578,     0.77678,     0.77778,     0.77878,     0.77978,     0.78078,     0.78178,     0.78278,     0.78378,     0.78478,     0.78579,     0.78679,     0.78779,     0.78879,     0.78979,     0.79079,     0.79179,\n",
       "           0.79279,     0.79379,     0.79479,      0.7958,      0.7968,      0.7978,      0.7988,      0.7998,      0.8008,      0.8018,      0.8028,      0.8038,      0.8048,     0.80581,     0.80681,     0.80781,     0.80881,     0.80981,     0.81081,     0.81181,     0.81281,     0.81381,     0.81481,     0.81582,\n",
       "           0.81682,     0.81782,     0.81882,     0.81982,     0.82082,     0.82182,     0.82282,     0.82382,     0.82482,     0.82583,     0.82683,     0.82783,     0.82883,     0.82983,     0.83083,     0.83183,     0.83283,     0.83383,     0.83483,     0.83584,     0.83684,     0.83784,     0.83884,     0.83984,\n",
       "           0.84084,     0.84184,     0.84284,     0.84384,     0.84484,     0.84585,     0.84685,     0.84785,     0.84885,     0.84985,     0.85085,     0.85185,     0.85285,     0.85385,     0.85485,     0.85586,     0.85686,     0.85786,     0.85886,     0.85986,     0.86086,     0.86186,     0.86286,     0.86386,\n",
       "           0.86486,     0.86587,     0.86687,     0.86787,     0.86887,     0.86987,     0.87087,     0.87187,     0.87287,     0.87387,     0.87487,     0.87588,     0.87688,     0.87788,     0.87888,     0.87988,     0.88088,     0.88188,     0.88288,     0.88388,     0.88488,     0.88589,     0.88689,     0.88789,\n",
       "           0.88889,     0.88989,     0.89089,     0.89189,     0.89289,     0.89389,     0.89489,      0.8959,      0.8969,      0.8979,      0.8989,      0.8999,      0.9009,      0.9019,      0.9029,      0.9039,      0.9049,     0.90591,     0.90691,     0.90791,     0.90891,     0.90991,     0.91091,     0.91191,\n",
       "           0.91291,     0.91391,     0.91491,     0.91592,     0.91692,     0.91792,     0.91892,     0.91992,     0.92092,     0.92192,     0.92292,     0.92392,     0.92492,     0.92593,     0.92693,     0.92793,     0.92893,     0.92993,     0.93093,     0.93193,     0.93293,     0.93393,     0.93493,     0.93594,\n",
       "           0.93694,     0.93794,     0.93894,     0.93994,     0.94094,     0.94194,     0.94294,     0.94394,     0.94494,     0.94595,     0.94695,     0.94795,     0.94895,     0.94995,     0.95095,     0.95195,     0.95295,     0.95395,     0.95495,     0.95596,     0.95696,     0.95796,     0.95896,     0.95996,\n",
       "           0.96096,     0.96196,     0.96296,     0.96396,     0.96496,     0.96597,     0.96697,     0.96797,     0.96897,     0.96997,     0.97097,     0.97197,     0.97297,     0.97397,     0.97497,     0.97598,     0.97698,     0.97798,     0.97898,     0.97998,     0.98098,     0.98198,     0.98298,     0.98398,\n",
       "           0.98498,     0.98599,     0.98699,     0.98799,     0.98899,     0.98999,     0.99099,     0.99199,     0.99299,     0.99399,     0.99499,       0.996,       0.997,       0.998,       0.999,           1]), array([[    0.11632,     0.11632,     0.13514,     0.14758,     0.15434,     0.16185,     0.16786,     0.17395,     0.17916,     0.18267,     0.18723,      0.1912,     0.19559,     0.19971,     0.20301,     0.20666,     0.21103,     0.21282,     0.21501,     0.21883,     0.22159,     0.22726,      0.2312,\n",
       "            0.23424,      0.2389,      0.2424,     0.24798,      0.2516,     0.25407,     0.25725,     0.26104,     0.26394,       0.267,     0.26984,     0.27117,     0.27369,     0.27366,     0.27465,     0.27593,     0.27811,     0.28056,     0.28476,     0.28765,     0.29091,     0.29272,     0.29252,\n",
       "            0.29571,     0.29763,     0.29797,     0.30025,     0.30234,     0.30344,     0.30683,      0.3119,     0.31211,      0.3151,     0.31829,     0.31883,      0.3206,     0.32342,     0.32434,     0.32988,     0.33162,     0.33528,     0.33763,     0.33698,     0.33945,     0.34288,      0.3421,\n",
       "            0.34415,     0.34918,     0.34989,     0.35433,     0.35564,     0.35663,     0.35857,     0.36042,     0.36146,     0.36404,     0.36235,     0.36266,     0.36436,     0.36674,       0.369,     0.37053,     0.37105,      0.3756,     0.37891,     0.38146,     0.38469,     0.38625,     0.38865,\n",
       "            0.39214,      0.3951,     0.39546,     0.39868,     0.39943,     0.40003,     0.40182,     0.40261,     0.40329,      0.4066,     0.40895,     0.40938,     0.40887,      0.4106,     0.41013,     0.41094,     0.41137,     0.41208,     0.41351,     0.41287,     0.41746,     0.41892,     0.41817,\n",
       "            0.42067,     0.41811,     0.41797,     0.41801,     0.41898,     0.42017,     0.42424,     0.42769,     0.42924,     0.42844,      0.4289,     0.42957,     0.43128,     0.43553,     0.43589,     0.43949,     0.44139,     0.44011,     0.44259,     0.44268,     0.44405,     0.44692,     0.45221,\n",
       "            0.45506,     0.45481,     0.45616,     0.45858,     0.45879,     0.45784,      0.4601,     0.46314,     0.46361,     0.46543,     0.46729,     0.46979,     0.47122,     0.47346,     0.47271,     0.47016,      0.4691,     0.47424,     0.47505,     0.47296,     0.47195,     0.47276,     0.47135,\n",
       "            0.47121,     0.47045,     0.47109,     0.47208,     0.47354,     0.47623,     0.47722,     0.47785,     0.47905,      0.4801,     0.48227,     0.48311,     0.48463,      0.4876,     0.48388,      0.4862,     0.48476,     0.48172,     0.47877,     0.47828,     0.47951,     0.47827,      0.4805,\n",
       "            0.48403,     0.48437,     0.48312,     0.48215,     0.48345,     0.49203,     0.49368,     0.49355,     0.49452,     0.49673,     0.49811,     0.49579,     0.49491,     0.49577,     0.49679,     0.49695,     0.49353,     0.49503,     0.49549,     0.49595,     0.49641,     0.49678,      0.4981,\n",
       "            0.50088,     0.50274,     0.50578,     0.50673,     0.51037,     0.51161,     0.51234,     0.51169,     0.51346,     0.51943,     0.51929,     0.52986,     0.52605,     0.53136,     0.53193,     0.53504,     0.54048,     0.54272,      0.5451,     0.54648,      0.5482,     0.55387,     0.55472,\n",
       "            0.55793,     0.55651,     0.55954,     0.56154,     0.55992,     0.55849,     0.55962,      0.5606,     0.56175,      0.5629,     0.56218,     0.56606,     0.56951,     0.57072,     0.57192,     0.57366,     0.57623,     0.57994,     0.58698,     0.58833,      0.5894,     0.59332,     0.59165,\n",
       "            0.59313,     0.59517,     0.60027,     0.60578,      0.6087,     0.60978,     0.61085,      0.6139,     0.61373,     0.61289,     0.61205,     0.61435,     0.61289,     0.61087,     0.60793,     0.60992,     0.60947,      0.6118,     0.61703,     0.61863,     0.61859,     0.61732,     0.61585,\n",
       "            0.61687,     0.62095,     0.62332,      0.6305,     0.63002,     0.62954,     0.62906,     0.62775,     0.62513,      0.6313,     0.63108,     0.63015,     0.62921,     0.62827,     0.62737,      0.6317,     0.63333,     0.63495,     0.63443,     0.63348,     0.63164,     0.62727,     0.62586,\n",
       "            0.62722,     0.62622,     0.62521,     0.62834,       0.629,     0.63036,      0.6289,     0.62672,     0.63155,     0.63436,     0.63696,     0.63958,     0.63992,     0.64271,     0.64051,     0.64323,      0.6436,     0.64184,     0.64107,      0.6403,     0.64081,     0.64494,     0.64691,\n",
       "            0.64888,       0.648,     0.64447,     0.64871,      0.6476,      0.6465,      0.6497,      0.6485,     0.64283,     0.64145,     0.63882,     0.63707,     0.64067,      0.6407,     0.63958,     0.63527,     0.63344,     0.63318,     0.63467,     0.63616,     0.63765,     0.64395,     0.64879,\n",
       "             0.6571,     0.65278,     0.65632,     0.65305,     0.65138,     0.65003,     0.64879,     0.64783,     0.65148,     0.65352,     0.65261,     0.65169,     0.65077,     0.64995,     0.64917,     0.64838,      0.6476,     0.64759,     0.64934,     0.65109,     0.65284,     0.65593,     0.65975,\n",
       "            0.65943,     0.65881,      0.6582,     0.65759,     0.65698,     0.65697,     0.65822,     0.65947,     0.66072,     0.66197,     0.66322,     0.66318,     0.66665,     0.66535,     0.66404,     0.66903,     0.66619,     0.66484,     0.66349,     0.66178,     0.65988,     0.65656,      0.6629,\n",
       "            0.66094,     0.65954,     0.66732,     0.67558,      0.6809,     0.67698,     0.68968,     0.68896,      0.6922,     0.69544,     0.69467,     0.69268,     0.69966,     0.69764,      0.6938,     0.69482,     0.69649,     0.69816,     0.69983,      0.7015,     0.70212,     0.70003,     0.69532,\n",
       "            0.69799,     0.70067,     0.70334,     0.70365,     0.70278,     0.70191,     0.70105,     0.70018,     0.69468,     0.69346,     0.69224,     0.69086,      0.6885,      0.6885,     0.69664,     0.69505,     0.69346,     0.69185,     0.69021,     0.68856,     0.69144,     0.70421,     0.70915,\n",
       "            0.70834,     0.70753,     0.70671,      0.7059,     0.70509,     0.70392,     0.70266,      0.7014,     0.70014,      0.7036,     0.70766,     0.71171,     0.71792,     0.72428,      0.7368,     0.73551,     0.73423,     0.73294,     0.72155,     0.71976,     0.71797,     0.71656,     0.71563,\n",
       "             0.7147,     0.71377,     0.71284,     0.71191,     0.70981,     0.70691,     0.70744,     0.70985,     0.71226,     0.71467,     0.71709,      0.7195,     0.71845,      0.7165,     0.71455,     0.71165,      0.7086,     0.70252,     0.68209,     0.68703,     0.69245,     0.69764,     0.69682,\n",
       "            0.69601,     0.69519,     0.69437,     0.69355,     0.69273,     0.69191,     0.69109,     0.68949,     0.68562,     0.68169,     0.67763,     0.67578,       0.678,     0.68022,     0.68244,     0.68465,     0.68687,     0.68909,     0.69131,     0.68377,     0.68298,     0.68218,     0.68139,\n",
       "            0.68059,      0.6798,       0.679,     0.67821,     0.67741,     0.67662,     0.67582,     0.67316,     0.67008,       0.667,     0.66377,     0.66051,     0.65726,     0.65515,     0.65308,     0.65102,     0.64895,     0.64674,     0.64309,     0.63944,     0.63745,     0.64424,     0.65103,\n",
       "            0.65493,     0.64925,     0.64459,     0.64257,     0.64055,     0.63853,     0.63651,     0.63449,     0.63254,     0.63069,     0.62884,     0.62699,     0.62514,     0.62328,     0.62143,     0.62749,     0.63885,     0.63847,     0.63169,     0.64691,     0.65296,     0.65172,     0.65049,\n",
       "            0.64925,     0.64802,     0.64679,     0.64555,     0.64432,     0.64308,     0.64185,     0.64062,     0.63743,      0.6323,     0.62718,      0.6282,     0.63377,     0.63934,     0.64491,     0.65048,     0.63853,     0.64163,     0.64474,     0.64785,     0.65095,     0.65406,     0.65716,\n",
       "            0.66027,     0.66338,     0.66648,     0.66419,     0.66157,     0.65894,     0.65631,     0.65368,     0.65105,     0.64874,     0.64664,     0.64455,     0.64245,     0.64035,     0.63825,     0.63615,     0.63406,     0.63196,     0.66105,     0.66358,     0.65993,     0.65627,     0.65262,\n",
       "            0.64897,     0.68653,     0.68449,     0.68246,     0.68043,     0.67839,     0.67636,     0.67433,     0.67229,     0.67026,     0.66822,     0.66524,     0.65914,     0.65303,     0.64693,     0.64161,     0.63786,      0.6341,     0.63035,     0.62659,     0.62284,     0.61908,     0.61618,\n",
       "            0.66632,     0.65744,     0.64857,     0.63969,     0.62472,     0.60608,     0.59677,     0.59197,     0.58718,     0.58238,     0.57759,     0.57279,       0.568,      0.5632,     0.55841,     0.55665,     0.55933,     0.56202,      0.5647,     0.56739,     0.57008,     0.57276,     0.57545,\n",
       "            0.57813,     0.58082,     0.58351,     0.58619,     0.58888,     0.59157,     0.59425,     0.59694,     0.59962,     0.60231,       0.605,     0.60768,     0.61037,     0.61305,     0.61574,     0.61843,     0.62111,      0.6238,     0.62121,     0.61434,     0.60748,     0.60061,     0.59375,\n",
       "            0.58689,     0.58002,     0.57316,     0.58968,     0.61409,      0.6385,      0.6629,     0.66502,     0.66306,     0.66111,     0.65916,     0.65721,     0.65525,      0.6533,     0.65135,      0.6494,     0.64744,     0.64549,     0.64354,     0.64159,     0.63963,     0.63768,     0.63573,\n",
       "            0.63378,     0.63182,     0.62987,     0.62792,     0.62597,     0.62401,     0.62206,     0.62011,     0.61816,      0.6162,     0.61425,      0.6123,     0.61035,      0.6084,     0.60644,     0.60449,     0.60254,     0.60059,     0.57949,     0.55021,     0.52092,     0.50163,     0.50732,\n",
       "            0.51302,     0.51871,      0.5244,      0.5301,     0.53579,     0.54149,     0.54718,     0.55288,     0.55857,     0.56427,     0.56996,     0.57566,     0.58135,     0.58705,     0.59274,     0.59843,     0.60413,     0.60982,     0.61552,     0.62121,     0.62691,      0.6326,      0.6383,\n",
       "            0.64399,     0.64969,     0.65538,     0.66107,     0.66739,     0.70759,     0.74779,     0.78798,     0.82818,     0.86838,     0.90858,     0.94877,     0.98897,           1,           1,           1,           1,           1,           1,           1,           1,           1,           1,\n",
       "                  1,           1,           1,           1,           1,           1,           1,           1,           1,           1,           1,           1,           1,           1,           1,           1,           1,           1,           1,           1,           1,           1,           1,\n",
       "                  1,           1,           1,           1,           1,           1,           1,           1,           1,           1,           1,           1,           1,           1,           1,           1,           1,           1,           1,           1,           1,           1,           1,\n",
       "                  1,           1,           1,           1,           1,           1,           1,           1,           1,           1,           1,           1,           1,           1,           1,           1,           1,           1,           1,           1,           1,           1,           1,\n",
       "                  1,           1,           1,           1,           1,           1,           1,           1,           1,           1,           1,           1,           1,           1,           1,           1,           1,           1,           1,           1,           1,           1,           1,\n",
       "                  1,           1,           1,           1,           1,           1,           1,           1,           1,           1,           1,           1,           1,           1,           1,           1,           1,           1,           1,           1,           1,           1,           1,\n",
       "                  1,           1,           1,           1,           1,           1,           1,           1,           1,           1,           1,           1,           1,           1,           1,           1,           1,           1,           1,           1,           1,           1,           1,\n",
       "                  1,           1,           1,           1,           1,           1,           1,           1,           1,           1,           1,           1,           1,           1,           1,           1,           1,           1,           1,           1,           1,           1,           1,\n",
       "                  1,           1,           1,           1,           1,           1,           1,           1,           1,           1,           1,           1,           1,           1,           1,           1,           1,           1,           1,           1,           1,           1,           1,\n",
       "                  1,           1,           1,           1,           1,           1,           1,           1,           1,           1,           1,           1,           1,           1,           1,           1,           1,           1,           1,           1,           1,           1,           1,\n",
       "                  1,           1,           1,           1,           1,           1,           1,           1,           1,           1,           1,           1,           1,           1,           1,           1,           1,           1,           1,           1,           1,           1,           1,\n",
       "                  1,           1,           1,           1,           1,           1,           1,           1,           1,           1,           1]]), 'Confidence', 'Precision'], [array([          0,    0.001001,    0.002002,    0.003003,    0.004004,    0.005005,    0.006006,    0.007007,    0.008008,    0.009009,     0.01001,    0.011011,    0.012012,    0.013013,    0.014014,    0.015015,    0.016016,    0.017017,    0.018018,    0.019019,     0.02002,    0.021021,    0.022022,    0.023023,\n",
       "          0.024024,    0.025025,    0.026026,    0.027027,    0.028028,    0.029029,     0.03003,    0.031031,    0.032032,    0.033033,    0.034034,    0.035035,    0.036036,    0.037037,    0.038038,    0.039039,     0.04004,    0.041041,    0.042042,    0.043043,    0.044044,    0.045045,    0.046046,    0.047047,\n",
       "          0.048048,    0.049049,     0.05005,    0.051051,    0.052052,    0.053053,    0.054054,    0.055055,    0.056056,    0.057057,    0.058058,    0.059059,     0.06006,    0.061061,    0.062062,    0.063063,    0.064064,    0.065065,    0.066066,    0.067067,    0.068068,    0.069069,     0.07007,    0.071071,\n",
       "          0.072072,    0.073073,    0.074074,    0.075075,    0.076076,    0.077077,    0.078078,    0.079079,     0.08008,    0.081081,    0.082082,    0.083083,    0.084084,    0.085085,    0.086086,    0.087087,    0.088088,    0.089089,     0.09009,    0.091091,    0.092092,    0.093093,    0.094094,    0.095095,\n",
       "          0.096096,    0.097097,    0.098098,    0.099099,      0.1001,      0.1011,      0.1021,      0.1031,      0.1041,     0.10511,     0.10611,     0.10711,     0.10811,     0.10911,     0.11011,     0.11111,     0.11211,     0.11311,     0.11411,     0.11512,     0.11612,     0.11712,     0.11812,     0.11912,\n",
       "           0.12012,     0.12112,     0.12212,     0.12312,     0.12412,     0.12513,     0.12613,     0.12713,     0.12813,     0.12913,     0.13013,     0.13113,     0.13213,     0.13313,     0.13413,     0.13514,     0.13614,     0.13714,     0.13814,     0.13914,     0.14014,     0.14114,     0.14214,     0.14314,\n",
       "           0.14414,     0.14515,     0.14615,     0.14715,     0.14815,     0.14915,     0.15015,     0.15115,     0.15215,     0.15315,     0.15415,     0.15516,     0.15616,     0.15716,     0.15816,     0.15916,     0.16016,     0.16116,     0.16216,     0.16316,     0.16416,     0.16517,     0.16617,     0.16717,\n",
       "           0.16817,     0.16917,     0.17017,     0.17117,     0.17217,     0.17317,     0.17417,     0.17518,     0.17618,     0.17718,     0.17818,     0.17918,     0.18018,     0.18118,     0.18218,     0.18318,     0.18418,     0.18519,     0.18619,     0.18719,     0.18819,     0.18919,     0.19019,     0.19119,\n",
       "           0.19219,     0.19319,     0.19419,      0.1952,      0.1962,      0.1972,      0.1982,      0.1992,      0.2002,      0.2012,      0.2022,      0.2032,      0.2042,     0.20521,     0.20621,     0.20721,     0.20821,     0.20921,     0.21021,     0.21121,     0.21221,     0.21321,     0.21421,     0.21522,\n",
       "           0.21622,     0.21722,     0.21822,     0.21922,     0.22022,     0.22122,     0.22222,     0.22322,     0.22422,     0.22523,     0.22623,     0.22723,     0.22823,     0.22923,     0.23023,     0.23123,     0.23223,     0.23323,     0.23423,     0.23524,     0.23624,     0.23724,     0.23824,     0.23924,\n",
       "           0.24024,     0.24124,     0.24224,     0.24324,     0.24424,     0.24525,     0.24625,     0.24725,     0.24825,     0.24925,     0.25025,     0.25125,     0.25225,     0.25325,     0.25425,     0.25526,     0.25626,     0.25726,     0.25826,     0.25926,     0.26026,     0.26126,     0.26226,     0.26326,\n",
       "           0.26426,     0.26527,     0.26627,     0.26727,     0.26827,     0.26927,     0.27027,     0.27127,     0.27227,     0.27327,     0.27427,     0.27528,     0.27628,     0.27728,     0.27828,     0.27928,     0.28028,     0.28128,     0.28228,     0.28328,     0.28428,     0.28529,     0.28629,     0.28729,\n",
       "           0.28829,     0.28929,     0.29029,     0.29129,     0.29229,     0.29329,     0.29429,      0.2953,      0.2963,      0.2973,      0.2983,      0.2993,      0.3003,      0.3013,      0.3023,      0.3033,      0.3043,     0.30531,     0.30631,     0.30731,     0.30831,     0.30931,     0.31031,     0.31131,\n",
       "           0.31231,     0.31331,     0.31431,     0.31532,     0.31632,     0.31732,     0.31832,     0.31932,     0.32032,     0.32132,     0.32232,     0.32332,     0.32432,     0.32533,     0.32633,     0.32733,     0.32833,     0.32933,     0.33033,     0.33133,     0.33233,     0.33333,     0.33433,     0.33534,\n",
       "           0.33634,     0.33734,     0.33834,     0.33934,     0.34034,     0.34134,     0.34234,     0.34334,     0.34434,     0.34535,     0.34635,     0.34735,     0.34835,     0.34935,     0.35035,     0.35135,     0.35235,     0.35335,     0.35435,     0.35536,     0.35636,     0.35736,     0.35836,     0.35936,\n",
       "           0.36036,     0.36136,     0.36236,     0.36336,     0.36436,     0.36537,     0.36637,     0.36737,     0.36837,     0.36937,     0.37037,     0.37137,     0.37237,     0.37337,     0.37437,     0.37538,     0.37638,     0.37738,     0.37838,     0.37938,     0.38038,     0.38138,     0.38238,     0.38338,\n",
       "           0.38438,     0.38539,     0.38639,     0.38739,     0.38839,     0.38939,     0.39039,     0.39139,     0.39239,     0.39339,     0.39439,      0.3954,      0.3964,      0.3974,      0.3984,      0.3994,      0.4004,      0.4014,      0.4024,      0.4034,      0.4044,     0.40541,     0.40641,     0.40741,\n",
       "           0.40841,     0.40941,     0.41041,     0.41141,     0.41241,     0.41341,     0.41441,     0.41542,     0.41642,     0.41742,     0.41842,     0.41942,     0.42042,     0.42142,     0.42242,     0.42342,     0.42442,     0.42543,     0.42643,     0.42743,     0.42843,     0.42943,     0.43043,     0.43143,\n",
       "           0.43243,     0.43343,     0.43443,     0.43544,     0.43644,     0.43744,     0.43844,     0.43944,     0.44044,     0.44144,     0.44244,     0.44344,     0.44444,     0.44545,     0.44645,     0.44745,     0.44845,     0.44945,     0.45045,     0.45145,     0.45245,     0.45345,     0.45445,     0.45546,\n",
       "           0.45646,     0.45746,     0.45846,     0.45946,     0.46046,     0.46146,     0.46246,     0.46346,     0.46446,     0.46547,     0.46647,     0.46747,     0.46847,     0.46947,     0.47047,     0.47147,     0.47247,     0.47347,     0.47447,     0.47548,     0.47648,     0.47748,     0.47848,     0.47948,\n",
       "           0.48048,     0.48148,     0.48248,     0.48348,     0.48448,     0.48549,     0.48649,     0.48749,     0.48849,     0.48949,     0.49049,     0.49149,     0.49249,     0.49349,     0.49449,      0.4955,      0.4965,      0.4975,      0.4985,      0.4995,      0.5005,      0.5015,      0.5025,      0.5035,\n",
       "            0.5045,     0.50551,     0.50651,     0.50751,     0.50851,     0.50951,     0.51051,     0.51151,     0.51251,     0.51351,     0.51451,     0.51552,     0.51652,     0.51752,     0.51852,     0.51952,     0.52052,     0.52152,     0.52252,     0.52352,     0.52452,     0.52553,     0.52653,     0.52753,\n",
       "           0.52853,     0.52953,     0.53053,     0.53153,     0.53253,     0.53353,     0.53453,     0.53554,     0.53654,     0.53754,     0.53854,     0.53954,     0.54054,     0.54154,     0.54254,     0.54354,     0.54454,     0.54555,     0.54655,     0.54755,     0.54855,     0.54955,     0.55055,     0.55155,\n",
       "           0.55255,     0.55355,     0.55455,     0.55556,     0.55656,     0.55756,     0.55856,     0.55956,     0.56056,     0.56156,     0.56256,     0.56356,     0.56456,     0.56557,     0.56657,     0.56757,     0.56857,     0.56957,     0.57057,     0.57157,     0.57257,     0.57357,     0.57457,     0.57558,\n",
       "           0.57658,     0.57758,     0.57858,     0.57958,     0.58058,     0.58158,     0.58258,     0.58358,     0.58458,     0.58559,     0.58659,     0.58759,     0.58859,     0.58959,     0.59059,     0.59159,     0.59259,     0.59359,     0.59459,      0.5956,      0.5966,      0.5976,      0.5986,      0.5996,\n",
       "            0.6006,      0.6016,      0.6026,      0.6036,      0.6046,     0.60561,     0.60661,     0.60761,     0.60861,     0.60961,     0.61061,     0.61161,     0.61261,     0.61361,     0.61461,     0.61562,     0.61662,     0.61762,     0.61862,     0.61962,     0.62062,     0.62162,     0.62262,     0.62362,\n",
       "           0.62462,     0.62563,     0.62663,     0.62763,     0.62863,     0.62963,     0.63063,     0.63163,     0.63263,     0.63363,     0.63463,     0.63564,     0.63664,     0.63764,     0.63864,     0.63964,     0.64064,     0.64164,     0.64264,     0.64364,     0.64464,     0.64565,     0.64665,     0.64765,\n",
       "           0.64865,     0.64965,     0.65065,     0.65165,     0.65265,     0.65365,     0.65465,     0.65566,     0.65666,     0.65766,     0.65866,     0.65966,     0.66066,     0.66166,     0.66266,     0.66366,     0.66466,     0.66567,     0.66667,     0.66767,     0.66867,     0.66967,     0.67067,     0.67167,\n",
       "           0.67267,     0.67367,     0.67467,     0.67568,     0.67668,     0.67768,     0.67868,     0.67968,     0.68068,     0.68168,     0.68268,     0.68368,     0.68468,     0.68569,     0.68669,     0.68769,     0.68869,     0.68969,     0.69069,     0.69169,     0.69269,     0.69369,     0.69469,      0.6957,\n",
       "            0.6967,      0.6977,      0.6987,      0.6997,      0.7007,      0.7017,      0.7027,      0.7037,      0.7047,     0.70571,     0.70671,     0.70771,     0.70871,     0.70971,     0.71071,     0.71171,     0.71271,     0.71371,     0.71471,     0.71572,     0.71672,     0.71772,     0.71872,     0.71972,\n",
       "           0.72072,     0.72172,     0.72272,     0.72372,     0.72472,     0.72573,     0.72673,     0.72773,     0.72873,     0.72973,     0.73073,     0.73173,     0.73273,     0.73373,     0.73473,     0.73574,     0.73674,     0.73774,     0.73874,     0.73974,     0.74074,     0.74174,     0.74274,     0.74374,\n",
       "           0.74474,     0.74575,     0.74675,     0.74775,     0.74875,     0.74975,     0.75075,     0.75175,     0.75275,     0.75375,     0.75475,     0.75576,     0.75676,     0.75776,     0.75876,     0.75976,     0.76076,     0.76176,     0.76276,     0.76376,     0.76476,     0.76577,     0.76677,     0.76777,\n",
       "           0.76877,     0.76977,     0.77077,     0.77177,     0.77277,     0.77377,     0.77477,     0.77578,     0.77678,     0.77778,     0.77878,     0.77978,     0.78078,     0.78178,     0.78278,     0.78378,     0.78478,     0.78579,     0.78679,     0.78779,     0.78879,     0.78979,     0.79079,     0.79179,\n",
       "           0.79279,     0.79379,     0.79479,      0.7958,      0.7968,      0.7978,      0.7988,      0.7998,      0.8008,      0.8018,      0.8028,      0.8038,      0.8048,     0.80581,     0.80681,     0.80781,     0.80881,     0.80981,     0.81081,     0.81181,     0.81281,     0.81381,     0.81481,     0.81582,\n",
       "           0.81682,     0.81782,     0.81882,     0.81982,     0.82082,     0.82182,     0.82282,     0.82382,     0.82482,     0.82583,     0.82683,     0.82783,     0.82883,     0.82983,     0.83083,     0.83183,     0.83283,     0.83383,     0.83483,     0.83584,     0.83684,     0.83784,     0.83884,     0.83984,\n",
       "           0.84084,     0.84184,     0.84284,     0.84384,     0.84484,     0.84585,     0.84685,     0.84785,     0.84885,     0.84985,     0.85085,     0.85185,     0.85285,     0.85385,     0.85485,     0.85586,     0.85686,     0.85786,     0.85886,     0.85986,     0.86086,     0.86186,     0.86286,     0.86386,\n",
       "           0.86486,     0.86587,     0.86687,     0.86787,     0.86887,     0.86987,     0.87087,     0.87187,     0.87287,     0.87387,     0.87487,     0.87588,     0.87688,     0.87788,     0.87888,     0.87988,     0.88088,     0.88188,     0.88288,     0.88388,     0.88488,     0.88589,     0.88689,     0.88789,\n",
       "           0.88889,     0.88989,     0.89089,     0.89189,     0.89289,     0.89389,     0.89489,      0.8959,      0.8969,      0.8979,      0.8989,      0.8999,      0.9009,      0.9019,      0.9029,      0.9039,      0.9049,     0.90591,     0.90691,     0.90791,     0.90891,     0.90991,     0.91091,     0.91191,\n",
       "           0.91291,     0.91391,     0.91491,     0.91592,     0.91692,     0.91792,     0.91892,     0.91992,     0.92092,     0.92192,     0.92292,     0.92392,     0.92492,     0.92593,     0.92693,     0.92793,     0.92893,     0.92993,     0.93093,     0.93193,     0.93293,     0.93393,     0.93493,     0.93594,\n",
       "           0.93694,     0.93794,     0.93894,     0.93994,     0.94094,     0.94194,     0.94294,     0.94394,     0.94494,     0.94595,     0.94695,     0.94795,     0.94895,     0.94995,     0.95095,     0.95195,     0.95295,     0.95395,     0.95495,     0.95596,     0.95696,     0.95796,     0.95896,     0.95996,\n",
       "           0.96096,     0.96196,     0.96296,     0.96396,     0.96496,     0.96597,     0.96697,     0.96797,     0.96897,     0.96997,     0.97097,     0.97197,     0.97297,     0.97397,     0.97497,     0.97598,     0.97698,     0.97798,     0.97898,     0.97998,     0.98098,     0.98198,     0.98298,     0.98398,\n",
       "           0.98498,     0.98599,     0.98699,     0.98799,     0.98899,     0.98999,     0.99099,     0.99199,     0.99299,     0.99399,     0.99499,       0.996,       0.997,       0.998,       0.999,           1]), array([[    0.62376,     0.62376,      0.6198,     0.61782,     0.61188,     0.60792,     0.60792,     0.60594,     0.60198,     0.59802,     0.59802,     0.59802,     0.59604,     0.59208,      0.5901,      0.5901,      0.5901,     0.58614,     0.58416,     0.58218,     0.58118,      0.5802,     0.57624,\n",
       "            0.57426,      0.5703,      0.5703,     0.56832,     0.56832,     0.56436,      0.5604,      0.5604,      0.5604,     0.55842,     0.55325,     0.54741,     0.54653,     0.54059,     0.53861,     0.53465,     0.53267,     0.52871,     0.52871,     0.52475,     0.52475,     0.52277,     0.51485,\n",
       "            0.51287,     0.50851,     0.50297,     0.50099,     0.49901,     0.49703,     0.49505,     0.49457,     0.48785,     0.48713,     0.48713,     0.48515,     0.48515,     0.48087,     0.47921,     0.47921,     0.47921,     0.47921,     0.47921,     0.47327,     0.47327,     0.47327,     0.46535,\n",
       "            0.46535,     0.46535,     0.46139,     0.46139,     0.45941,     0.45662,     0.45545,     0.45545,     0.45347,     0.45341,     0.44752,      0.4462,     0.44554,     0.44554,     0.44554,     0.44356,     0.44158,     0.44158,     0.44158,     0.43762,     0.43579,     0.43366,     0.43168,\n",
       "            0.43168,     0.43168,      0.4297,     0.42772,     0.42574,     0.42574,     0.42566,     0.42376,     0.42178,     0.42178,     0.42178,     0.42137,     0.41782,     0.41584,     0.41386,     0.41386,     0.41386,     0.41386,     0.41187,      0.4099,      0.4099,      0.4099,     0.40792,\n",
       "            0.40594,     0.39556,     0.39406,     0.39208,      0.3901,      0.3901,      0.3901,      0.3901,      0.3872,     0.38297,     0.38218,      0.3802,      0.3802,      0.3802,     0.37641,     0.37624,     0.37426,      0.3703,     0.36949,     0.36832,     0.36634,     0.36634,     0.36436,\n",
       "            0.36436,     0.36238,      0.3604,     0.35893,     0.35587,     0.35452,     0.35446,     0.35446,     0.35248,     0.35248,     0.35248,     0.35248,     0.35248,      0.3505,     0.34795,      0.3444,     0.34257,     0.34257,     0.34048,     0.33764,     0.33465,     0.33381,     0.33192,\n",
       "            0.32998,     0.32871,     0.32871,     0.32871,     0.32673,     0.32673,     0.32673,     0.32673,     0.32673,     0.32475,     0.32079,     0.32079,     0.32079,     0.32079,     0.31485,      0.3148,       0.313,     0.30921,     0.30558,     0.30297,     0.30297,     0.30133,     0.30099,\n",
       "            0.30099,     0.29949,     0.29614,     0.29307,     0.29307,     0.29307,     0.29307,     0.29139,     0.29109,     0.29109,     0.29109,     0.28818,     0.28713,     0.28713,     0.28713,     0.28561,     0.27979,     0.27921,     0.27921,     0.27921,     0.27921,     0.27723,     0.27723,\n",
       "            0.27525,     0.27525,     0.27525,     0.27525,     0.27525,     0.27525,     0.27525,     0.27327,     0.27167,     0.27129,     0.26953,     0.26931,     0.26375,     0.26269,     0.26139,     0.26139,     0.26139,     0.25941,     0.25941,     0.25743,     0.25743,     0.25743,     0.25743,\n",
       "            0.25742,     0.25594,     0.25545,     0.25545,     0.25194,      0.2495,      0.2495,     0.24752,     0.24752,     0.24752,     0.24356,     0.24356,     0.24356,     0.24356,     0.24356,     0.24356,     0.24356,     0.24356,     0.24356,     0.24356,     0.24158,     0.24158,     0.23814,\n",
       "            0.23366,     0.23366,     0.23366,     0.23366,     0.23366,     0.23366,     0.23366,     0.23299,     0.22968,     0.22887,     0.22805,     0.22772,      0.2226,     0.22071,       0.218,     0.21674,     0.21584,     0.21584,     0.21584,     0.21584,     0.21518,     0.21402,      0.2127,\n",
       "            0.21188,     0.21188,      0.2099,     0.20949,     0.20906,     0.20864,     0.20821,     0.20704,     0.20474,     0.20396,     0.20324,     0.20243,     0.20162,     0.20081,         0.2,         0.2,         0.2,         0.2,     0.19932,     0.19851,     0.19694,     0.19329,     0.19213,\n",
       "            0.18991,      0.1891,     0.18829,     0.18812,     0.18614,     0.18573,     0.18457,     0.18286,      0.1802,      0.1802,      0.1802,      0.1802,     0.17822,      0.1781,     0.17624,     0.17624,     0.17523,     0.17389,     0.17331,     0.17273,     0.17228,     0.17228,     0.17228,\n",
       "            0.17228,     0.17133,     0.16832,     0.16821,      0.1674,     0.16659,     0.16634,      0.1644,     0.16037,     0.15587,     0.15411,     0.15295,     0.15248,     0.15184,      0.1511,     0.14831,     0.14715,     0.14653,     0.14653,     0.14653,     0.14653,     0.14653,     0.14632,\n",
       "             0.1442,     0.14059,     0.14059,     0.13791,      0.1369,     0.13609,     0.13535,     0.13465,     0.13465,     0.13446,     0.13392,     0.13338,     0.13284,     0.13236,     0.13191,     0.13146,     0.13101,     0.13069,     0.13069,     0.13069,     0.13069,     0.13069,     0.13069,\n",
       "            0.13036,     0.13001,     0.12966,      0.1293,     0.12895,     0.12871,     0.12871,     0.12871,     0.12871,     0.12871,     0.12871,     0.12673,     0.12673,     0.12599,     0.12525,     0.12409,     0.12251,     0.12178,     0.12104,     0.12011,      0.1191,     0.11736,     0.11682,\n",
       "            0.11581,     0.11485,     0.11485,     0.11485,     0.11409,     0.11206,     0.11003,     0.10891,     0.10891,     0.10891,     0.10813,     0.10712,      0.1061,     0.10509,      0.1032,     0.10297,     0.10297,     0.10297,     0.10297,     0.10297,     0.10269,     0.10167,     0.09901,\n",
       "            0.09901,     0.09901,     0.09901,    0.098738,    0.098332,    0.097927,    0.097521,    0.097115,    0.094621,     0.09408,    0.093539,    0.092935,     0.09192,    0.091089,     0.09095,    0.090273,    0.089597,     0.08892,    0.088244,    0.087567,    0.087129,    0.087129,    0.086911,\n",
       "           0.086572,    0.086234,    0.085896,    0.085557,    0.085219,    0.084747,     0.08424,    0.083732,    0.083225,    0.083168,    0.083168,    0.083168,    0.083168,    0.083168,    0.083149,    0.082608,    0.082067,    0.081525,    0.076973,    0.076296,     0.07562,    0.075095,    0.074757,\n",
       "           0.074419,     0.07408,    0.073742,    0.073404,    0.072662,    0.071647,    0.071287,    0.071287,    0.071287,    0.071287,    0.071287,    0.071287,    0.070751,    0.070075,    0.069398,    0.068429,    0.067414,    0.065471,    0.059481,    0.059406,    0.059406,    0.059398,    0.059172,\n",
       "           0.058947,    0.058721,    0.058496,     0.05827,    0.058045,    0.057819,    0.057594,    0.057166,    0.056151,    0.055136,    0.054121,    0.053465,    0.053465,    0.053465,    0.053465,    0.053465,    0.053465,    0.053465,    0.053465,    0.051384,    0.051199,    0.051015,     0.05083,\n",
       "           0.050646,    0.050461,    0.050277,    0.050092,    0.049908,    0.049723,    0.049539,    0.048952,    0.048275,    0.047599,    0.046922,    0.046246,    0.045569,    0.045153,    0.044747,    0.044341,    0.043935,    0.043506,     0.04283,    0.042153,    0.041584,    0.041584,    0.041584,\n",
       "           0.041348,    0.040333,    0.039509,    0.039171,    0.038832,    0.038494,    0.038156,    0.037817,      0.0375,     0.03721,     0.03692,     0.03663,     0.03634,     0.03605,     0.03576,    0.035644,    0.035644,    0.034986,    0.033972,    0.033663,    0.033536,     0.03336,    0.033183,\n",
       "           0.033007,     0.03283,    0.032654,    0.032477,    0.032301,    0.032124,    0.031948,    0.031771,    0.031344,    0.030667,    0.029991,    0.029703,    0.029703,    0.029703,    0.029703,    0.029703,    0.027723,    0.027723,    0.027723,    0.027723,    0.027723,    0.027723,    0.027723,\n",
       "           0.027723,    0.027723,    0.027723,    0.027429,    0.027117,    0.026804,    0.026492,     0.02618,    0.025868,    0.025607,    0.025382,    0.025156,    0.024931,    0.024705,     0.02448,    0.024254,    0.024029,    0.023803,    0.023762,    0.023451,    0.023082,    0.022713,    0.022344,\n",
       "           0.021975,     0.02169,    0.021496,    0.021303,     0.02111,    0.020917,    0.020723,     0.02053,    0.020337,    0.020143,     0.01995,    0.019683,    0.019176,    0.018668,    0.018161,    0.017732,    0.017461,    0.017191,     0.01692,    0.016649,    0.016379,    0.016108,    0.015842,\n",
       "           0.015819,    0.015239,    0.014659,    0.014079,    0.013227,    0.012212,    0.011737,    0.011524,     0.01131,    0.011096,    0.010883,    0.010669,    0.010455,    0.010242,    0.010028,    0.009901,    0.009901,    0.009901,    0.009901,    0.009901,    0.009901,    0.009901,    0.009901,\n",
       "           0.009901,    0.009901,    0.009901,    0.009901,    0.009901,    0.009901,    0.009901,    0.009901,    0.009901,    0.009901,    0.009901,    0.009901,    0.009901,    0.009901,    0.009901,    0.009901,    0.009901,    0.009901,   0.0097608,    0.009507,   0.0092533,   0.0089996,   0.0087459,\n",
       "          0.0084922,   0.0082384,   0.0079847,   0.0079208,   0.0079208,   0.0079208,   0.0079208,   0.0078717,   0.0078138,   0.0077558,   0.0076978,   0.0076398,   0.0075818,   0.0075238,   0.0074658,   0.0074078,   0.0073498,   0.0072918,   0.0072338,   0.0071758,   0.0071178,   0.0070598,   0.0070019,\n",
       "          0.0069439,   0.0068859,   0.0068279,   0.0067699,   0.0067119,   0.0066539,   0.0065959,   0.0065379,   0.0064799,   0.0064219,   0.0063639,   0.0063059,   0.0062479,     0.00619,    0.006132,    0.006074,    0.006016,    0.005958,   0.0055345,   0.0049546,   0.0043747,   0.0039604,   0.0039604,\n",
       "          0.0039604,   0.0039604,   0.0039604,   0.0039604,   0.0039604,   0.0039604,   0.0039604,   0.0039604,   0.0039604,   0.0039604,   0.0039604,   0.0039604,   0.0039604,   0.0039604,   0.0039604,   0.0039604,   0.0039604,   0.0039604,   0.0039604,   0.0039604,   0.0039604,   0.0039604,   0.0039604,\n",
       "          0.0039604,   0.0039604,   0.0039604,   0.0039604,   0.0039604,   0.0039604,   0.0039604,   0.0039604,   0.0039604,   0.0039604,   0.0039604,   0.0039604,   0.0039604,   0.0039291,   0.0038859,   0.0038427,   0.0037995,   0.0037563,   0.0037131,   0.0036699,   0.0036268,   0.0035836,   0.0035404,\n",
       "          0.0034972,    0.003454,   0.0034108,   0.0033676,   0.0033245,   0.0032813,   0.0032381,   0.0031949,   0.0031517,   0.0031085,   0.0030653,   0.0030222,    0.002979,   0.0029358,   0.0028926,   0.0028494,   0.0028062,    0.002763,   0.0027198,   0.0026767,   0.0026335,   0.0025903,   0.0025471,\n",
       "          0.0025039,   0.0024607,   0.0024175,   0.0023744,   0.0023312,    0.002288,   0.0022448,   0.0022016,   0.0021584,   0.0021152,   0.0020721,   0.0020289,   0.0019857,           0,           0,           0,           0,           0,           0,           0,           0,           0,           0,\n",
       "                  0,           0,           0,           0,           0,           0,           0,           0,           0,           0,           0,           0,           0,           0,           0,           0,           0,           0,           0,           0,           0,           0,           0,\n",
       "                  0,           0,           0,           0,           0,           0,           0,           0,           0,           0,           0,           0,           0,           0,           0,           0,           0,           0,           0,           0,           0,           0,           0,\n",
       "                  0,           0,           0,           0,           0,           0,           0,           0,           0,           0,           0,           0,           0,           0,           0,           0,           0,           0,           0,           0,           0,           0,           0,\n",
       "                  0,           0,           0,           0,           0,           0,           0,           0,           0,           0,           0,           0,           0,           0,           0,           0,           0,           0,           0,           0,           0,           0,           0,\n",
       "                  0,           0,           0,           0,           0,           0,           0,           0,           0,           0,           0,           0,           0,           0,           0,           0,           0,           0,           0,           0,           0,           0,           0,\n",
       "                  0,           0,           0,           0,           0,           0,           0,           0,           0,           0,           0,           0,           0,           0,           0,           0,           0,           0,           0,           0,           0,           0,           0,\n",
       "                  0,           0,           0,           0,           0,           0,           0,           0,           0,           0,           0,           0,           0,           0,           0,           0,           0,           0,           0,           0,           0,           0,           0,\n",
       "                  0,           0,           0,           0,           0,           0,           0,           0,           0,           0,           0,           0,           0,           0,           0,           0,           0,           0,           0,           0,           0,           0,           0,\n",
       "                  0,           0,           0,           0,           0,           0,           0,           0,           0,           0,           0]]), 'Confidence', 'Recall']]\n",
       "fitness: 0.11502571999599577\n",
       "keys: ['metrics/precision(B)', 'metrics/recall(B)', 'metrics/mAP50(B)', 'metrics/mAP50-95(B)']\n",
       "maps: array([   0.091017])\n",
       "names: {0: 'icebergs'}\n",
       "plot: True\n",
       "results_dict: {'metrics/precision(B)': 0.4128731722667357, 'metrics/recall(B)': 0.4099009900990099, 'metrics/mAP50(B)': 0.33110441735543145, 'metrics/mAP50-95(B)': 0.09101697584494736, 'fitness': 0.11502571999599577}\n",
       "save_dir: WindowsPath('runs/detect/train')\n",
       "speed: {'preprocess': 0.6961504618326824, 'inference': 29.857540130615234, 'loss': 0.0, 'postprocess': 1.5291055043538413}\n",
       "task: 'detect'"
      ]
     },
     "execution_count": 6,
     "metadata": {},
     "output_type": "execute_result"
    }
   ],
   "source": [
    "from ultralytics import YOLO\n",
    "\n",
    "# Load a model\n",
    "model = YOLO(\"yolo11m.pt\")  # load a pretrained model (recommended for training)\n",
    "\n",
    "model.train(data='D:/snap data/marked data/data.yaml', epochs=40, imgsz=640, batch=16)"
   ]
  },
  {
   "cell_type": "code",
   "execution_count": 21,
   "metadata": {},
   "outputs": [],
   "source": [
    "# load model\n",
    "from ultralytics import YOLO\n",
    "\n",
    "model = YOLO(\"D:\\snap data\\yolov12s\\yolo11m.pt\")"
   ]
  },
  {
   "cell_type": "code",
   "execution_count": 45,
   "metadata": {},
   "outputs": [],
   "source": [
    "image_link1 = 'D:/snap data/marked data/test/images/filteredtranslated_0_subset_7_of_S1A_EW_GRDM_1SDH_20240919T010234_20240919T010339_055727_06CE7F_129D-1-_TC_png.rf.75ce493e8a1e2ea7045930dd56dafeb1.jpg'\n",
    "image_link2 = 'D:/snap data/marked data/test/images/filteredtranslated_0_subset_0_of_S1A_EW_GRDM_1SDH_20240925T015158_20240925T015303_055815_06D1F4_5C9C_TC_png.rf.b48223f249eeac0bc4ab65afaf08d782.jpg'\n",
    "image_link3 = 'D:/snap data/marked data/train/images/filteredtranslated_0_subset_0_of_S1A_EW_GRDM_1SDH_20230913T010238_20230913T010342_050302_060E51_E203_TC_png.rf.9e7712d210fd52d422080e8596080354.jpg'\n",
    "image_link4 = 'D:/snap data/marked data/valid/images/filteredtranslated_0_subset_5_of_S1A_EW_GRDM_1SDH_20240922T012715_20240922T012819_055771_06D02E_B434_TC_png.rf.68f6f3c5d53cb02c77cae702163666bb.jpg'\n",
    "image_link5 = 'D:/snap data/marked data/valid/images/filteredtranslated_3_subset_7_of_S1A_EW_GRDM_1SDH_20240919T010234_20240919T010339_055727_06CE7F_129D-1-_TC_png.rf.079e1fe512c39aa667e5345133e6ed81.jpg'\n",
    "\n",
    "image_link6 = 'D:/snap data/north clipped/tiff/pngs/filteredtranslated_3_subset_1_of_S1A_EW_GRDM_1SDH_20240821T005419_20240821T005523_055304_06BE36_5011_TC.png'"
   ]
  },
  {
   "cell_type": "code",
   "execution_count": 24,
   "metadata": {},
   "outputs": [
    {
     "name": "stdout",
     "output_type": "stream",
     "text": [
      "{0: 'icebergs'}\n"
     ]
    }
   ],
   "source": [
    "# Список классов\n",
    "cl = ['icebergs']\n",
    "\n",
    "\n",
    "cl_dict = {i: c for i, c in enumerate(cl)}\n",
    "print(cl_dict)"
   ]
  },
  {
   "cell_type": "code",
   "execution_count": null,
   "metadata": {},
   "outputs": [],
   "source": [
    "def inference_img(img_path):\n",
    "    image = Image.open(img_path)\n",
    "    image = np.asarray(image)\n",
    "    if len(image.shape) != 3:\n",
    "        image = np.stack((image,)*3, axis=-1)\n",
    "\n",
    "    results = model.infer(img_path)[0]\n",
    "\n",
    "    box_image = image.copy()\n",
    "\n",
    "    for box in results.predictions:\n",
    "        print('box')\n",
    "\n",
    "        x1 = box.x - box.width/2\n",
    "        y1 = box.y - box.height/2\n",
    "        x2 = box.x + box.width/2\n",
    "        y2 = box.y + box.height/2\n",
    "        x1 = int(x1)\n",
    "        y1 = int(y1)\n",
    "        x2 = int(x2)\n",
    "        y2 = int(y2)\n",
    "\n",
    "        score = box.confidence\n",
    "        label = box.class_name\n",
    "\n",
    "        color = map_color_to_prob(score * 100)\n",
    "        cv2.rectangle(box_image, (x1, y1), (x2,y2), color, 2)\n",
    "        print(f'{score:.2f} {label}')\n",
    "        cv2.putText(box_image, f'{score:.2f}', (x1-50, y1 - 10), cv2.FONT_HERSHEY_SIMPLEX, 0.9, color, 2)\n",
    "\n",
    "\n",
    "    plt.imshow(box_image)\n",
    "    plt.show()\n",
    "\n",
    "\n",
    "def map_color_to_prob(prob_value):\n",
    "    if(prob_value > 45):\n",
    "        return (0, 255, 0)\n",
    "    if(prob_value > 30 and prob_value <= 45):\n",
    "        return (181, 255, 0)\n",
    "    if(prob_value > 15 and prob_value <= 30):\n",
    "        return (255, 189, 0)\n",
    "    if(prob_value > 5 and prob_value <= 15):\n",
    "        return (255, 111, 0)\n",
    "    if(prob_value > 0 and prob_value <= 5):\n",
    "        return (255, 0, 0)\n"
   ]
  },
  {
   "cell_type": "code",
   "execution_count": 55,
   "metadata": {},
   "outputs": [
    {
     "data": {
      "text/plain": [
       "(625, 625, 3)"
      ]
     },
     "execution_count": 55,
     "metadata": {},
     "output_type": "execute_result"
    }
   ],
   "source": [
    "image = Image.open(image_link6)\n",
    "image = np.asarray(image)\n",
    "image = np.stack((image,)*3, axis=-1)\n",
    "image.shape"
   ]
  },
  {
   "cell_type": "code",
   "execution_count": null,
   "metadata": {},
   "outputs": [
    {
     "name": "stdout",
     "output_type": "stream",
     "text": [
      "box\n",
      "0.71 icebergs\n",
      "box\n",
      "0.61 icebergs\n",
      "box\n",
      "0.61 icebergs\n"
     ]
    },
    {
     "data": {
      "image/png": "[encoded data removed]",
      "text/plain": [
       "<Figure size 640x480 with 1 Axes>"
      ]
     },
     "metadata": {},
     "output_type": "display_data"
    }
   ],
   "source": [
    "inference_img(image_link5)"
   ]
  }
 ],
 "metadata": {
  "kernelspec": {
   "display_name": "Python 3",
   "language": "python",
   "name": "python3"
  },
  "language_info": {
   "codemirror_mode": {
    "name": "ipython",
    "version": 3
   },
   "file_extension": ".py",
   "mimetype": "text/x-python",
   "name": "python",
   "nbconvert_exporter": "python",
   "pygments_lexer": "ipython3",
   "version": "3.9.2"
  }
 },
 "nbformat": 4,
 "nbformat_minor": 2
}
