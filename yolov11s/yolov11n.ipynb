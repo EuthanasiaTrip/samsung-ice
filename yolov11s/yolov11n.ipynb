{
 "cells": [
  {
   "cell_type": "code",
   "execution_count": 2,
   "metadata": {},
   "outputs": [
    {
     "name": "stderr",
     "output_type": "stream",
     "text": [
      "\u001b[34m\u001b[1mwandb\u001b[0m: \u001b[33mWARNING\u001b[0m Calling wandb.login() after wandb.init() has no effect.\n"
     ]
    },
    {
     "data": {
      "text/html": [
       "Finishing last run (ID:t4z3zztd) before initializing another..."
      ],
      "text/plain": [
       "<IPython.core.display.HTML object>"
      ]
     },
     "metadata": {},
     "output_type": "display_data"
    },
    {
     "data": {
      "text/html": [
       " View run <strong style=\"color:#cdcd00\">yolo_11n</strong> at: <a href='https://wandb.ai/craftyea-narfu/diploma/runs/t4z3zztd' target=\"_blank\">https://wandb.ai/craftyea-narfu/diploma/runs/t4z3zztd</a><br/> View project at: <a href='https://wandb.ai/craftyea-narfu/diploma' target=\"_blank\">https://wandb.ai/craftyea-narfu/diploma</a><br/>Synced 5 W&B file(s), 0 media file(s), 0 artifact file(s) and 0 other file(s)"
      ],
      "text/plain": [
       "<IPython.core.display.HTML object>"
      ]
     },
     "metadata": {},
     "output_type": "display_data"
    },
    {
     "data": {
      "text/html": [
       "Find logs at: <code>.\\wandb\\run-20250412_221341-t4z3zztd\\logs</code>"
      ],
      "text/plain": [
       "<IPython.core.display.HTML object>"
      ]
     },
     "metadata": {},
     "output_type": "display_data"
    },
    {
     "data": {
      "text/html": [
       "Successfully finished last run (ID:t4z3zztd). Initializing new run:<br/>"
      ],
      "text/plain": [
       "<IPython.core.display.HTML object>"
      ]
     },
     "metadata": {},
     "output_type": "display_data"
    },
    {
     "data": {
      "text/html": [
       "Tracking run with wandb version 0.18.3"
      ],
      "text/plain": [
       "<IPython.core.display.HTML object>"
      ]
     },
     "metadata": {},
     "output_type": "display_data"
    },
    {
     "data": {
      "text/html": [
       "Run data is saved locally in <code>d:\\snap data\\yolov11s\\wandb\\run-20250412_221347-321en1pl</code>"
      ],
      "text/plain": [
       "<IPython.core.display.HTML object>"
      ]
     },
     "metadata": {},
     "output_type": "display_data"
    },
    {
     "data": {
      "text/html": [
       "Syncing run <strong><a href='https://wandb.ai/craftyea-narfu/diploma/runs/321en1pl' target=\"_blank\">yolo_11s</a></strong> to <a href='https://wandb.ai/craftyea-narfu/diploma' target=\"_blank\">Weights & Biases</a> (<a href='https://wandb.me/run' target=\"_blank\">docs</a>)<br/>"
      ],
      "text/plain": [
       "<IPython.core.display.HTML object>"
      ]
     },
     "metadata": {},
     "output_type": "display_data"
    },
    {
     "data": {
      "text/html": [
       " View project at <a href='https://wandb.ai/craftyea-narfu/diploma' target=\"_blank\">https://wandb.ai/craftyea-narfu/diploma</a>"
      ],
      "text/plain": [
       "<IPython.core.display.HTML object>"
      ]
     },
     "metadata": {},
     "output_type": "display_data"
    },
    {
     "data": {
      "text/html": [
       " View run at <a href='https://wandb.ai/craftyea-narfu/diploma/runs/321en1pl' target=\"_blank\">https://wandb.ai/craftyea-narfu/diploma/runs/321en1pl</a>"
      ],
      "text/plain": [
       "<IPython.core.display.HTML object>"
      ]
     },
     "metadata": {},
     "output_type": "display_data"
    },
    {
     "data": {
      "text/html": [
       "<button onClick=\"this.nextSibling.style.display='block';this.style.display='none';\">Display W&B run</button><iframe src='https://wandb.ai/craftyea-narfu/diploma/runs/321en1pl?jupyter=true' style='border:none;width:100%;height:420px;display:none;'></iframe>"
      ],
      "text/plain": [
       "<wandb.sdk.wandb_run.Run at 0x24ccd4fdbb0>"
      ]
     },
     "execution_count": 2,
     "metadata": {},
     "output_type": "execute_result"
    }
   ],
   "source": [
    "import wandb\n",
    "\n",
    "\n",
    "wandb.login(key=\"bac1dbcc274cb1a9808095dd46ca8ce81dd8e53e\")\n",
    "wandb.init(project=\"diploma\", name=\"yolo_11s\")"
   ]
  },
  {
   "cell_type": "code",
   "execution_count": 3,
   "metadata": {},
   "outputs": [],
   "source": [
    "import os\n",
    "os.environ[\"PYTORCH_CUDA_ALLOC_CONF\"] = \"max_split_size_mb:512\""
   ]
  },
  {
   "cell_type": "code",
   "execution_count": 4,
   "metadata": {},
   "outputs": [
    {
     "name": "stdout",
     "output_type": "stream",
     "text": [
      "WARNING  Python>=3.10 is required, but Python==3.9.2 is currently installed \n",
      "Downloading https://github.com/ultralytics/assets/releases/download/v8.3.0/yolo11s.pt to 'yolo11s.pt'...\n"
     ]
    },
    {
     "name": "stderr",
     "output_type": "stream",
     "text": [
      "100%|██████████| 18.4M/18.4M [00:02<00:00, 6.65MB/s]\n"
     ]
    },
    {
     "name": "stdout",
     "output_type": "stream",
     "text": [
      "New https://pypi.org/project/ultralytics/8.3.107 available  Update with 'pip install -U ultralytics'\n",
      "Ultralytics 8.3.13  Python-3.9.2 torch-2.1.0+cu118 CUDA:0 (NVIDIA GeForce GTX 1070, 8192MiB)\n",
      "\u001b[34m\u001b[1mengine\\trainer: \u001b[0mtask=detect, mode=train, model=yolo11s.pt, data=D:/snap data/marked data/data.yaml, epochs=40, time=None, patience=100, batch=16, imgsz=640, save=True, save_period=-1, cache=False, device=None, workers=8, project=None, name=train, exist_ok=False, pretrained=True, optimizer=auto, verbose=True, seed=0, deterministic=True, single_cls=False, rect=False, cos_lr=False, close_mosaic=10, resume=False, amp=True, fraction=1.0, profile=False, freeze=None, multi_scale=False, overlap_mask=True, mask_ratio=4, dropout=0.0, val=True, split=val, save_json=False, save_hybrid=False, conf=None, iou=0.7, max_det=300, half=False, dnn=False, plots=True, source=None, vid_stride=1, stream_buffer=False, visualize=False, augment=False, agnostic_nms=False, classes=None, retina_masks=False, embed=None, show=False, save_frames=False, save_txt=False, save_conf=False, save_crop=False, show_labels=True, show_conf=True, show_boxes=True, line_width=None, format=torchscript, keras=False, optimize=False, int8=False, dynamic=False, simplify=True, opset=None, workspace=4, nms=False, lr0=0.01, lrf=0.01, momentum=0.937, weight_decay=0.0005, warmup_epochs=3.0, warmup_momentum=0.8, warmup_bias_lr=0.1, box=7.5, cls=0.5, dfl=1.5, pose=12.0, kobj=1.0, label_smoothing=0.0, nbs=64, hsv_h=0.015, hsv_s=0.7, hsv_v=0.4, degrees=0.0, translate=0.1, scale=0.5, shear=0.0, perspective=0.0, flipud=0.0, fliplr=0.5, bgr=0.0, mosaic=1.0, mixup=0.0, copy_paste=0.0, copy_paste_mode=flip, auto_augment=randaugment, erasing=0.4, crop_fraction=1.0, cfg=None, tracker=botsort.yaml, save_dir=runs\\detect\\train\n",
      "Overriding model.yaml nc=80 with nc=1\n",
      "\n",
      "                   from  n    params  module                                       arguments                     \n",
      "  0                  -1  1       928  ultralytics.nn.modules.conv.Conv             [3, 32, 3, 2]                 \n",
      "  1                  -1  1     18560  ultralytics.nn.modules.conv.Conv             [32, 64, 3, 2]                \n",
      "  2                  -1  1     26080  ultralytics.nn.modules.block.C3k2            [64, 128, 1, False, 0.25]     \n",
      "  3                  -1  1    147712  ultralytics.nn.modules.conv.Conv             [128, 128, 3, 2]              \n",
      "  4                  -1  1    103360  ultralytics.nn.modules.block.C3k2            [128, 256, 1, False, 0.25]    \n",
      "  5                  -1  1    590336  ultralytics.nn.modules.conv.Conv             [256, 256, 3, 2]              \n",
      "  6                  -1  1    346112  ultralytics.nn.modules.block.C3k2            [256, 256, 1, True]           \n",
      "  7                  -1  1   1180672  ultralytics.nn.modules.conv.Conv             [256, 512, 3, 2]              \n",
      "  8                  -1  1   1380352  ultralytics.nn.modules.block.C3k2            [512, 512, 1, True]           \n",
      "  9                  -1  1    656896  ultralytics.nn.modules.block.SPPF            [512, 512, 5]                 \n",
      " 10                  -1  1    990976  ultralytics.nn.modules.block.C2PSA           [512, 512, 1]                 \n",
      " 11                  -1  1         0  torch.nn.modules.upsampling.Upsample         [None, 2, 'nearest']          \n",
      " 12             [-1, 6]  1         0  ultralytics.nn.modules.conv.Concat           [1]                           \n",
      " 13                  -1  1    443776  ultralytics.nn.modules.block.C3k2            [768, 256, 1, False]          \n",
      " 14                  -1  1         0  torch.nn.modules.upsampling.Upsample         [None, 2, 'nearest']          \n",
      " 15             [-1, 4]  1         0  ultralytics.nn.modules.conv.Concat           [1]                           \n",
      " 16                  -1  1    127680  ultralytics.nn.modules.block.C3k2            [512, 128, 1, False]          \n",
      " 17                  -1  1    147712  ultralytics.nn.modules.conv.Conv             [128, 128, 3, 2]              \n",
      " 18            [-1, 13]  1         0  ultralytics.nn.modules.conv.Concat           [1]                           \n",
      " 19                  -1  1    345472  ultralytics.nn.modules.block.C3k2            [384, 256, 1, False]          \n",
      " 20                  -1  1    590336  ultralytics.nn.modules.conv.Conv             [256, 256, 3, 2]              \n",
      " 21            [-1, 10]  1         0  ultralytics.nn.modules.conv.Concat           [1]                           \n",
      " 22                  -1  1   1511424  ultralytics.nn.modules.block.C3k2            [768, 512, 1, True]           \n",
      " 23        [16, 19, 22]  1    819795  ultralytics.nn.modules.head.Detect           [1, [128, 256, 512]]          \n",
      "YOLO11s summary: 319 layers, 9,428,179 parameters, 9,428,163 gradients, 21.5 GFLOPs\n",
      "\n",
      "Transferred 493/499 items from pretrained weights\n",
      "\u001b[34m\u001b[1mTensorBoard: \u001b[0mStart with 'tensorboard --logdir runs\\detect\\train', view at http://localhost:6006/\n",
      "Freezing layer 'model.23.dfl.conv.weight'\n",
      "\u001b[34m\u001b[1mAMP: \u001b[0mrunning Automatic Mixed Precision (AMP) checks with YOLO11n...\n",
      "Downloading https://github.com/ultralytics/assets/releases/download/v8.3.0/yolo11n.pt to 'yolo11n.pt'...\n"
     ]
    },
    {
     "name": "stderr",
     "output_type": "stream",
     "text": [
      "100%|██████████| 5.35M/5.35M [00:00<00:00, 9.50MB/s]\n",
      "c:\\Users\\jeday\\AppData\\Local\\Programs\\Python\\Python39\\lib\\site-packages\\tqdm\\auto.py:21: TqdmWarning: IProgress not found. Please update jupyter and ipywidgets. See https://ipywidgets.readthedocs.io/en/stable/user_install.html\n",
      "  from .autonotebook import tqdm as notebook_tqdm\n"
     ]
    },
    {
     "name": "stdout",
     "output_type": "stream",
     "text": [
      "\u001b[34m\u001b[1mAMP: \u001b[0mchecks passed \n"
     ]
    },
    {
     "name": "stderr",
     "output_type": "stream",
     "text": [
      "\u001b[34m\u001b[1mtrain: \u001b[0mScanning D:\\snap data\\marked data\\train\\labels... 798 images, 181 backgrounds, 0 corrupt: 100%|██████████| 798/798 [00:02<00:00, 294.66it/s]\n"
     ]
    },
    {
     "name": "stdout",
     "output_type": "stream",
     "text": [
      "\u001b[34m\u001b[1mtrain: \u001b[0mNew cache created: D:\\snap data\\marked data\\train\\labels.cache\n",
      "\u001b[34m\u001b[1malbumentations: \u001b[0mBlur(p=0.01, blur_limit=(3, 7)), MedianBlur(p=0.01, blur_limit=(3, 7)), ToGray(p=0.01), CLAHE(p=0.01, clip_limit=(1, 4.0), tile_grid_size=(8, 8))\n"
     ]
    },
    {
     "name": "stderr",
     "output_type": "stream",
     "text": [
      "\u001b[34m\u001b[1mval: \u001b[0mScanning D:\\snap data\\marked data\\valid\\labels... 15 images, 0 backgrounds, 0 corrupt: 100%|██████████| 15/15 [00:00<00:00, 557.03it/s]"
     ]
    },
    {
     "name": "stdout",
     "output_type": "stream",
     "text": [
      "\u001b[34m\u001b[1mval: \u001b[0mNew cache created: D:\\snap data\\marked data\\valid\\labels.cache\n"
     ]
    },
    {
     "name": "stderr",
     "output_type": "stream",
     "text": [
      "\n"
     ]
    },
    {
     "name": "stdout",
     "output_type": "stream",
     "text": [
      "Plotting labels to runs\\detect\\train\\labels.jpg... \n",
      "\u001b[34m\u001b[1moptimizer:\u001b[0m 'optimizer=auto' found, ignoring 'lr0=0.01' and 'momentum=0.937' and determining best 'optimizer', 'lr0' and 'momentum' automatically... \n",
      "\u001b[34m\u001b[1moptimizer:\u001b[0m AdamW(lr=0.002, momentum=0.9) with parameter groups 81 weight(decay=0.0), 88 weight(decay=0.0005), 87 bias(decay=0.0)\n",
      "\u001b[34m\u001b[1mTensorBoard: \u001b[0mmodel graph visualization added \n",
      "Image sizes 640 train, 640 val\n",
      "Using 6 dataloader workers\n",
      "Logging results to \u001b[1mruns\\detect\\train\u001b[0m\n",
      "Starting training for 40 epochs...\n",
      "\n",
      "      Epoch    GPU_mem   box_loss   cls_loss   dfl_loss  Instances       Size\n"
     ]
    },
    {
     "name": "stderr",
     "output_type": "stream",
     "text": [
      "       1/40         5G      3.389      21.52     0.9839        151        640: 100%|██████████| 50/50 [00:32<00:00,  1.54it/s]\n",
      "                 Class     Images  Instances      Box(P          R      mAP50  mAP50-95): 100%|██████████| 1/1 [00:00<00:00,  2.69it/s]"
     ]
    },
    {
     "name": "stdout",
     "output_type": "stream",
     "text": [
      "                   all         15        505      0.337      0.097      0.105     0.0249\n"
     ]
    },
    {
     "name": "stderr",
     "output_type": "stream",
     "text": [
      "\n"
     ]
    },
    {
     "name": "stdout",
     "output_type": "stream",
     "text": [
      "\n",
      "      Epoch    GPU_mem   box_loss   cls_loss   dfl_loss  Instances       Size\n"
     ]
    },
    {
     "name": "stderr",
     "output_type": "stream",
     "text": [
      "       2/40      4.88G      3.205       2.45     0.8928        219        640: 100%|██████████| 50/50 [00:31<00:00,  1.58it/s]\n",
      "                 Class     Images  Instances      Box(P          R      mAP50  mAP50-95): 100%|██████████| 1/1 [00:00<00:00,  3.15it/s]"
     ]
    },
    {
     "name": "stdout",
     "output_type": "stream",
     "text": [
      "                   all         15        505    0.00889     0.0792    0.00481    0.00127\n"
     ]
    },
    {
     "name": "stderr",
     "output_type": "stream",
     "text": [
      "\n"
     ]
    },
    {
     "name": "stdout",
     "output_type": "stream",
     "text": [
      "\n",
      "      Epoch    GPU_mem   box_loss   cls_loss   dfl_loss  Instances       Size\n"
     ]
    },
    {
     "name": "stderr",
     "output_type": "stream",
     "text": [
      "       3/40         5G       3.04      2.153     0.8763        150        640: 100%|██████████| 50/50 [00:31<00:00,  1.61it/s]\n",
      "                 Class     Images  Instances      Box(P          R      mAP50  mAP50-95): 100%|██████████| 1/1 [00:00<00:00,  3.32it/s]"
     ]
    },
    {
     "name": "stdout",
     "output_type": "stream",
     "text": [
      "                   all         15        505     0.0107     0.0337    0.00497    0.00128\n"
     ]
    },
    {
     "name": "stderr",
     "output_type": "stream",
     "text": [
      "\n"
     ]
    },
    {
     "name": "stdout",
     "output_type": "stream",
     "text": [
      "\n",
      "      Epoch    GPU_mem   box_loss   cls_loss   dfl_loss  Instances       Size\n"
     ]
    },
    {
     "name": "stderr",
     "output_type": "stream",
     "text": [
      "       4/40      4.92G      3.067      2.072     0.8722        114        640: 100%|██████████| 50/50 [00:30<00:00,  1.62it/s]\n",
      "                 Class     Images  Instances      Box(P          R      mAP50  mAP50-95): 100%|██████████| 1/1 [00:00<00:00,  3.57it/s]"
     ]
    },
    {
     "name": "stdout",
     "output_type": "stream",
     "text": [
      "                   all         15        505      0.224      0.209      0.118     0.0275\n"
     ]
    },
    {
     "name": "stderr",
     "output_type": "stream",
     "text": [
      "\n"
     ]
    },
    {
     "name": "stdout",
     "output_type": "stream",
     "text": [
      "\n",
      "      Epoch    GPU_mem   box_loss   cls_loss   dfl_loss  Instances       Size\n"
     ]
    },
    {
     "name": "stderr",
     "output_type": "stream",
     "text": [
      "       5/40      4.87G      3.021      1.977     0.8695        210        640: 100%|██████████| 50/50 [00:30<00:00,  1.63it/s]\n",
      "                 Class     Images  Instances      Box(P          R      mAP50  mAP50-95): 100%|██████████| 1/1 [00:00<00:00,  3.57it/s]"
     ]
    },
    {
     "name": "stdout",
     "output_type": "stream",
     "text": [
      "                   all         15        505      0.241      0.129      0.106     0.0281\n"
     ]
    },
    {
     "name": "stderr",
     "output_type": "stream",
     "text": [
      "\n"
     ]
    },
    {
     "name": "stdout",
     "output_type": "stream",
     "text": [
      "\n",
      "      Epoch    GPU_mem   box_loss   cls_loss   dfl_loss  Instances       Size\n"
     ]
    },
    {
     "name": "stderr",
     "output_type": "stream",
     "text": [
      "       6/40      4.74G      3.022      1.992     0.8702        168        640: 100%|██████████| 50/50 [00:30<00:00,  1.63it/s]\n",
      "                 Class     Images  Instances      Box(P          R      mAP50  mAP50-95): 100%|██████████| 1/1 [00:00<00:00,  3.65it/s]"
     ]
    },
    {
     "name": "stdout",
     "output_type": "stream",
     "text": [
      "                   all         15        505      0.304        0.2      0.161     0.0367\n"
     ]
    },
    {
     "name": "stderr",
     "output_type": "stream",
     "text": [
      "\n"
     ]
    },
    {
     "name": "stdout",
     "output_type": "stream",
     "text": [
      "\n",
      "      Epoch    GPU_mem   box_loss   cls_loss   dfl_loss  Instances       Size\n"
     ]
    },
    {
     "name": "stderr",
     "output_type": "stream",
     "text": [
      "       7/40      4.94G       2.99      1.946     0.8672        253        640: 100%|██████████| 50/50 [00:30<00:00,  1.62it/s]\n",
      "                 Class     Images  Instances      Box(P          R      mAP50  mAP50-95): 100%|██████████| 1/1 [00:00<00:00,  3.80it/s]"
     ]
    },
    {
     "name": "stdout",
     "output_type": "stream",
     "text": [
      "                   all         15        505      0.407      0.359      0.319     0.0826\n"
     ]
    },
    {
     "name": "stderr",
     "output_type": "stream",
     "text": [
      "\n"
     ]
    },
    {
     "name": "stdout",
     "output_type": "stream",
     "text": [
      "\n",
      "      Epoch    GPU_mem   box_loss   cls_loss   dfl_loss  Instances       Size\n"
     ]
    },
    {
     "name": "stderr",
     "output_type": "stream",
     "text": [
      "       8/40      4.85G      2.961      1.939     0.8591        205        640: 100%|██████████| 50/50 [00:30<00:00,  1.62it/s]\n",
      "                 Class     Images  Instances      Box(P          R      mAP50  mAP50-95): 100%|██████████| 1/1 [00:00<00:00,  3.55it/s]"
     ]
    },
    {
     "name": "stdout",
     "output_type": "stream",
     "text": [
      "                   all         15        505      0.321      0.352      0.241     0.0574\n"
     ]
    },
    {
     "name": "stderr",
     "output_type": "stream",
     "text": [
      "\n"
     ]
    },
    {
     "name": "stdout",
     "output_type": "stream",
     "text": [
      "\n",
      "      Epoch    GPU_mem   box_loss   cls_loss   dfl_loss  Instances       Size\n"
     ]
    },
    {
     "name": "stderr",
     "output_type": "stream",
     "text": [
      "       9/40      4.93G      2.969      1.929      0.864        145        640: 100%|██████████| 50/50 [00:30<00:00,  1.63it/s]\n",
      "                 Class     Images  Instances      Box(P          R      mAP50  mAP50-95): 100%|██████████| 1/1 [00:00<00:00,  3.40it/s]"
     ]
    },
    {
     "name": "stdout",
     "output_type": "stream",
     "text": [
      "                   all         15        505      0.333      0.275      0.222     0.0503\n"
     ]
    },
    {
     "name": "stderr",
     "output_type": "stream",
     "text": [
      "\n"
     ]
    },
    {
     "name": "stdout",
     "output_type": "stream",
     "text": [
      "\n",
      "      Epoch    GPU_mem   box_loss   cls_loss   dfl_loss  Instances       Size\n"
     ]
    },
    {
     "name": "stderr",
     "output_type": "stream",
     "text": [
      "      10/40      4.88G      2.909       1.83     0.8551        263        640: 100%|██████████| 50/50 [00:30<00:00,  1.62it/s]\n",
      "                 Class     Images  Instances      Box(P          R      mAP50  mAP50-95): 100%|██████████| 1/1 [00:00<00:00,  3.87it/s]"
     ]
    },
    {
     "name": "stdout",
     "output_type": "stream",
     "text": [
      "                   all         15        505      0.454      0.321      0.298     0.0737\n"
     ]
    },
    {
     "name": "stderr",
     "output_type": "stream",
     "text": [
      "\n"
     ]
    },
    {
     "name": "stdout",
     "output_type": "stream",
     "text": [
      "\n",
      "      Epoch    GPU_mem   box_loss   cls_loss   dfl_loss  Instances       Size\n"
     ]
    },
    {
     "name": "stderr",
     "output_type": "stream",
     "text": [
      "      11/40      4.95G      2.949      1.882     0.8586        167        640: 100%|██████████| 50/50 [00:31<00:00,  1.60it/s]\n",
      "                 Class     Images  Instances      Box(P          R      mAP50  mAP50-95): 100%|██████████| 1/1 [00:00<00:00,  3.58it/s]"
     ]
    },
    {
     "name": "stdout",
     "output_type": "stream",
     "text": [
      "                   all         15        505      0.364      0.305      0.253     0.0657\n"
     ]
    },
    {
     "name": "stderr",
     "output_type": "stream",
     "text": [
      "\n"
     ]
    },
    {
     "name": "stdout",
     "output_type": "stream",
     "text": [
      "\n",
      "      Epoch    GPU_mem   box_loss   cls_loss   dfl_loss  Instances       Size\n"
     ]
    },
    {
     "name": "stderr",
     "output_type": "stream",
     "text": [
      "      12/40      4.79G      2.879      1.821     0.8543        183        640: 100%|██████████| 50/50 [00:31<00:00,  1.60it/s]\n",
      "                 Class     Images  Instances      Box(P          R      mAP50  mAP50-95): 100%|██████████| 1/1 [00:00<00:00,  3.65it/s]"
     ]
    },
    {
     "name": "stdout",
     "output_type": "stream",
     "text": [
      "                   all         15        505      0.439      0.329      0.279     0.0681\n"
     ]
    },
    {
     "name": "stderr",
     "output_type": "stream",
     "text": [
      "\n"
     ]
    },
    {
     "name": "stdout",
     "output_type": "stream",
     "text": [
      "\n",
      "      Epoch    GPU_mem   box_loss   cls_loss   dfl_loss  Instances       Size\n"
     ]
    },
    {
     "name": "stderr",
     "output_type": "stream",
     "text": [
      "      13/40      4.94G      2.938      1.882      0.844        210        640: 100%|██████████| 50/50 [00:30<00:00,  1.62it/s]\n",
      "                 Class     Images  Instances      Box(P          R      mAP50  mAP50-95): 100%|██████████| 1/1 [00:00<00:00,  3.69it/s]"
     ]
    },
    {
     "name": "stdout",
     "output_type": "stream",
     "text": [
      "                   all         15        505      0.399       0.38      0.317     0.0811\n"
     ]
    },
    {
     "name": "stderr",
     "output_type": "stream",
     "text": [
      "\n"
     ]
    },
    {
     "name": "stdout",
     "output_type": "stream",
     "text": [
      "\n",
      "      Epoch    GPU_mem   box_loss   cls_loss   dfl_loss  Instances       Size\n"
     ]
    },
    {
     "name": "stderr",
     "output_type": "stream",
     "text": [
      "      14/40      4.85G      2.855      1.809     0.8456        240        640: 100%|██████████| 50/50 [00:31<00:00,  1.61it/s]\n",
      "                 Class     Images  Instances      Box(P          R      mAP50  mAP50-95): 100%|██████████| 1/1 [00:00<00:00,  3.52it/s]"
     ]
    },
    {
     "name": "stdout",
     "output_type": "stream",
     "text": [
      "                   all         15        505      0.456      0.339      0.314     0.0789\n"
     ]
    },
    {
     "name": "stderr",
     "output_type": "stream",
     "text": [
      "\n"
     ]
    },
    {
     "name": "stdout",
     "output_type": "stream",
     "text": [
      "\n",
      "      Epoch    GPU_mem   box_loss   cls_loss   dfl_loss  Instances       Size\n"
     ]
    },
    {
     "name": "stderr",
     "output_type": "stream",
     "text": [
      "      15/40      4.98G      2.863      1.841     0.8476        249        640: 100%|██████████| 50/50 [00:30<00:00,  1.62it/s]\n",
      "                 Class     Images  Instances      Box(P          R      mAP50  mAP50-95): 100%|██████████| 1/1 [00:00<00:00,  3.50it/s]"
     ]
    },
    {
     "name": "stdout",
     "output_type": "stream",
     "text": [
      "                   all         15        505      0.386      0.293      0.239     0.0589\n"
     ]
    },
    {
     "name": "stderr",
     "output_type": "stream",
     "text": [
      "\n"
     ]
    },
    {
     "name": "stdout",
     "output_type": "stream",
     "text": [
      "\n",
      "      Epoch    GPU_mem   box_loss   cls_loss   dfl_loss  Instances       Size\n"
     ]
    },
    {
     "name": "stderr",
     "output_type": "stream",
     "text": [
      "      16/40      4.86G      2.853       1.79     0.8653        169        640: 100%|██████████| 50/50 [00:30<00:00,  1.62it/s]\n",
      "                 Class     Images  Instances      Box(P          R      mAP50  mAP50-95): 100%|██████████| 1/1 [00:00<00:00,  3.45it/s]"
     ]
    },
    {
     "name": "stdout",
     "output_type": "stream",
     "text": [
      "                   all         15        505       0.43      0.323      0.321     0.0808\n"
     ]
    },
    {
     "name": "stderr",
     "output_type": "stream",
     "text": [
      "\n"
     ]
    },
    {
     "name": "stdout",
     "output_type": "stream",
     "text": [
      "\n",
      "      Epoch    GPU_mem   box_loss   cls_loss   dfl_loss  Instances       Size\n"
     ]
    },
    {
     "name": "stderr",
     "output_type": "stream",
     "text": [
      "      17/40      4.82G      2.844      1.724     0.8504        175        640: 100%|██████████| 50/50 [00:30<00:00,  1.62it/s]\n",
      "                 Class     Images  Instances      Box(P          R      mAP50  mAP50-95): 100%|██████████| 1/1 [00:00<00:00,  3.47it/s]"
     ]
    },
    {
     "name": "stdout",
     "output_type": "stream",
     "text": [
      "                   all         15        505      0.428      0.344      0.295     0.0737\n"
     ]
    },
    {
     "name": "stderr",
     "output_type": "stream",
     "text": [
      "\n"
     ]
    },
    {
     "name": "stdout",
     "output_type": "stream",
     "text": [
      "\n",
      "      Epoch    GPU_mem   box_loss   cls_loss   dfl_loss  Instances       Size\n"
     ]
    },
    {
     "name": "stderr",
     "output_type": "stream",
     "text": [
      "      18/40      5.47G      2.837      1.744     0.8563        383        640: 100%|██████████| 50/50 [00:30<00:00,  1.62it/s]\n",
      "                 Class     Images  Instances      Box(P          R      mAP50  mAP50-95): 100%|██████████| 1/1 [00:00<00:00,  3.60it/s]"
     ]
    },
    {
     "name": "stdout",
     "output_type": "stream",
     "text": [
      "                   all         15        505      0.374      0.366      0.275     0.0692\n"
     ]
    },
    {
     "name": "stderr",
     "output_type": "stream",
     "text": [
      "\n"
     ]
    },
    {
     "name": "stdout",
     "output_type": "stream",
     "text": [
      "\n",
      "      Epoch    GPU_mem   box_loss   cls_loss   dfl_loss  Instances       Size\n"
     ]
    },
    {
     "name": "stderr",
     "output_type": "stream",
     "text": [
      "      19/40      4.92G      2.781      1.724     0.8511        159        640: 100%|██████████| 50/50 [00:31<00:00,  1.61it/s]\n",
      "                 Class     Images  Instances      Box(P          R      mAP50  mAP50-95): 100%|██████████| 1/1 [00:00<00:00,  3.60it/s]"
     ]
    },
    {
     "name": "stdout",
     "output_type": "stream",
     "text": [
      "                   all         15        505      0.373      0.386      0.293     0.0682\n"
     ]
    },
    {
     "name": "stderr",
     "output_type": "stream",
     "text": [
      "\n"
     ]
    },
    {
     "name": "stdout",
     "output_type": "stream",
     "text": [
      "\n",
      "      Epoch    GPU_mem   box_loss   cls_loss   dfl_loss  Instances       Size\n"
     ]
    },
    {
     "name": "stderr",
     "output_type": "stream",
     "text": [
      "      20/40      4.97G      2.785      1.705     0.8415        100        640: 100%|██████████| 50/50 [00:31<00:00,  1.60it/s]\n",
      "                 Class     Images  Instances      Box(P          R      mAP50  mAP50-95): 100%|██████████| 1/1 [00:00<00:00,  3.50it/s]"
     ]
    },
    {
     "name": "stdout",
     "output_type": "stream",
     "text": [
      "                   all         15        505      0.395      0.333      0.297     0.0768\n"
     ]
    },
    {
     "name": "stderr",
     "output_type": "stream",
     "text": [
      "\n"
     ]
    },
    {
     "name": "stdout",
     "output_type": "stream",
     "text": [
      "\n",
      "      Epoch    GPU_mem   box_loss   cls_loss   dfl_loss  Instances       Size\n"
     ]
    },
    {
     "name": "stderr",
     "output_type": "stream",
     "text": [
      "      21/40      4.93G      2.819      1.694     0.8399        274        640: 100%|██████████| 50/50 [00:31<00:00,  1.61it/s]\n",
      "                 Class     Images  Instances      Box(P          R      mAP50  mAP50-95): 100%|██████████| 1/1 [00:00<00:00,  3.84it/s]"
     ]
    },
    {
     "name": "stdout",
     "output_type": "stream",
     "text": [
      "                   all         15        505      0.393      0.388      0.306     0.0765\n"
     ]
    },
    {
     "name": "stderr",
     "output_type": "stream",
     "text": [
      "\n"
     ]
    },
    {
     "name": "stdout",
     "output_type": "stream",
     "text": [
      "\n",
      "      Epoch    GPU_mem   box_loss   cls_loss   dfl_loss  Instances       Size\n"
     ]
    },
    {
     "name": "stderr",
     "output_type": "stream",
     "text": [
      "      22/40      4.91G      2.756      1.709     0.8398        186        640: 100%|██████████| 50/50 [00:30<00:00,  1.62it/s]\n",
      "                 Class     Images  Instances      Box(P          R      mAP50  mAP50-95): 100%|██████████| 1/1 [00:00<00:00,  3.77it/s]"
     ]
    },
    {
     "name": "stdout",
     "output_type": "stream",
     "text": [
      "                   all         15        505      0.441      0.406       0.35      0.091\n"
     ]
    },
    {
     "name": "stderr",
     "output_type": "stream",
     "text": [
      "\n"
     ]
    },
    {
     "name": "stdout",
     "output_type": "stream",
     "text": [
      "\n",
      "      Epoch    GPU_mem   box_loss   cls_loss   dfl_loss  Instances       Size\n"
     ]
    },
    {
     "name": "stderr",
     "output_type": "stream",
     "text": [
      "      23/40      4.92G       2.77      1.683     0.8456        142        640: 100%|██████████| 50/50 [00:31<00:00,  1.60it/s]\n",
      "                 Class     Images  Instances      Box(P          R      mAP50  mAP50-95): 100%|██████████| 1/1 [00:00<00:00,  3.72it/s]"
     ]
    },
    {
     "name": "stdout",
     "output_type": "stream",
     "text": [
      "                   all         15        505       0.45      0.386      0.339     0.0878\n"
     ]
    },
    {
     "name": "stderr",
     "output_type": "stream",
     "text": [
      "\n"
     ]
    },
    {
     "name": "stdout",
     "output_type": "stream",
     "text": [
      "\n",
      "      Epoch    GPU_mem   box_loss   cls_loss   dfl_loss  Instances       Size\n"
     ]
    },
    {
     "name": "stderr",
     "output_type": "stream",
     "text": [
      "      24/40      5.25G      2.744      1.654     0.8317        173        640: 100%|██████████| 50/50 [00:31<00:00,  1.61it/s]\n",
      "                 Class     Images  Instances      Box(P          R      mAP50  mAP50-95): 100%|██████████| 1/1 [00:00<00:00,  3.70it/s]"
     ]
    },
    {
     "name": "stdout",
     "output_type": "stream",
     "text": [
      "                   all         15        505      0.414      0.395       0.33      0.085\n"
     ]
    },
    {
     "name": "stderr",
     "output_type": "stream",
     "text": [
      "\n"
     ]
    },
    {
     "name": "stdout",
     "output_type": "stream",
     "text": [
      "\n",
      "      Epoch    GPU_mem   box_loss   cls_loss   dfl_loss  Instances       Size\n"
     ]
    },
    {
     "name": "stderr",
     "output_type": "stream",
     "text": [
      "      25/40      4.92G      2.781      1.697     0.8411        259        640: 100%|██████████| 50/50 [00:30<00:00,  1.62it/s]\n",
      "                 Class     Images  Instances      Box(P          R      mAP50  mAP50-95): 100%|██████████| 1/1 [00:00<00:00,  3.60it/s]"
     ]
    },
    {
     "name": "stdout",
     "output_type": "stream",
     "text": [
      "                   all         15        505      0.393      0.432      0.324     0.0804\n"
     ]
    },
    {
     "name": "stderr",
     "output_type": "stream",
     "text": [
      "\n"
     ]
    },
    {
     "name": "stdout",
     "output_type": "stream",
     "text": [
      "\n",
      "      Epoch    GPU_mem   box_loss   cls_loss   dfl_loss  Instances       Size\n"
     ]
    },
    {
     "name": "stderr",
     "output_type": "stream",
     "text": [
      "      26/40      4.85G      2.706      1.652     0.8373        320        640: 100%|██████████| 50/50 [00:31<00:00,  1.59it/s]\n",
      "                 Class     Images  Instances      Box(P          R      mAP50  mAP50-95): 100%|██████████| 1/1 [00:00<00:00,  3.83it/s]"
     ]
    },
    {
     "name": "stdout",
     "output_type": "stream",
     "text": [
      "                   all         15        505      0.463      0.388      0.346       0.09\n"
     ]
    },
    {
     "name": "stderr",
     "output_type": "stream",
     "text": [
      "\n"
     ]
    },
    {
     "name": "stdout",
     "output_type": "stream",
     "text": [
      "\n",
      "      Epoch    GPU_mem   box_loss   cls_loss   dfl_loss  Instances       Size\n"
     ]
    },
    {
     "name": "stderr",
     "output_type": "stream",
     "text": [
      "      27/40      4.95G      2.722      1.685     0.8357        259        640: 100%|██████████| 50/50 [00:30<00:00,  1.63it/s]\n",
      "                 Class     Images  Instances      Box(P          R      mAP50  mAP50-95): 100%|██████████| 1/1 [00:00<00:00,  3.73it/s]"
     ]
    },
    {
     "name": "stdout",
     "output_type": "stream",
     "text": [
      "                   all         15        505      0.399       0.43      0.312     0.0783\n"
     ]
    },
    {
     "name": "stderr",
     "output_type": "stream",
     "text": [
      "\n"
     ]
    },
    {
     "name": "stdout",
     "output_type": "stream",
     "text": [
      "\n",
      "      Epoch    GPU_mem   box_loss   cls_loss   dfl_loss  Instances       Size\n"
     ]
    },
    {
     "name": "stderr",
     "output_type": "stream",
     "text": [
      "      28/40      5.28G      2.704      1.649      0.837        186        640: 100%|██████████| 50/50 [00:31<00:00,  1.59it/s]\n",
      "                 Class     Images  Instances      Box(P          R      mAP50  mAP50-95): 100%|██████████| 1/1 [00:00<00:00,  3.48it/s]"
     ]
    },
    {
     "name": "stdout",
     "output_type": "stream",
     "text": [
      "                   all         15        505      0.414      0.428      0.333     0.0848\n"
     ]
    },
    {
     "name": "stderr",
     "output_type": "stream",
     "text": [
      "\n"
     ]
    },
    {
     "name": "stdout",
     "output_type": "stream",
     "text": [
      "\n",
      "      Epoch    GPU_mem   box_loss   cls_loss   dfl_loss  Instances       Size\n"
     ]
    },
    {
     "name": "stderr",
     "output_type": "stream",
     "text": [
      "      29/40      4.86G      2.726      1.637     0.8383        245        640: 100%|██████████| 50/50 [00:30<00:00,  1.62it/s]\n",
      "                 Class     Images  Instances      Box(P          R      mAP50  mAP50-95): 100%|██████████| 1/1 [00:00<00:00,  3.50it/s]"
     ]
    },
    {
     "name": "stdout",
     "output_type": "stream",
     "text": [
      "                   all         15        505      0.499      0.379      0.375        0.1\n"
     ]
    },
    {
     "name": "stderr",
     "output_type": "stream",
     "text": [
      "\n"
     ]
    },
    {
     "name": "stdout",
     "output_type": "stream",
     "text": [
      "\n",
      "      Epoch    GPU_mem   box_loss   cls_loss   dfl_loss  Instances       Size\n"
     ]
    },
    {
     "name": "stderr",
     "output_type": "stream",
     "text": [
      "      30/40      4.78G      2.773      1.694     0.8394        203        640: 100%|██████████| 50/50 [00:30<00:00,  1.63it/s]\n",
      "                 Class     Images  Instances      Box(P          R      mAP50  mAP50-95): 100%|██████████| 1/1 [00:00<00:00,  3.81it/s]"
     ]
    },
    {
     "name": "stdout",
     "output_type": "stream",
     "text": [
      "                   all         15        505      0.441      0.372       0.35      0.084\n"
     ]
    },
    {
     "name": "stderr",
     "output_type": "stream",
     "text": [
      "\n"
     ]
    },
    {
     "name": "stdout",
     "output_type": "stream",
     "text": [
      "Closing dataloader mosaic\n",
      "\u001b[34m\u001b[1malbumentations: \u001b[0mBlur(p=0.01, blur_limit=(3, 7)), MedianBlur(p=0.01, blur_limit=(3, 7)), ToGray(p=0.01), CLAHE(p=0.01, clip_limit=(1, 4.0), tile_grid_size=(8, 8))\n",
      "\n",
      "      Epoch    GPU_mem   box_loss   cls_loss   dfl_loss  Instances       Size\n"
     ]
    },
    {
     "name": "stderr",
     "output_type": "stream",
     "text": [
      "      31/40      4.77G      2.699      1.688     0.8542        120        640: 100%|██████████| 50/50 [00:30<00:00,  1.62it/s]\n",
      "                 Class     Images  Instances      Box(P          R      mAP50  mAP50-95): 100%|██████████| 1/1 [00:00<00:00,  3.73it/s]"
     ]
    },
    {
     "name": "stdout",
     "output_type": "stream",
     "text": [
      "                   all         15        505      0.375      0.349      0.263     0.0668\n"
     ]
    },
    {
     "name": "stderr",
     "output_type": "stream",
     "text": [
      "\n"
     ]
    },
    {
     "name": "stdout",
     "output_type": "stream",
     "text": [
      "\n",
      "      Epoch    GPU_mem   box_loss   cls_loss   dfl_loss  Instances       Size\n"
     ]
    },
    {
     "name": "stderr",
     "output_type": "stream",
     "text": [
      "      32/40      4.87G      2.647      1.693      0.837        129        640: 100%|██████████| 50/50 [00:30<00:00,  1.63it/s]\n",
      "                 Class     Images  Instances      Box(P          R      mAP50  mAP50-95): 100%|██████████| 1/1 [00:00<00:00,  3.83it/s]"
     ]
    },
    {
     "name": "stdout",
     "output_type": "stream",
     "text": [
      "                   all         15        505      0.419      0.406      0.346     0.0873\n"
     ]
    },
    {
     "name": "stderr",
     "output_type": "stream",
     "text": [
      "\n"
     ]
    },
    {
     "name": "stdout",
     "output_type": "stream",
     "text": [
      "\n",
      "      Epoch    GPU_mem   box_loss   cls_loss   dfl_loss  Instances       Size\n"
     ]
    },
    {
     "name": "stderr",
     "output_type": "stream",
     "text": [
      "      33/40      5.03G      2.683      1.695     0.8465         73        640: 100%|██████████| 50/50 [00:30<00:00,  1.64it/s]\n",
      "                 Class     Images  Instances      Box(P          R      mAP50  mAP50-95): 100%|██████████| 1/1 [00:00<00:00,  3.53it/s]"
     ]
    },
    {
     "name": "stdout",
     "output_type": "stream",
     "text": [
      "                   all         15        505      0.443      0.319      0.306     0.0776\n"
     ]
    },
    {
     "name": "stderr",
     "output_type": "stream",
     "text": [
      "\n"
     ]
    },
    {
     "name": "stdout",
     "output_type": "stream",
     "text": [
      "\n",
      "      Epoch    GPU_mem   box_loss   cls_loss   dfl_loss  Instances       Size\n"
     ]
    },
    {
     "name": "stderr",
     "output_type": "stream",
     "text": [
      "      34/40      4.88G      2.651       1.59     0.8395        135        640: 100%|██████████| 50/50 [00:30<00:00,  1.63it/s]\n",
      "                 Class     Images  Instances      Box(P          R      mAP50  mAP50-95): 100%|██████████| 1/1 [00:00<00:00,  3.54it/s]"
     ]
    },
    {
     "name": "stdout",
     "output_type": "stream",
     "text": [
      "                   all         15        505      0.408      0.345      0.314     0.0803\n"
     ]
    },
    {
     "name": "stderr",
     "output_type": "stream",
     "text": [
      "\n"
     ]
    },
    {
     "name": "stdout",
     "output_type": "stream",
     "text": [
      "\n",
      "      Epoch    GPU_mem   box_loss   cls_loss   dfl_loss  Instances       Size\n"
     ]
    },
    {
     "name": "stderr",
     "output_type": "stream",
     "text": [
      "      35/40      5.16G      2.597      1.608     0.8498         96        640: 100%|██████████| 50/50 [00:30<00:00,  1.64it/s]\n",
      "                 Class     Images  Instances      Box(P          R      mAP50  mAP50-95): 100%|██████████| 1/1 [00:00<00:00,  3.61it/s]"
     ]
    },
    {
     "name": "stdout",
     "output_type": "stream",
     "text": [
      "                   all         15        505      0.431      0.374      0.311     0.0797\n"
     ]
    },
    {
     "name": "stderr",
     "output_type": "stream",
     "text": [
      "\n"
     ]
    },
    {
     "name": "stdout",
     "output_type": "stream",
     "text": [
      "\n",
      "      Epoch    GPU_mem   box_loss   cls_loss   dfl_loss  Instances       Size\n"
     ]
    },
    {
     "name": "stderr",
     "output_type": "stream",
     "text": [
      "      36/40      4.79G       2.63      1.577     0.8466        156        640: 100%|██████████| 50/50 [00:30<00:00,  1.64it/s]\n",
      "                 Class     Images  Instances      Box(P          R      mAP50  mAP50-95): 100%|██████████| 1/1 [00:00<00:00,  3.62it/s]"
     ]
    },
    {
     "name": "stdout",
     "output_type": "stream",
     "text": [
      "                   all         15        505      0.432      0.352      0.309     0.0765\n"
     ]
    },
    {
     "name": "stderr",
     "output_type": "stream",
     "text": [
      "\n"
     ]
    },
    {
     "name": "stdout",
     "output_type": "stream",
     "text": [
      "\n",
      "      Epoch    GPU_mem   box_loss   cls_loss   dfl_loss  Instances       Size\n"
     ]
    },
    {
     "name": "stderr",
     "output_type": "stream",
     "text": [
      "      37/40      4.95G        2.6      1.563     0.8369        124        640: 100%|██████████| 50/50 [00:30<00:00,  1.64it/s]\n",
      "                 Class     Images  Instances      Box(P          R      mAP50  mAP50-95): 100%|██████████| 1/1 [00:00<00:00,  3.61it/s]"
     ]
    },
    {
     "name": "stdout",
     "output_type": "stream",
     "text": [
      "                   all         15        505      0.393      0.372      0.308     0.0781\n"
     ]
    },
    {
     "name": "stderr",
     "output_type": "stream",
     "text": [
      "\n"
     ]
    },
    {
     "name": "stdout",
     "output_type": "stream",
     "text": [
      "\n",
      "      Epoch    GPU_mem   box_loss   cls_loss   dfl_loss  Instances       Size\n"
     ]
    },
    {
     "name": "stderr",
     "output_type": "stream",
     "text": [
      "      38/40       4.9G      2.613      1.604      0.844         70        640: 100%|██████████| 50/50 [00:30<00:00,  1.64it/s]\n",
      "                 Class     Images  Instances      Box(P          R      mAP50  mAP50-95): 100%|██████████| 1/1 [00:00<00:00,  3.32it/s]"
     ]
    },
    {
     "name": "stdout",
     "output_type": "stream",
     "text": [
      "                   all         15        505      0.457      0.354      0.311     0.0818\n"
     ]
    },
    {
     "name": "stderr",
     "output_type": "stream",
     "text": [
      "\n"
     ]
    },
    {
     "name": "stdout",
     "output_type": "stream",
     "text": [
      "\n",
      "      Epoch    GPU_mem   box_loss   cls_loss   dfl_loss  Instances       Size\n"
     ]
    },
    {
     "name": "stderr",
     "output_type": "stream",
     "text": [
      "      39/40      5.09G      2.597      1.554      0.841        175        640: 100%|██████████| 50/50 [00:30<00:00,  1.62it/s]\n",
      "                 Class     Images  Instances      Box(P          R      mAP50  mAP50-95): 100%|██████████| 1/1 [00:00<00:00,  3.55it/s]"
     ]
    },
    {
     "name": "stdout",
     "output_type": "stream",
     "text": [
      "                   all         15        505      0.446      0.394      0.343     0.0923\n"
     ]
    },
    {
     "name": "stderr",
     "output_type": "stream",
     "text": [
      "\n"
     ]
    },
    {
     "name": "stdout",
     "output_type": "stream",
     "text": [
      "\n",
      "      Epoch    GPU_mem   box_loss   cls_loss   dfl_loss  Instances       Size\n"
     ]
    },
    {
     "name": "stderr",
     "output_type": "stream",
     "text": [
      "      40/40      4.91G      2.597      1.579     0.8459        112        640: 100%|██████████| 50/50 [00:30<00:00,  1.63it/s]\n",
      "                 Class     Images  Instances      Box(P          R      mAP50  mAP50-95): 100%|██████████| 1/1 [00:00<00:00,  3.52it/s]"
     ]
    },
    {
     "name": "stdout",
     "output_type": "stream",
     "text": [
      "                   all         15        505      0.397      0.343       0.29     0.0774\n"
     ]
    },
    {
     "name": "stderr",
     "output_type": "stream",
     "text": [
      "\n"
     ]
    },
    {
     "name": "stdout",
     "output_type": "stream",
     "text": [
      "\n",
      "40 epochs completed in 0.366 hours.\n",
      "Optimizer stripped from runs\\detect\\train\\weights\\last.pt, 19.2MB\n",
      "Optimizer stripped from runs\\detect\\train\\weights\\best.pt, 19.2MB\n",
      "\n",
      "Validating runs\\detect\\train\\weights\\best.pt...\n",
      "Ultralytics 8.3.13  Python-3.9.2 torch-2.1.0+cu118 CUDA:0 (NVIDIA GeForce GTX 1070, 8192MiB)\n",
      "YOLO11s summary (fused): 238 layers, 9,413,187 parameters, 0 gradients, 21.3 GFLOPs\n"
     ]
    },
    {
     "name": "stderr",
     "output_type": "stream",
     "text": [
      "                 Class     Images  Instances      Box(P          R      mAP50  mAP50-95): 100%|██████████| 1/1 [00:00<00:00,  3.02it/s]\n"
     ]
    },
    {
     "name": "stdout",
     "output_type": "stream",
     "text": [
      "                   all         15        505      0.502      0.381      0.377        0.1\n",
      "Speed: 0.2ms preprocess, 9.9ms inference, 0.0ms loss, 1.6ms postprocess per image\n",
      "Results saved to \u001b[1mruns\\detect\\train\u001b[0m\n"
     ]
    },
    {
     "data": {
      "text/html": [
       "<style>\n",
       "    table.wandb td:nth-child(1) { padding: 0 10px; text-align: left ; width: auto;} td:nth-child(2) {text-align: left ; width: 100%}\n",
       "    .wandb-row { display: flex; flex-direction: row; flex-wrap: wrap; justify-content: flex-start; width: 100% }\n",
       "    .wandb-col { display: flex; flex-direction: column; flex-basis: 100%; flex: 1; padding: 10px; }\n",
       "    </style>\n",
       "<div class=\"wandb-row\"><div class=\"wandb-col\"><h3>Run history:</h3><br/><table class=\"wandb\"><tr><td>lr/pg0</td><td>▃▆███▇▇▇▇▇▇▆▆▆▆▆▅▅▅▅▅▄▄▄▄▄▃▃▃▃▃▃▂▂▂▂▂▁▁▁</td></tr><tr><td>lr/pg1</td><td>▃▆███▇▇▇▇▇▇▆▆▆▆▆▅▅▅▅▅▄▄▄▄▄▃▃▃▃▃▃▂▂▂▂▂▁▁▁</td></tr><tr><td>lr/pg2</td><td>▃▆███▇▇▇▇▇▇▆▆▆▆▆▅▅▅▅▅▄▄▄▄▄▃▃▃▃▃▃▂▂▂▂▂▁▁▁</td></tr><tr><td>metrics/mAP50(B)</td><td>▃▁▁▃▃▄▇▅▅▇▆▆▇▇▅▇▆▆▆▇▇█▇▇▇▇▇▇██▆▇▇▇▇▇▇▇▇█</td></tr><tr><td>metrics/mAP50-95(B)</td><td>▃▁▁▃▃▄▇▅▄▆▆▆▇▆▅▇▆▆▆▆▆▇▇▇▇▇▆▇█▇▆▇▆▇▇▆▆▇▇█</td></tr><tr><td>metrics/precision(B)</td><td>▆▁▁▄▄▅▇▅▆▇▆▇▇▇▆▇▇▆▆▆▆▇▇▇▆▇▇▇█▇▆▇▇▇▇▇▆▇▇█</td></tr><tr><td>metrics/recall(B)</td><td>▂▂▁▄▃▄▇▇▅▆▆▆▇▆▆▆▆▇▇▆▇█▇▇█▇██▇▇▇█▆▆▇▇▇▇▇▇</td></tr><tr><td>model/GFLOPs</td><td>▁</td></tr><tr><td>model/parameters</td><td>▁</td></tr><tr><td>model/speed_PyTorch(ms)</td><td>▁</td></tr><tr><td>train/box_loss</td><td>█▆▅▅▅▅▄▄▄▄▄▃▄▃▃▃▃▃▃▃▃▂▃▂▃▂▂▂▂▃▂▁▂▁▁▁▁▁▁▁</td></tr><tr><td>train/cls_loss</td><td>█▁▁▁▁▁▁▁▁▁▁▁▁▁▁▁▁▁▁▁▁▁▁▁▁▁▁▁▁▁▁▁▁▁▁▁▁▁▁▁</td></tr><tr><td>train/dfl_loss</td><td>█▄▃▃▃▃▃▂▂▂▂▂▂▂▂▃▂▂▂▁▁▁▂▁▁▁▁▁▁▁▂▁▂▁▂▂▁▂▁▂</td></tr><tr><td>val/box_loss</td><td>▅█  ▆ ▃▄▅▃▃▄▂▃▄▂▃▃▃▃▂▁▂▂▂▂▃▁▂▃▄▂▄▃▃▃▃▃▂▃</td></tr><tr><td>val/cls_loss</td><td>█   ▇ ▂▂▄▂▂▂▂▂▃▂▁▂▁▂▁▁▂▁▁▂▁▁▂▂▁▂▂▂▂▂▁▂▁▂</td></tr><tr><td>val/dfl_loss</td><td>▄█  ▅ ▂▃▃▂▂▂▂▂▂▁▂▂▁▂▁▁▁▁▁▁▁▁▂▂▁▁▂▂▂▂▂▂▁▁</td></tr></table><br/></div><div class=\"wandb-col\"><h3>Run summary:</h3><br/><table class=\"wandb\"><tr><td>lr/pg0</td><td>7e-05</td></tr><tr><td>lr/pg1</td><td>7e-05</td></tr><tr><td>lr/pg2</td><td>7e-05</td></tr><tr><td>metrics/mAP50(B)</td><td>0.37654</td></tr><tr><td>metrics/mAP50-95(B)</td><td>0.10025</td></tr><tr><td>metrics/precision(B)</td><td>0.50191</td></tr><tr><td>metrics/recall(B)</td><td>0.38112</td></tr><tr><td>model/GFLOPs</td><td>21.548</td></tr><tr><td>model/parameters</td><td>9428179</td></tr><tr><td>model/speed_PyTorch(ms)</td><td>11.633</td></tr><tr><td>train/box_loss</td><td>2.59689</td></tr><tr><td>train/cls_loss</td><td>1.57936</td></tr><tr><td>train/dfl_loss</td><td>0.84592</td></tr><tr><td>val/box_loss</td><td>3.06014</td></tr><tr><td>val/cls_loss</td><td>1.64606</td></tr><tr><td>val/dfl_loss</td><td>0.89092</td></tr></table><br/></div></div>"
      ],
      "text/plain": [
       "<IPython.core.display.HTML object>"
      ]
     },
     "metadata": {},
     "output_type": "display_data"
    },
    {
     "data": {
      "text/html": [
       " View run <strong style=\"color:#cdcd00\">yolo_11s</strong> at: <a href='https://wandb.ai/craftyea-narfu/diploma/runs/321en1pl' target=\"_blank\">https://wandb.ai/craftyea-narfu/diploma/runs/321en1pl</a><br/> View project at: <a href='https://wandb.ai/craftyea-narfu/diploma' target=\"_blank\">https://wandb.ai/craftyea-narfu/diploma</a><br/>Synced 5 W&B file(s), 0 media file(s), 10 artifact file(s) and 20 other file(s)"
      ],
      "text/plain": [
       "<IPython.core.display.HTML object>"
      ]
     },
     "metadata": {},
     "output_type": "display_data"
    },
    {
     "data": {
      "text/html": [
       "Find logs at: <code>.\\wandb\\run-20250412_221347-321en1pl\\logs</code>"
      ],
      "text/plain": [
       "<IPython.core.display.HTML object>"
      ]
     },
     "metadata": {},
     "output_type": "display_data"
    },
    {
     "data": {
      "text/plain": [
       "ultralytics.utils.metrics.DetMetrics object with attributes:\n",
       "\n",
       "ap_class_index: array([0])\n",
       "box: ultralytics.utils.metrics.Metric object\n",
       "confusion_matrix: <ultralytics.utils.metrics.ConfusionMatrix object at 0x0000024C89ECB2B0>\n",
       "curves: ['Precision-Recall(B)', 'F1-Confidence(B)', 'Precision-Confidence(B)', 'Recall-Confidence(B)']\n",
       "curves_results: [[array([          0,    0.001001,    0.002002,    0.003003,    0.004004,    0.005005,    0.006006,    0.007007,    0.008008,    0.009009,     0.01001,    0.011011,    0.012012,    0.013013,    0.014014,    0.015015,    0.016016,    0.017017,    0.018018,    0.019019,     0.02002,    0.021021,    0.022022,    0.023023,\n",
       "          0.024024,    0.025025,    0.026026,    0.027027,    0.028028,    0.029029,     0.03003,    0.031031,    0.032032,    0.033033,    0.034034,    0.035035,    0.036036,    0.037037,    0.038038,    0.039039,     0.04004,    0.041041,    0.042042,    0.043043,    0.044044,    0.045045,    0.046046,    0.047047,\n",
       "          0.048048,    0.049049,     0.05005,    0.051051,    0.052052,    0.053053,    0.054054,    0.055055,    0.056056,    0.057057,    0.058058,    0.059059,     0.06006,    0.061061,    0.062062,    0.063063,    0.064064,    0.065065,    0.066066,    0.067067,    0.068068,    0.069069,     0.07007,    0.071071,\n",
       "          0.072072,    0.073073,    0.074074,    0.075075,    0.076076,    0.077077,    0.078078,    0.079079,     0.08008,    0.081081,    0.082082,    0.083083,    0.084084,    0.085085,    0.086086,    0.087087,    0.088088,    0.089089,     0.09009,    0.091091,    0.092092,    0.093093,    0.094094,    0.095095,\n",
       "          0.096096,    0.097097,    0.098098,    0.099099,      0.1001,      0.1011,      0.1021,      0.1031,      0.1041,     0.10511,     0.10611,     0.10711,     0.10811,     0.10911,     0.11011,     0.11111,     0.11211,     0.11311,     0.11411,     0.11512,     0.11612,     0.11712,     0.11812,     0.11912,\n",
       "           0.12012,     0.12112,     0.12212,     0.12312,     0.12412,     0.12513,     0.12613,     0.12713,     0.12813,     0.12913,     0.13013,     0.13113,     0.13213,     0.13313,     0.13413,     0.13514,     0.13614,     0.13714,     0.13814,     0.13914,     0.14014,     0.14114,     0.14214,     0.14314,\n",
       "           0.14414,     0.14515,     0.14615,     0.14715,     0.14815,     0.14915,     0.15015,     0.15115,     0.15215,     0.15315,     0.15415,     0.15516,     0.15616,     0.15716,     0.15816,     0.15916,     0.16016,     0.16116,     0.16216,     0.16316,     0.16416,     0.16517,     0.16617,     0.16717,\n",
       "           0.16817,     0.16917,     0.17017,     0.17117,     0.17217,     0.17317,     0.17417,     0.17518,     0.17618,     0.17718,     0.17818,     0.17918,     0.18018,     0.18118,     0.18218,     0.18318,     0.18418,     0.18519,     0.18619,     0.18719,     0.18819,     0.18919,     0.19019,     0.19119,\n",
       "           0.19219,     0.19319,     0.19419,      0.1952,      0.1962,      0.1972,      0.1982,      0.1992,      0.2002,      0.2012,      0.2022,      0.2032,      0.2042,     0.20521,     0.20621,     0.20721,     0.20821,     0.20921,     0.21021,     0.21121,     0.21221,     0.21321,     0.21421,     0.21522,\n",
       "           0.21622,     0.21722,     0.21822,     0.21922,     0.22022,     0.22122,     0.22222,     0.22322,     0.22422,     0.22523,     0.22623,     0.22723,     0.22823,     0.22923,     0.23023,     0.23123,     0.23223,     0.23323,     0.23423,     0.23524,     0.23624,     0.23724,     0.23824,     0.23924,\n",
       "           0.24024,     0.24124,     0.24224,     0.24324,     0.24424,     0.24525,     0.24625,     0.24725,     0.24825,     0.24925,     0.25025,     0.25125,     0.25225,     0.25325,     0.25425,     0.25526,     0.25626,     0.25726,     0.25826,     0.25926,     0.26026,     0.26126,     0.26226,     0.26326,\n",
       "           0.26426,     0.26527,     0.26627,     0.26727,     0.26827,     0.26927,     0.27027,     0.27127,     0.27227,     0.27327,     0.27427,     0.27528,     0.27628,     0.27728,     0.27828,     0.27928,     0.28028,     0.28128,     0.28228,     0.28328,     0.28428,     0.28529,     0.28629,     0.28729,\n",
       "           0.28829,     0.28929,     0.29029,     0.29129,     0.29229,     0.29329,     0.29429,      0.2953,      0.2963,      0.2973,      0.2983,      0.2993,      0.3003,      0.3013,      0.3023,      0.3033,      0.3043,     0.30531,     0.30631,     0.30731,     0.30831,     0.30931,     0.31031,     0.31131,\n",
       "           0.31231,     0.31331,     0.31431,     0.31532,     0.31632,     0.31732,     0.31832,     0.31932,     0.32032,     0.32132,     0.32232,     0.32332,     0.32432,     0.32533,     0.32633,     0.32733,     0.32833,     0.32933,     0.33033,     0.33133,     0.33233,     0.33333,     0.33433,     0.33534,\n",
       "           0.33634,     0.33734,     0.33834,     0.33934,     0.34034,     0.34134,     0.34234,     0.34334,     0.34434,     0.34535,     0.34635,     0.34735,     0.34835,     0.34935,     0.35035,     0.35135,     0.35235,     0.35335,     0.35435,     0.35536,     0.35636,     0.35736,     0.35836,     0.35936,\n",
       "           0.36036,     0.36136,     0.36236,     0.36336,     0.36436,     0.36537,     0.36637,     0.36737,     0.36837,     0.36937,     0.37037,     0.37137,     0.37237,     0.37337,     0.37437,     0.37538,     0.37638,     0.37738,     0.37838,     0.37938,     0.38038,     0.38138,     0.38238,     0.38338,\n",
       "           0.38438,     0.38539,     0.38639,     0.38739,     0.38839,     0.38939,     0.39039,     0.39139,     0.39239,     0.39339,     0.39439,      0.3954,      0.3964,      0.3974,      0.3984,      0.3994,      0.4004,      0.4014,      0.4024,      0.4034,      0.4044,     0.40541,     0.40641,     0.40741,\n",
       "           0.40841,     0.40941,     0.41041,     0.41141,     0.41241,     0.41341,     0.41441,     0.41542,     0.41642,     0.41742,     0.41842,     0.41942,     0.42042,     0.42142,     0.42242,     0.42342,     0.42442,     0.42543,     0.42643,     0.42743,     0.42843,     0.42943,     0.43043,     0.43143,\n",
       "           0.43243,     0.43343,     0.43443,     0.43544,     0.43644,     0.43744,     0.43844,     0.43944,     0.44044,     0.44144,     0.44244,     0.44344,     0.44444,     0.44545,     0.44645,     0.44745,     0.44845,     0.44945,     0.45045,     0.45145,     0.45245,     0.45345,     0.45445,     0.45546,\n",
       "           0.45646,     0.45746,     0.45846,     0.45946,     0.46046,     0.46146,     0.46246,     0.46346,     0.46446,     0.46547,     0.46647,     0.46747,     0.46847,     0.46947,     0.47047,     0.47147,     0.47247,     0.47347,     0.47447,     0.47548,     0.47648,     0.47748,     0.47848,     0.47948,\n",
       "           0.48048,     0.48148,     0.48248,     0.48348,     0.48448,     0.48549,     0.48649,     0.48749,     0.48849,     0.48949,     0.49049,     0.49149,     0.49249,     0.49349,     0.49449,      0.4955,      0.4965,      0.4975,      0.4985,      0.4995,      0.5005,      0.5015,      0.5025,      0.5035,\n",
       "            0.5045,     0.50551,     0.50651,     0.50751,     0.50851,     0.50951,     0.51051,     0.51151,     0.51251,     0.51351,     0.51451,     0.51552,     0.51652,     0.51752,     0.51852,     0.51952,     0.52052,     0.52152,     0.52252,     0.52352,     0.52452,     0.52553,     0.52653,     0.52753,\n",
       "           0.52853,     0.52953,     0.53053,     0.53153,     0.53253,     0.53353,     0.53453,     0.53554,     0.53654,     0.53754,     0.53854,     0.53954,     0.54054,     0.54154,     0.54254,     0.54354,     0.54454,     0.54555,     0.54655,     0.54755,     0.54855,     0.54955,     0.55055,     0.55155,\n",
       "           0.55255,     0.55355,     0.55455,     0.55556,     0.55656,     0.55756,     0.55856,     0.55956,     0.56056,     0.56156,     0.56256,     0.56356,     0.56456,     0.56557,     0.56657,     0.56757,     0.56857,     0.56957,     0.57057,     0.57157,     0.57257,     0.57357,     0.57457,     0.57558,\n",
       "           0.57658,     0.57758,     0.57858,     0.57958,     0.58058,     0.58158,     0.58258,     0.58358,     0.58458,     0.58559,     0.58659,     0.58759,     0.58859,     0.58959,     0.59059,     0.59159,     0.59259,     0.59359,     0.59459,      0.5956,      0.5966,      0.5976,      0.5986,      0.5996,\n",
       "            0.6006,      0.6016,      0.6026,      0.6036,      0.6046,     0.60561,     0.60661,     0.60761,     0.60861,     0.60961,     0.61061,     0.61161,     0.61261,     0.61361,     0.61461,     0.61562,     0.61662,     0.61762,     0.61862,     0.61962,     0.62062,     0.62162,     0.62262,     0.62362,\n",
       "           0.62462,     0.62563,     0.62663,     0.62763,     0.62863,     0.62963,     0.63063,     0.63163,     0.63263,     0.63363,     0.63463,     0.63564,     0.63664,     0.63764,     0.63864,     0.63964,     0.64064,     0.64164,     0.64264,     0.64364,     0.64464,     0.64565,     0.64665,     0.64765,\n",
       "           0.64865,     0.64965,     0.65065,     0.65165,     0.65265,     0.65365,     0.65465,     0.65566,     0.65666,     0.65766,     0.65866,     0.65966,     0.66066,     0.66166,     0.66266,     0.66366,     0.66466,     0.66567,     0.66667,     0.66767,     0.66867,     0.66967,     0.67067,     0.67167,\n",
       "           0.67267,     0.67367,     0.67467,     0.67568,     0.67668,     0.67768,     0.67868,     0.67968,     0.68068,     0.68168,     0.68268,     0.68368,     0.68468,     0.68569,     0.68669,     0.68769,     0.68869,     0.68969,     0.69069,     0.69169,     0.69269,     0.69369,     0.69469,      0.6957,\n",
       "            0.6967,      0.6977,      0.6987,      0.6997,      0.7007,      0.7017,      0.7027,      0.7037,      0.7047,     0.70571,     0.70671,     0.70771,     0.70871,     0.70971,     0.71071,     0.71171,     0.71271,     0.71371,     0.71471,     0.71572,     0.71672,     0.71772,     0.71872,     0.71972,\n",
       "           0.72072,     0.72172,     0.72272,     0.72372,     0.72472,     0.72573,     0.72673,     0.72773,     0.72873,     0.72973,     0.73073,     0.73173,     0.73273,     0.73373,     0.73473,     0.73574,     0.73674,     0.73774,     0.73874,     0.73974,     0.74074,     0.74174,     0.74274,     0.74374,\n",
       "           0.74474,     0.74575,     0.74675,     0.74775,     0.74875,     0.74975,     0.75075,     0.75175,     0.75275,     0.75375,     0.75475,     0.75576,     0.75676,     0.75776,     0.75876,     0.75976,     0.76076,     0.76176,     0.76276,     0.76376,     0.76476,     0.76577,     0.76677,     0.76777,\n",
       "           0.76877,     0.76977,     0.77077,     0.77177,     0.77277,     0.77377,     0.77477,     0.77578,     0.77678,     0.77778,     0.77878,     0.77978,     0.78078,     0.78178,     0.78278,     0.78378,     0.78478,     0.78579,     0.78679,     0.78779,     0.78879,     0.78979,     0.79079,     0.79179,\n",
       "           0.79279,     0.79379,     0.79479,      0.7958,      0.7968,      0.7978,      0.7988,      0.7998,      0.8008,      0.8018,      0.8028,      0.8038,      0.8048,     0.80581,     0.80681,     0.80781,     0.80881,     0.80981,     0.81081,     0.81181,     0.81281,     0.81381,     0.81481,     0.81582,\n",
       "           0.81682,     0.81782,     0.81882,     0.81982,     0.82082,     0.82182,     0.82282,     0.82382,     0.82482,     0.82583,     0.82683,     0.82783,     0.82883,     0.82983,     0.83083,     0.83183,     0.83283,     0.83383,     0.83483,     0.83584,     0.83684,     0.83784,     0.83884,     0.83984,\n",
       "           0.84084,     0.84184,     0.84284,     0.84384,     0.84484,     0.84585,     0.84685,     0.84785,     0.84885,     0.84985,     0.85085,     0.85185,     0.85285,     0.85385,     0.85485,     0.85586,     0.85686,     0.85786,     0.85886,     0.85986,     0.86086,     0.86186,     0.86286,     0.86386,\n",
       "           0.86486,     0.86587,     0.86687,     0.86787,     0.86887,     0.86987,     0.87087,     0.87187,     0.87287,     0.87387,     0.87487,     0.87588,     0.87688,     0.87788,     0.87888,     0.87988,     0.88088,     0.88188,     0.88288,     0.88388,     0.88488,     0.88589,     0.88689,     0.88789,\n",
       "           0.88889,     0.88989,     0.89089,     0.89189,     0.89289,     0.89389,     0.89489,      0.8959,      0.8969,      0.8979,      0.8989,      0.8999,      0.9009,      0.9019,      0.9029,      0.9039,      0.9049,     0.90591,     0.90691,     0.90791,     0.90891,     0.90991,     0.91091,     0.91191,\n",
       "           0.91291,     0.91391,     0.91491,     0.91592,     0.91692,     0.91792,     0.91892,     0.91992,     0.92092,     0.92192,     0.92292,     0.92392,     0.92492,     0.92593,     0.92693,     0.92793,     0.92893,     0.92993,     0.93093,     0.93193,     0.93293,     0.93393,     0.93493,     0.93594,\n",
       "           0.93694,     0.93794,     0.93894,     0.93994,     0.94094,     0.94194,     0.94294,     0.94394,     0.94494,     0.94595,     0.94695,     0.94795,     0.94895,     0.94995,     0.95095,     0.95195,     0.95295,     0.95395,     0.95495,     0.95596,     0.95696,     0.95796,     0.95896,     0.95996,\n",
       "           0.96096,     0.96196,     0.96296,     0.96396,     0.96496,     0.96597,     0.96697,     0.96797,     0.96897,     0.96997,     0.97097,     0.97197,     0.97297,     0.97397,     0.97497,     0.97598,     0.97698,     0.97798,     0.97898,     0.97998,     0.98098,     0.98198,     0.98298,     0.98398,\n",
       "           0.98498,     0.98599,     0.98699,     0.98799,     0.98899,     0.98999,     0.99099,     0.99199,     0.99299,     0.99399,     0.99499,       0.996,       0.997,       0.998,       0.999,           1]), array([[          1,           1,           1,           1,           1,           1,           1,           1,         0.8,         0.8,         0.8,         0.8,         0.8,         0.8,         0.8,         0.8,         0.8,         0.8,         0.8,         0.8,         0.8,         0.8,         0.8,\n",
       "                0.8,         0.8,         0.8,         0.8,         0.8,         0.8,         0.8,         0.8,         0.8,         0.8,         0.8,         0.8,         0.8,         0.8,         0.8,         0.8,         0.8,     0.78125,     0.78125,     0.78125,     0.78125,     0.78125,     0.78125,\n",
       "            0.78125,     0.78125,     0.78125,     0.78125,     0.77143,     0.77143,     0.77143,     0.77143,     0.76316,     0.76316,     0.76316,     0.76316,      0.7619,      0.7619,      0.7619,      0.7619,      0.7619,      0.7619,        0.75,        0.75,        0.75,        0.75,        0.75,\n",
       "               0.75,        0.75,        0.75,        0.75,        0.75,        0.75,        0.75,        0.75,        0.75,        0.75,        0.75,        0.75,        0.75,        0.75,        0.75,     0.74286,     0.74286,     0.74286,     0.74286,     0.74286,     0.74286,     0.74286,     0.74286,\n",
       "            0.74286,     0.74286,     0.74286,     0.74286,     0.74286,     0.74286,     0.74286,     0.74286,     0.74286,     0.74286,     0.74286,     0.74026,     0.74026,     0.74026,     0.74026,     0.74026,     0.74026,     0.74026,     0.74026,     0.74026,     0.74026,      0.7375,      0.7375,\n",
       "             0.7375,      0.7375,     0.73494,     0.73494,     0.73494,     0.73494,     0.72414,     0.72414,     0.72414,     0.72414,      0.7191,      0.7191,     0.71429,     0.71429,     0.71154,     0.71154,     0.71154,     0.71154,     0.71154,     0.71154,     0.71154,     0.71154,     0.71154,\n",
       "            0.71154,     0.71154,     0.71154,     0.71154,     0.71154,     0.71154,     0.71154,     0.71154,     0.71154,     0.71028,     0.71028,     0.71028,     0.71028,     0.70909,     0.70909,     0.70909,     0.70909,     0.70796,     0.70796,     0.70796,     0.70796,      0.7069,      0.7069,\n",
       "             0.7069,      0.7069,     0.70339,     0.70339,     0.69767,     0.69767,     0.69767,     0.69767,     0.69767,     0.69767,     0.69767,     0.69767,     0.69767,     0.69767,     0.69767,     0.69767,     0.69767,     0.69767,     0.69697,     0.69697,     0.69697,     0.69118,     0.69118,\n",
       "            0.69118,     0.69118,     0.69065,     0.69065,     0.69065,     0.69065,      0.6831,      0.6831,     0.68056,     0.68056,     0.67568,     0.67568,     0.67568,     0.67568,     0.67204,     0.67204,     0.67204,     0.67204,     0.67204,     0.67204,     0.67204,     0.67204,     0.67204,\n",
       "            0.67204,     0.67204,     0.67204,     0.67204,     0.67204,     0.67204,     0.67204,     0.67204,     0.67204,     0.67204,     0.67204,     0.67204,     0.67204,     0.67204,     0.67204,     0.67204,     0.67204,     0.67204,     0.67204,     0.67204,     0.67204,     0.67204,     0.67204,\n",
       "            0.67204,     0.67204,     0.67204,     0.67204,     0.67204,     0.67204,     0.67204,     0.67204,     0.67204,     0.67204,     0.67204,     0.67204,     0.67204,     0.67204,     0.67204,     0.67204,     0.67204,     0.67204,     0.67021,     0.67021,      0.6701,      0.6701,      0.6701,\n",
       "             0.6701,      0.6701,      0.6701,      0.6701,      0.6701,     0.66497,     0.66497,     0.65842,     0.65842,     0.65842,     0.65842,     0.65686,     0.65686,     0.64904,     0.64904,     0.64762,     0.64762,     0.64623,     0.64623,     0.64486,     0.64352,     0.64352,     0.63636,\n",
       "            0.63636,     0.63229,     0.63229,     0.63111,     0.63111,     0.62719,     0.62719,     0.62232,     0.62232,     0.62232,     0.62232,     0.62128,     0.62128,         0.6,         0.6,     0.59774,     0.59774,     0.59774,     0.59774,     0.59774,     0.59774,     0.59774,     0.59774,\n",
       "            0.59774,     0.59774,     0.59774,     0.59774,     0.59774,     0.59774,     0.59774,     0.59774,     0.59774,     0.59774,     0.59774,     0.59774,     0.59774,     0.59774,     0.59774,     0.59774,      0.5963,      0.5963,      0.5963,      0.5963,     0.57857,     0.57857,     0.56401,\n",
       "            0.56401,     0.55593,     0.55593,      0.5515,      0.5515,      0.5515,      0.5515,     0.54754,     0.54754,     0.54313,     0.54313,     0.54313,     0.54313,     0.54313,     0.54313,     0.53943,     0.53943,      0.5375,      0.5375,      0.5356,      0.5356,     0.53538,     0.53538,\n",
       "            0.53517,     0.53517,     0.53172,     0.53172,     0.52819,     0.52819,     0.52819,     0.52819,     0.52326,     0.52326,     0.52326,     0.52326,     0.52312,     0.52312,     0.52149,     0.52149,     0.51841,     0.51841,     0.51685,     0.50685,     0.50685,     0.50681,     0.50681,\n",
       "            0.50643,     0.50643,     0.50643,     0.50643,     0.50643,     0.50643,     0.50643,     0.50643,     0.50643,     0.50643,     0.50643,     0.50643,     0.50643,     0.50643,     0.50643,     0.50643,     0.50643,     0.50643,     0.50643,     0.50643,     0.50643,     0.50643,      0.5051,\n",
       "             0.5051,     0.49015,     0.49015,      0.4878,      0.4878,     0.48317,     0.48317,     0.47867,     0.47867,     0.47653,     0.47653,     0.47442,     0.47442,     0.47018,     0.47018,     0.46818,     0.46818,     0.45595,     0.45595,     0.45455,     0.45455,     0.45455,     0.45455,\n",
       "            0.45455,     0.45455,     0.44813,     0.44813,     0.44813,     0.44813,     0.44813,     0.44813,     0.44813,     0.44813,     0.44813,     0.44813,     0.44813,     0.44813,     0.44467,     0.44467,     0.44309,     0.44309,     0.43976,     0.43976,     0.43504,     0.43504,     0.43504,\n",
       "            0.43504,     0.42857,     0.42857,     0.42667,     0.42667,     0.42667,     0.42667,     0.42614,     0.42614,     0.42243,     0.42243,     0.42066,     0.42066,     0.42066,     0.42066,     0.42048,     0.42048,     0.42048,     0.41848,     0.41848,     0.41503,     0.41503,     0.41459,\n",
       "            0.41459,     0.41084,     0.41084,     0.41084,     0.41084,      0.4083,      0.4083,     0.40541,     0.40541,     0.40541,     0.40541,     0.40541,     0.40541,     0.40541,     0.40541,     0.40167,     0.40167,     0.40033,     0.40033,     0.40033,     0.40033,     0.39418,     0.39418,\n",
       "            0.38426,     0.38426,     0.38426,     0.38426,     0.38426,     0.38426,     0.38426,     0.38426,     0.38426,     0.38426,     0.38285,     0.38285,     0.37838,     0.37838,     0.37838,     0.37838,     0.37481,     0.37481,     0.36865,     0.36865,     0.36467,     0.36467,     0.36467,\n",
       "            0.36467,     0.34824,     0.34824,     0.33162,     0.33162,      0.3291,      0.3291,      0.3283,      0.3283,      0.3283,      0.3283,     0.32752,     0.32752,     0.32752,     0.32752,     0.32716,     0.32716,     0.32716,     0.32716,     0.32203,     0.32203,     0.32177,     0.32177,\n",
       "            0.32177,     0.32177,     0.32177,     0.32177,     0.31765,     0.31765,     0.30866,     0.30866,      0.3029,      0.3029,     0.29901,     0.29901,     0.29847,     0.29847,     0.29475,     0.29475,     0.28931,     0.27952,     0.27952,     0.27443,     0.27443,     0.27299,     0.27299,\n",
       "            0.27211,     0.27211,     0.26942,     0.26942,     0.26654,     0.26654,     0.26204,     0.26204,     0.25818,     0.25818,     0.25745,     0.25745,     0.25743,     0.25743,     0.25264,     0.25264,     0.24511,     0.24511,     0.23964,     0.23964,     0.23927,     0.23927,      0.2362,\n",
       "             0.2362,     0.23529,     0.23529,     0.23464,     0.23464,     0.23464,     0.23464,     0.23431,     0.23431,      0.2327,      0.2327,     0.23239,     0.23239,     0.22955,     0.22955,     0.22955,     0.22955,     0.22955,     0.22955,     0.22955,     0.22955,     0.22955,     0.22955,\n",
       "            0.22955,     0.22955,     0.22892,     0.22892,     0.22795,     0.22795,       0.226,       0.226,     0.20563,     0.20563,     0.20559,     0.20559,     0.20559,     0.20559,     0.19267,     0.19267,      0.1806,      0.1806,     0.17848,     0.17801,     0.17755,     0.17708,     0.17661,\n",
       "            0.17615,     0.17568,     0.17522,     0.17475,     0.17428,     0.17382,     0.17335,     0.17289,     0.17242,     0.17195,     0.17149,     0.17102,     0.17056,     0.17009,     0.16962,     0.16916,     0.16869,     0.16823,     0.16776,     0.16729,     0.16683,     0.16636,      0.1659,\n",
       "            0.16543,     0.16496,      0.1645,     0.16403,     0.16357,      0.1631,     0.16263,     0.16217,      0.1617,     0.16124,     0.16077,      0.1603,     0.15984,     0.15937,     0.15891,     0.15844,     0.15797,     0.15751,     0.15704,     0.15658,     0.15611,     0.15564,     0.15518,\n",
       "            0.15471,     0.15425,     0.15378,     0.15331,     0.15285,     0.15238,     0.15192,     0.15145,     0.15098,     0.15052,     0.15005,     0.14959,     0.14912,     0.14865,     0.14819,     0.14772,     0.14726,     0.14679,     0.14632,     0.14586,     0.14539,     0.14493,     0.14446,\n",
       "            0.14399,     0.14353,     0.14306,      0.1426,     0.14213,     0.14166,      0.1412,     0.14073,     0.14027,      0.1398,     0.13933,     0.13887,      0.1384,     0.13794,     0.13747,       0.137,     0.13654,     0.13607,     0.13561,     0.13514,     0.13467,     0.13421,     0.13374,\n",
       "            0.13328,     0.13281,     0.13234,     0.13188,     0.13141,     0.13095,     0.13048,     0.13001,     0.12955,     0.12908,     0.12862,     0.12815,     0.12768,     0.12722,     0.12675,     0.12629,     0.12582,     0.12535,     0.12489,     0.12442,     0.12396,     0.12349,     0.12302,\n",
       "            0.12256,     0.12209,     0.12163,     0.12116,     0.12069,     0.12023,     0.11976,      0.1193,     0.11883,     0.11836,      0.1179,     0.11743,     0.11697,      0.1165,     0.11603,     0.11557,      0.1151,     0.11464,     0.11417,      0.1137,     0.11324,     0.11277,     0.11231,\n",
       "            0.11184,     0.11137,     0.11091,     0.11044,     0.10998,     0.10951,     0.10904,     0.10858,     0.10811,     0.10765,     0.10718,     0.10671,     0.10625,     0.10578,     0.10532,     0.10485,     0.10438,     0.10392,     0.10345,     0.10299,     0.10252,     0.10205,     0.10159,\n",
       "            0.10112,     0.10066,     0.10019,    0.099724,    0.099258,    0.098792,    0.098326,     0.09786,    0.097394,    0.096928,    0.096462,    0.095996,     0.09553,    0.095064,    0.094598,    0.094132,    0.093666,      0.0932,    0.092734,    0.092268,    0.091802,    0.091336,     0.09087,\n",
       "           0.090404,    0.089938,    0.089472,    0.089006,     0.08854,    0.088074,    0.087608,    0.087142,    0.086676,     0.08621,    0.085744,    0.085278,    0.084812,    0.084346,     0.08388,    0.083414,    0.082948,    0.082482,    0.082016,     0.08155,    0.081084,    0.080618,    0.080152,\n",
       "           0.079686,     0.07922,    0.078754,    0.078288,    0.077822,    0.077356,     0.07689,    0.076424,    0.075958,    0.075492,    0.075026,     0.07456,    0.074094,    0.073628,    0.073162,    0.072696,     0.07223,    0.071764,    0.071298,    0.070832,    0.070366,      0.0699,    0.069434,\n",
       "           0.068968,    0.068502,    0.068036,     0.06757,    0.067104,    0.066638,    0.066172,    0.065706,     0.06524,    0.064774,    0.064308,    0.063842,    0.063376,     0.06291,    0.062444,    0.061978,    0.061512,    0.061046,     0.06058,    0.060114,    0.059648,    0.059182,    0.058716,\n",
       "            0.05825,    0.057784,    0.057318,    0.056852,    0.056386,     0.05592,    0.055454,    0.054988,    0.054522,    0.054056,     0.05359,    0.053124,    0.052658,    0.052192,    0.051726,     0.05126,    0.050794,    0.050328,    0.049862,    0.049396,     0.04893,    0.048464,    0.047998,\n",
       "           0.047532,    0.047066,      0.0466,    0.046134,    0.045668,    0.045202,    0.044736,     0.04427,    0.043804,    0.043338,    0.042872,    0.042406,     0.04194,    0.041474,    0.041008,    0.040542,    0.040076,     0.03961,    0.039144,    0.038678,    0.038212,    0.037746,     0.03728,\n",
       "           0.036814,    0.036348,    0.035882,    0.035416,     0.03495,    0.034484,    0.034018,    0.033552,    0.033086,     0.03262,    0.032154,    0.031688,    0.031222,    0.030756,     0.03029,    0.029824,    0.029358,    0.028892,    0.028426,     0.02796,    0.027494,    0.027028,    0.026562,\n",
       "           0.026096,     0.02563,    0.025164,    0.024698,    0.024232,    0.023766,      0.0233,    0.022834,    0.022368,    0.021902,    0.021436,     0.02097,    0.020504,    0.020038,    0.019572,    0.019106,     0.01864,    0.018174,    0.017708,    0.017242,    0.016776,     0.01631,    0.015844,\n",
       "           0.015378,    0.014912,    0.014446,     0.01398,    0.013514,    0.013048,    0.012582,    0.012116,     0.01165,    0.011184,    0.010718,    0.010252,    0.009786,     0.00932,    0.008854,    0.008388,    0.007922,    0.007456,     0.00699,    0.006524,    0.006058,    0.005592,    0.005126,\n",
       "            0.00466,    0.004194,    0.003728,    0.003262,    0.002796,     0.00233,    0.001864,    0.001398,    0.000932,    0.000466,           0]]), 'Recall', 'Precision'], [array([          0,    0.001001,    0.002002,    0.003003,    0.004004,    0.005005,    0.006006,    0.007007,    0.008008,    0.009009,     0.01001,    0.011011,    0.012012,    0.013013,    0.014014,    0.015015,    0.016016,    0.017017,    0.018018,    0.019019,     0.02002,    0.021021,    0.022022,    0.023023,\n",
       "          0.024024,    0.025025,    0.026026,    0.027027,    0.028028,    0.029029,     0.03003,    0.031031,    0.032032,    0.033033,    0.034034,    0.035035,    0.036036,    0.037037,    0.038038,    0.039039,     0.04004,    0.041041,    0.042042,    0.043043,    0.044044,    0.045045,    0.046046,    0.047047,\n",
       "          0.048048,    0.049049,     0.05005,    0.051051,    0.052052,    0.053053,    0.054054,    0.055055,    0.056056,    0.057057,    0.058058,    0.059059,     0.06006,    0.061061,    0.062062,    0.063063,    0.064064,    0.065065,    0.066066,    0.067067,    0.068068,    0.069069,     0.07007,    0.071071,\n",
       "          0.072072,    0.073073,    0.074074,    0.075075,    0.076076,    0.077077,    0.078078,    0.079079,     0.08008,    0.081081,    0.082082,    0.083083,    0.084084,    0.085085,    0.086086,    0.087087,    0.088088,    0.089089,     0.09009,    0.091091,    0.092092,    0.093093,    0.094094,    0.095095,\n",
       "          0.096096,    0.097097,    0.098098,    0.099099,      0.1001,      0.1011,      0.1021,      0.1031,      0.1041,     0.10511,     0.10611,     0.10711,     0.10811,     0.10911,     0.11011,     0.11111,     0.11211,     0.11311,     0.11411,     0.11512,     0.11612,     0.11712,     0.11812,     0.11912,\n",
       "           0.12012,     0.12112,     0.12212,     0.12312,     0.12412,     0.12513,     0.12613,     0.12713,     0.12813,     0.12913,     0.13013,     0.13113,     0.13213,     0.13313,     0.13413,     0.13514,     0.13614,     0.13714,     0.13814,     0.13914,     0.14014,     0.14114,     0.14214,     0.14314,\n",
       "           0.14414,     0.14515,     0.14615,     0.14715,     0.14815,     0.14915,     0.15015,     0.15115,     0.15215,     0.15315,     0.15415,     0.15516,     0.15616,     0.15716,     0.15816,     0.15916,     0.16016,     0.16116,     0.16216,     0.16316,     0.16416,     0.16517,     0.16617,     0.16717,\n",
       "           0.16817,     0.16917,     0.17017,     0.17117,     0.17217,     0.17317,     0.17417,     0.17518,     0.17618,     0.17718,     0.17818,     0.17918,     0.18018,     0.18118,     0.18218,     0.18318,     0.18418,     0.18519,     0.18619,     0.18719,     0.18819,     0.18919,     0.19019,     0.19119,\n",
       "           0.19219,     0.19319,     0.19419,      0.1952,      0.1962,      0.1972,      0.1982,      0.1992,      0.2002,      0.2012,      0.2022,      0.2032,      0.2042,     0.20521,     0.20621,     0.20721,     0.20821,     0.20921,     0.21021,     0.21121,     0.21221,     0.21321,     0.21421,     0.21522,\n",
       "           0.21622,     0.21722,     0.21822,     0.21922,     0.22022,     0.22122,     0.22222,     0.22322,     0.22422,     0.22523,     0.22623,     0.22723,     0.22823,     0.22923,     0.23023,     0.23123,     0.23223,     0.23323,     0.23423,     0.23524,     0.23624,     0.23724,     0.23824,     0.23924,\n",
       "           0.24024,     0.24124,     0.24224,     0.24324,     0.24424,     0.24525,     0.24625,     0.24725,     0.24825,     0.24925,     0.25025,     0.25125,     0.25225,     0.25325,     0.25425,     0.25526,     0.25626,     0.25726,     0.25826,     0.25926,     0.26026,     0.26126,     0.26226,     0.26326,\n",
       "           0.26426,     0.26527,     0.26627,     0.26727,     0.26827,     0.26927,     0.27027,     0.27127,     0.27227,     0.27327,     0.27427,     0.27528,     0.27628,     0.27728,     0.27828,     0.27928,     0.28028,     0.28128,     0.28228,     0.28328,     0.28428,     0.28529,     0.28629,     0.28729,\n",
       "           0.28829,     0.28929,     0.29029,     0.29129,     0.29229,     0.29329,     0.29429,      0.2953,      0.2963,      0.2973,      0.2983,      0.2993,      0.3003,      0.3013,      0.3023,      0.3033,      0.3043,     0.30531,     0.30631,     0.30731,     0.30831,     0.30931,     0.31031,     0.31131,\n",
       "           0.31231,     0.31331,     0.31431,     0.31532,     0.31632,     0.31732,     0.31832,     0.31932,     0.32032,     0.32132,     0.32232,     0.32332,     0.32432,     0.32533,     0.32633,     0.32733,     0.32833,     0.32933,     0.33033,     0.33133,     0.33233,     0.33333,     0.33433,     0.33534,\n",
       "           0.33634,     0.33734,     0.33834,     0.33934,     0.34034,     0.34134,     0.34234,     0.34334,     0.34434,     0.34535,     0.34635,     0.34735,     0.34835,     0.34935,     0.35035,     0.35135,     0.35235,     0.35335,     0.35435,     0.35536,     0.35636,     0.35736,     0.35836,     0.35936,\n",
       "           0.36036,     0.36136,     0.36236,     0.36336,     0.36436,     0.36537,     0.36637,     0.36737,     0.36837,     0.36937,     0.37037,     0.37137,     0.37237,     0.37337,     0.37437,     0.37538,     0.37638,     0.37738,     0.37838,     0.37938,     0.38038,     0.38138,     0.38238,     0.38338,\n",
       "           0.38438,     0.38539,     0.38639,     0.38739,     0.38839,     0.38939,     0.39039,     0.39139,     0.39239,     0.39339,     0.39439,      0.3954,      0.3964,      0.3974,      0.3984,      0.3994,      0.4004,      0.4014,      0.4024,      0.4034,      0.4044,     0.40541,     0.40641,     0.40741,\n",
       "           0.40841,     0.40941,     0.41041,     0.41141,     0.41241,     0.41341,     0.41441,     0.41542,     0.41642,     0.41742,     0.41842,     0.41942,     0.42042,     0.42142,     0.42242,     0.42342,     0.42442,     0.42543,     0.42643,     0.42743,     0.42843,     0.42943,     0.43043,     0.43143,\n",
       "           0.43243,     0.43343,     0.43443,     0.43544,     0.43644,     0.43744,     0.43844,     0.43944,     0.44044,     0.44144,     0.44244,     0.44344,     0.44444,     0.44545,     0.44645,     0.44745,     0.44845,     0.44945,     0.45045,     0.45145,     0.45245,     0.45345,     0.45445,     0.45546,\n",
       "           0.45646,     0.45746,     0.45846,     0.45946,     0.46046,     0.46146,     0.46246,     0.46346,     0.46446,     0.46547,     0.46647,     0.46747,     0.46847,     0.46947,     0.47047,     0.47147,     0.47247,     0.47347,     0.47447,     0.47548,     0.47648,     0.47748,     0.47848,     0.47948,\n",
       "           0.48048,     0.48148,     0.48248,     0.48348,     0.48448,     0.48549,     0.48649,     0.48749,     0.48849,     0.48949,     0.49049,     0.49149,     0.49249,     0.49349,     0.49449,      0.4955,      0.4965,      0.4975,      0.4985,      0.4995,      0.5005,      0.5015,      0.5025,      0.5035,\n",
       "            0.5045,     0.50551,     0.50651,     0.50751,     0.50851,     0.50951,     0.51051,     0.51151,     0.51251,     0.51351,     0.51451,     0.51552,     0.51652,     0.51752,     0.51852,     0.51952,     0.52052,     0.52152,     0.52252,     0.52352,     0.52452,     0.52553,     0.52653,     0.52753,\n",
       "           0.52853,     0.52953,     0.53053,     0.53153,     0.53253,     0.53353,     0.53453,     0.53554,     0.53654,     0.53754,     0.53854,     0.53954,     0.54054,     0.54154,     0.54254,     0.54354,     0.54454,     0.54555,     0.54655,     0.54755,     0.54855,     0.54955,     0.55055,     0.55155,\n",
       "           0.55255,     0.55355,     0.55455,     0.55556,     0.55656,     0.55756,     0.55856,     0.55956,     0.56056,     0.56156,     0.56256,     0.56356,     0.56456,     0.56557,     0.56657,     0.56757,     0.56857,     0.56957,     0.57057,     0.57157,     0.57257,     0.57357,     0.57457,     0.57558,\n",
       "           0.57658,     0.57758,     0.57858,     0.57958,     0.58058,     0.58158,     0.58258,     0.58358,     0.58458,     0.58559,     0.58659,     0.58759,     0.58859,     0.58959,     0.59059,     0.59159,     0.59259,     0.59359,     0.59459,      0.5956,      0.5966,      0.5976,      0.5986,      0.5996,\n",
       "            0.6006,      0.6016,      0.6026,      0.6036,      0.6046,     0.60561,     0.60661,     0.60761,     0.60861,     0.60961,     0.61061,     0.61161,     0.61261,     0.61361,     0.61461,     0.61562,     0.61662,     0.61762,     0.61862,     0.61962,     0.62062,     0.62162,     0.62262,     0.62362,\n",
       "           0.62462,     0.62563,     0.62663,     0.62763,     0.62863,     0.62963,     0.63063,     0.63163,     0.63263,     0.63363,     0.63463,     0.63564,     0.63664,     0.63764,     0.63864,     0.63964,     0.64064,     0.64164,     0.64264,     0.64364,     0.64464,     0.64565,     0.64665,     0.64765,\n",
       "           0.64865,     0.64965,     0.65065,     0.65165,     0.65265,     0.65365,     0.65465,     0.65566,     0.65666,     0.65766,     0.65866,     0.65966,     0.66066,     0.66166,     0.66266,     0.66366,     0.66466,     0.66567,     0.66667,     0.66767,     0.66867,     0.66967,     0.67067,     0.67167,\n",
       "           0.67267,     0.67367,     0.67467,     0.67568,     0.67668,     0.67768,     0.67868,     0.67968,     0.68068,     0.68168,     0.68268,     0.68368,     0.68468,     0.68569,     0.68669,     0.68769,     0.68869,     0.68969,     0.69069,     0.69169,     0.69269,     0.69369,     0.69469,      0.6957,\n",
       "            0.6967,      0.6977,      0.6987,      0.6997,      0.7007,      0.7017,      0.7027,      0.7037,      0.7047,     0.70571,     0.70671,     0.70771,     0.70871,     0.70971,     0.71071,     0.71171,     0.71271,     0.71371,     0.71471,     0.71572,     0.71672,     0.71772,     0.71872,     0.71972,\n",
       "           0.72072,     0.72172,     0.72272,     0.72372,     0.72472,     0.72573,     0.72673,     0.72773,     0.72873,     0.72973,     0.73073,     0.73173,     0.73273,     0.73373,     0.73473,     0.73574,     0.73674,     0.73774,     0.73874,     0.73974,     0.74074,     0.74174,     0.74274,     0.74374,\n",
       "           0.74474,     0.74575,     0.74675,     0.74775,     0.74875,     0.74975,     0.75075,     0.75175,     0.75275,     0.75375,     0.75475,     0.75576,     0.75676,     0.75776,     0.75876,     0.75976,     0.76076,     0.76176,     0.76276,     0.76376,     0.76476,     0.76577,     0.76677,     0.76777,\n",
       "           0.76877,     0.76977,     0.77077,     0.77177,     0.77277,     0.77377,     0.77477,     0.77578,     0.77678,     0.77778,     0.77878,     0.77978,     0.78078,     0.78178,     0.78278,     0.78378,     0.78478,     0.78579,     0.78679,     0.78779,     0.78879,     0.78979,     0.79079,     0.79179,\n",
       "           0.79279,     0.79379,     0.79479,      0.7958,      0.7968,      0.7978,      0.7988,      0.7998,      0.8008,      0.8018,      0.8028,      0.8038,      0.8048,     0.80581,     0.80681,     0.80781,     0.80881,     0.80981,     0.81081,     0.81181,     0.81281,     0.81381,     0.81481,     0.81582,\n",
       "           0.81682,     0.81782,     0.81882,     0.81982,     0.82082,     0.82182,     0.82282,     0.82382,     0.82482,     0.82583,     0.82683,     0.82783,     0.82883,     0.82983,     0.83083,     0.83183,     0.83283,     0.83383,     0.83483,     0.83584,     0.83684,     0.83784,     0.83884,     0.83984,\n",
       "           0.84084,     0.84184,     0.84284,     0.84384,     0.84484,     0.84585,     0.84685,     0.84785,     0.84885,     0.84985,     0.85085,     0.85185,     0.85285,     0.85385,     0.85485,     0.85586,     0.85686,     0.85786,     0.85886,     0.85986,     0.86086,     0.86186,     0.86286,     0.86386,\n",
       "           0.86486,     0.86587,     0.86687,     0.86787,     0.86887,     0.86987,     0.87087,     0.87187,     0.87287,     0.87387,     0.87487,     0.87588,     0.87688,     0.87788,     0.87888,     0.87988,     0.88088,     0.88188,     0.88288,     0.88388,     0.88488,     0.88589,     0.88689,     0.88789,\n",
       "           0.88889,     0.88989,     0.89089,     0.89189,     0.89289,     0.89389,     0.89489,      0.8959,      0.8969,      0.8979,      0.8989,      0.8999,      0.9009,      0.9019,      0.9029,      0.9039,      0.9049,     0.90591,     0.90691,     0.90791,     0.90891,     0.90991,     0.91091,     0.91191,\n",
       "           0.91291,     0.91391,     0.91491,     0.91592,     0.91692,     0.91792,     0.91892,     0.91992,     0.92092,     0.92192,     0.92292,     0.92392,     0.92492,     0.92593,     0.92693,     0.92793,     0.92893,     0.92993,     0.93093,     0.93193,     0.93293,     0.93393,     0.93493,     0.93594,\n",
       "           0.93694,     0.93794,     0.93894,     0.93994,     0.94094,     0.94194,     0.94294,     0.94394,     0.94494,     0.94595,     0.94695,     0.94795,     0.94895,     0.94995,     0.95095,     0.95195,     0.95295,     0.95395,     0.95495,     0.95596,     0.95696,     0.95796,     0.95896,     0.95996,\n",
       "           0.96096,     0.96196,     0.96296,     0.96396,     0.96496,     0.96597,     0.96697,     0.96797,     0.96897,     0.96997,     0.97097,     0.97197,     0.97297,     0.97397,     0.97497,     0.97598,     0.97698,     0.97798,     0.97898,     0.97998,     0.98098,     0.98198,     0.98298,     0.98398,\n",
       "           0.98498,     0.98599,     0.98699,     0.98799,     0.98899,     0.98999,     0.99099,     0.99199,     0.99299,     0.99399,     0.99499,       0.996,       0.997,       0.998,       0.999,           1]), array([[    0.27718,     0.27718,     0.30309,     0.31617,     0.32985,      0.3317,      0.3343,     0.34409,     0.35319,     0.35839,     0.36423,     0.36961,      0.3777,     0.38147,       0.384,     0.38965,     0.39456,      0.3989,      0.3986,       0.402,     0.40009,     0.40234,     0.40679,\n",
       "            0.41021,      0.4132,     0.41853,     0.42277,     0.42572,      0.4287,     0.43002,     0.43071,     0.42725,     0.43068,     0.43382,     0.43667,     0.43587,     0.43423,     0.43479,     0.43498,      0.4354,      0.4352,     0.43658,     0.43289,     0.43439,     0.43322,     0.43469,\n",
       "            0.43622,     0.43363,      0.4352,     0.43576,     0.43587,      0.4331,     0.43077,     0.43088,     0.43269,     0.43429,     0.43082,     0.43152,     0.43306,      0.4349,     0.43475,     0.43529,     0.43534,     0.43491,     0.43565,     0.43496,     0.43689,     0.43686,     0.43871,\n",
       "            0.43979,     0.44083,     0.43872,     0.43373,     0.43325,     0.43312,     0.42712,     0.42822,     0.42558,     0.42655,      0.4239,     0.42543,     0.42605,     0.42714,     0.42579,     0.42635,     0.42491,     0.42511,     0.42532,     0.42064,     0.42054,     0.42131,     0.42264,\n",
       "            0.41907,     0.41946,     0.42077,     0.42049,     0.41749,     0.41654,      0.4157,     0.41419,     0.41511,     0.41205,     0.41097,     0.41125,     0.41161,     0.41224,     0.41099,      0.4081,     0.40892,     0.40977,     0.40949,     0.40872,     0.40894,     0.40916,     0.40938,\n",
       "             0.4096,     0.41003,     0.41213,     0.41088,     0.41219,     0.41315,     0.41405,     0.41494,     0.41248,     0.40749,     0.40655,     0.40579,     0.40301,     0.39621,     0.39463,     0.39297,     0.39246,     0.38995,     0.39086,     0.39029,      0.3912,     0.39166,     0.39216,\n",
       "            0.39258,     0.39365,     0.39243,     0.38898,     0.38936,     0.38963,     0.38876,      0.3871,     0.38619,     0.38544,     0.38556,     0.38442,     0.38415,     0.38442,     0.38519,     0.38428,     0.38366,       0.383,     0.38165,     0.38022,     0.37863,     0.37745,     0.37306,\n",
       "            0.37235,     0.37273,     0.37285,     0.37297,      0.3731,     0.37318,     0.37171,     0.37128,     0.37155,     0.37169,     0.37183,     0.37186,     0.36995,     0.36459,     0.36358,      0.3626,     0.36308,     0.36163,     0.36157,     0.36054,     0.35952,     0.35816,     0.35665,\n",
       "            0.35469,     0.35243,     0.35169,     0.34905,     0.34619,     0.34221,     0.34086,     0.34115,     0.33911,     0.33942,     0.33737,     0.33758,     0.33766,     0.33113,     0.32828,     0.32725,     0.32623,     0.32455,     0.32367,     0.32328,     0.32288,     0.32248,     0.32208,\n",
       "            0.32169,     0.32117,     0.31929,     0.31898,     0.31922,     0.31525,     0.31437,     0.31389,     0.31224,     0.31248,     0.31156,     0.30965,     0.30773,     0.30539,     0.30268,      0.3011,     0.30121,     0.30133,     0.30144,     0.30164,      0.2997,     0.29769,     0.29785,\n",
       "            0.29802,      0.2943,     0.29297,     0.29318,     0.29124,     0.28809,     0.28825,     0.28841,     0.28862,     0.28883,     0.28443,     0.28354,      0.2837,     0.28385,     0.28318,     0.28195,     0.27973,     0.27724,     0.27051,     0.26957,     0.26863,     0.26811,     0.26716,\n",
       "            0.26622,      0.2658,     0.26639,     0.26371,       0.264,     0.26145,     0.25876,     0.25699,     0.25325,     0.25328,     0.25332,     0.25336,     0.25339,     0.25343,     0.25346,      0.2535,     0.25354,     0.25357,     0.25361,     0.25364,     0.25053,     0.25002,     0.24951,\n",
       "              0.249,     0.24849,     0.24798,     0.24649,      0.2427,     0.24287,      0.2428,     0.23958,     0.23788,     0.23478,     0.22878,     0.22825,     0.22773,      0.2272,     0.22668,     0.22615,       0.226,     0.22548,     0.22495,     0.22442,      0.2239,     0.22337,     0.22049,\n",
       "            0.21842,     0.21786,     0.21808,      0.2157,     0.21535,     0.21358,     0.21266,     0.20867,      0.2069,     0.20725,     0.20612,     0.20498,     0.20334,     0.20139,     0.20156,     0.19976,     0.19571,     0.19383,     0.18993,     0.18909,     0.18848,     0.18786,     0.18725,\n",
       "            0.18664,     0.18595,     0.18523,     0.18452,      0.1838,     0.18347,     0.18366,      0.1806,     0.18066,     0.18072,     0.18078,     0.18084,      0.1783,     0.17708,     0.17635,     0.17563,      0.1749,     0.17298,     0.17086,     0.16993,     0.16899,     0.16799,     0.16635,\n",
       "            0.16496,     0.16388,     0.16157,     0.16062,     0.15967,     0.15898,     0.15571,     0.15449,     0.15328,     0.15236,     0.15203,     0.15169,     0.15136,     0.15102,     0.15068,     0.15035,     0.15001,     0.14967,     0.14934,     0.14928,     0.14942,     0.14964,     0.14844,\n",
       "            0.14651,     0.14276,     0.14239,     0.14202,     0.14165,     0.14128,     0.14092,     0.14055,     0.14018,     0.13981,     0.13597,     0.13546,     0.13495,     0.13444,     0.13393,     0.13342,     0.12852,      0.1264,     0.12654,     0.12542,     0.12368,     0.12321,     0.12324,\n",
       "            0.12327,      0.1233,     0.12333,     0.12336,     0.12339,     0.12295,     0.12178,     0.12061,     0.12011,     0.11789,     0.11633,     0.11544,     0.11456,     0.11367,     0.11274,     0.11179,     0.11084,     0.10995,     0.10923,     0.10852,     0.10781,      0.1071,     0.10663,\n",
       "            0.10665,     0.10668,     0.10671,     0.10673,     0.10676,     0.10678,     0.10681,     0.10407,     0.10314,     0.10291,     0.10267,     0.10244,     0.10221,     0.10198,     0.10175,     0.10152,     0.10128,     0.10105,     0.10082,     0.10059,     0.10036,     0.10012,    0.099892,\n",
       "           0.099655,    0.099139,    0.098623,    0.098107,    0.097591,    0.097074,    0.096558,    0.096095,    0.095642,    0.095189,    0.094735,    0.094282,    0.093828,    0.093375,    0.092938,    0.092961,    0.092984,    0.093007,     0.09303,    0.093053,    0.093076,    0.093098,    0.087816,\n",
       "           0.085371,    0.084147,    0.082921,    0.081975,    0.081238,    0.080501,    0.079763,    0.079025,    0.078157,    0.077233,    0.076307,    0.075381,    0.075304,     0.07539,    0.075462,    0.075114,      0.0747,    0.074286,    0.073871,    0.073457,    0.073043,    0.072628,    0.072213,\n",
       "            0.07177,    0.071022,    0.070274,    0.069525,    0.068776,    0.068085,    0.067616,    0.067146,    0.066677,    0.066207,    0.065737,    0.065267,    0.064797,       0.063,    0.060702,    0.060387,    0.060072,    0.059756,    0.059441,    0.059126,     0.05881,    0.058495,    0.058179,\n",
       "           0.057863,    0.057547,    0.057231,    0.056753,     0.05621,    0.055667,    0.055125,    0.054581,    0.054038,    0.053495,    0.052304,    0.051032,    0.049759,    0.049519,    0.049318,    0.049116,    0.048915,    0.048714,    0.048512,    0.048311,    0.048109,    0.047908,    0.047706,\n",
       "           0.047505,    0.047303,    0.047101,      0.0469,    0.046698,    0.046496,    0.046294,    0.046093,    0.045991,    0.046021,    0.046051,    0.045101,    0.043176,    0.041246,    0.039312,    0.038544,    0.038557,     0.03857,    0.038583,    0.038595,    0.038607,    0.038305,    0.037897,\n",
       "           0.037487,    0.037078,    0.036669,     0.03626,     0.03585,     0.03544,    0.035031,     0.03461,    0.034176,    0.033743,    0.033309,    0.032876,    0.032442,    0.032008,    0.031574,    0.031139,    0.030098,    0.028793,    0.027485,    0.026806,    0.026315,    0.025823,    0.025332,\n",
       "            0.02484,    0.024348,    0.023856,    0.023363,    0.023355,    0.023364,    0.023373,    0.023381,    0.023389,    0.022918,    0.022127,    0.021336,    0.020544,    0.019752,    0.019259,    0.018881,    0.018503,    0.018124,    0.017746,    0.017368,    0.016989,    0.016611,    0.016232,\n",
       "           0.015853,    0.015661,    0.015672,    0.015682,    0.015688,     0.01569,    0.015693,    0.015695,    0.015697,      0.0157,    0.015702,    0.015704,    0.015706,    0.015708,     0.01571,    0.015712,    0.015713,    0.015715,    0.015717,    0.015259,    0.014759,    0.014259,    0.013758,\n",
       "           0.013258,    0.012757,    0.012256,    0.011782,    0.011523,    0.011264,    0.011005,    0.010746,    0.010487,    0.010228,   0.0099684,   0.0097091,   0.0094497,   0.0091902,   0.0089307,    0.008671,   0.0084114,   0.0081516,   0.0078918,   0.0076476,   0.0074034,   0.0071591,   0.0069148,\n",
       "          0.0066705,   0.0064261,   0.0061816,    0.005937,   0.0056924,   0.0054478,    0.005203,   0.0049583,   0.0047134,   0.0044685,   0.0042236,   0.0039785,           0,           0,           0,           0,           0,           0,           0,           0,           0,           0,           0,\n",
       "                  0,           0,           0,           0,           0,           0,           0,           0,           0,           0,           0,           0,           0,           0,           0,           0,           0,           0,           0,           0,           0,           0,           0,\n",
       "                  0,           0,           0,           0,           0,           0,           0,           0,           0,           0,           0,           0,           0,           0,           0,           0,           0,           0,           0,           0,           0,           0,           0,\n",
       "                  0,           0,           0,           0,           0,           0,           0,           0,           0,           0,           0,           0,           0,           0,           0,           0,           0,           0,           0,           0,           0,           0,           0,\n",
       "                  0,           0,           0,           0,           0,           0,           0,           0,           0,           0,           0,           0,           0,           0,           0,           0,           0,           0,           0,           0,           0,           0,           0,\n",
       "                  0,           0,           0,           0,           0,           0,           0,           0,           0,           0,           0,           0,           0,           0,           0,           0,           0,           0,           0,           0,           0,           0,           0,\n",
       "                  0,           0,           0,           0,           0,           0,           0,           0,           0,           0,           0,           0,           0,           0,           0,           0,           0,           0,           0,           0,           0,           0,           0,\n",
       "                  0,           0,           0,           0,           0,           0,           0,           0,           0,           0,           0,           0,           0,           0,           0,           0,           0,           0,           0,           0,           0,           0,           0,\n",
       "                  0,           0,           0,           0,           0,           0,           0,           0,           0,           0,           0,           0,           0,           0,           0,           0,           0,           0,           0,           0,           0,           0,           0,\n",
       "                  0,           0,           0,           0,           0,           0,           0,           0,           0,           0,           0,           0,           0,           0,           0,           0,           0,           0,           0,           0,           0,           0,           0,\n",
       "                  0,           0,           0,           0,           0,           0,           0,           0,           0,           0,           0,           0,           0,           0,           0,           0,           0,           0,           0,           0,           0,           0,           0,\n",
       "                  0,           0,           0,           0,           0,           0,           0,           0,           0,           0,           0,           0,           0,           0,           0,           0,           0,           0,           0,           0,           0,           0,           0,\n",
       "                  0,           0,           0,           0,           0,           0,           0,           0,           0,           0,           0,           0,           0,           0,           0,           0,           0,           0,           0,           0,           0,           0,           0,\n",
       "                  0,           0,           0,           0,           0,           0,           0,           0,           0,           0,           0,           0,           0,           0,           0,           0,           0,           0,           0,           0,           0,           0,           0,\n",
       "                  0,           0,           0,           0,           0,           0,           0,           0,           0,           0,           0,           0,           0,           0,           0,           0,           0,           0,           0,           0,           0,           0,           0,\n",
       "                  0,           0,           0,           0,           0,           0,           0,           0,           0,           0,           0]]), 'Confidence', 'F1'], [array([          0,    0.001001,    0.002002,    0.003003,    0.004004,    0.005005,    0.006006,    0.007007,    0.008008,    0.009009,     0.01001,    0.011011,    0.012012,    0.013013,    0.014014,    0.015015,    0.016016,    0.017017,    0.018018,    0.019019,     0.02002,    0.021021,    0.022022,    0.023023,\n",
       "          0.024024,    0.025025,    0.026026,    0.027027,    0.028028,    0.029029,     0.03003,    0.031031,    0.032032,    0.033033,    0.034034,    0.035035,    0.036036,    0.037037,    0.038038,    0.039039,     0.04004,    0.041041,    0.042042,    0.043043,    0.044044,    0.045045,    0.046046,    0.047047,\n",
       "          0.048048,    0.049049,     0.05005,    0.051051,    0.052052,    0.053053,    0.054054,    0.055055,    0.056056,    0.057057,    0.058058,    0.059059,     0.06006,    0.061061,    0.062062,    0.063063,    0.064064,    0.065065,    0.066066,    0.067067,    0.068068,    0.069069,     0.07007,    0.071071,\n",
       "          0.072072,    0.073073,    0.074074,    0.075075,    0.076076,    0.077077,    0.078078,    0.079079,     0.08008,    0.081081,    0.082082,    0.083083,    0.084084,    0.085085,    0.086086,    0.087087,    0.088088,    0.089089,     0.09009,    0.091091,    0.092092,    0.093093,    0.094094,    0.095095,\n",
       "          0.096096,    0.097097,    0.098098,    0.099099,      0.1001,      0.1011,      0.1021,      0.1031,      0.1041,     0.10511,     0.10611,     0.10711,     0.10811,     0.10911,     0.11011,     0.11111,     0.11211,     0.11311,     0.11411,     0.11512,     0.11612,     0.11712,     0.11812,     0.11912,\n",
       "           0.12012,     0.12112,     0.12212,     0.12312,     0.12412,     0.12513,     0.12613,     0.12713,     0.12813,     0.12913,     0.13013,     0.13113,     0.13213,     0.13313,     0.13413,     0.13514,     0.13614,     0.13714,     0.13814,     0.13914,     0.14014,     0.14114,     0.14214,     0.14314,\n",
       "           0.14414,     0.14515,     0.14615,     0.14715,     0.14815,     0.14915,     0.15015,     0.15115,     0.15215,     0.15315,     0.15415,     0.15516,     0.15616,     0.15716,     0.15816,     0.15916,     0.16016,     0.16116,     0.16216,     0.16316,     0.16416,     0.16517,     0.16617,     0.16717,\n",
       "           0.16817,     0.16917,     0.17017,     0.17117,     0.17217,     0.17317,     0.17417,     0.17518,     0.17618,     0.17718,     0.17818,     0.17918,     0.18018,     0.18118,     0.18218,     0.18318,     0.18418,     0.18519,     0.18619,     0.18719,     0.18819,     0.18919,     0.19019,     0.19119,\n",
       "           0.19219,     0.19319,     0.19419,      0.1952,      0.1962,      0.1972,      0.1982,      0.1992,      0.2002,      0.2012,      0.2022,      0.2032,      0.2042,     0.20521,     0.20621,     0.20721,     0.20821,     0.20921,     0.21021,     0.21121,     0.21221,     0.21321,     0.21421,     0.21522,\n",
       "           0.21622,     0.21722,     0.21822,     0.21922,     0.22022,     0.22122,     0.22222,     0.22322,     0.22422,     0.22523,     0.22623,     0.22723,     0.22823,     0.22923,     0.23023,     0.23123,     0.23223,     0.23323,     0.23423,     0.23524,     0.23624,     0.23724,     0.23824,     0.23924,\n",
       "           0.24024,     0.24124,     0.24224,     0.24324,     0.24424,     0.24525,     0.24625,     0.24725,     0.24825,     0.24925,     0.25025,     0.25125,     0.25225,     0.25325,     0.25425,     0.25526,     0.25626,     0.25726,     0.25826,     0.25926,     0.26026,     0.26126,     0.26226,     0.26326,\n",
       "           0.26426,     0.26527,     0.26627,     0.26727,     0.26827,     0.26927,     0.27027,     0.27127,     0.27227,     0.27327,     0.27427,     0.27528,     0.27628,     0.27728,     0.27828,     0.27928,     0.28028,     0.28128,     0.28228,     0.28328,     0.28428,     0.28529,     0.28629,     0.28729,\n",
       "           0.28829,     0.28929,     0.29029,     0.29129,     0.29229,     0.29329,     0.29429,      0.2953,      0.2963,      0.2973,      0.2983,      0.2993,      0.3003,      0.3013,      0.3023,      0.3033,      0.3043,     0.30531,     0.30631,     0.30731,     0.30831,     0.30931,     0.31031,     0.31131,\n",
       "           0.31231,     0.31331,     0.31431,     0.31532,     0.31632,     0.31732,     0.31832,     0.31932,     0.32032,     0.32132,     0.32232,     0.32332,     0.32432,     0.32533,     0.32633,     0.32733,     0.32833,     0.32933,     0.33033,     0.33133,     0.33233,     0.33333,     0.33433,     0.33534,\n",
       "           0.33634,     0.33734,     0.33834,     0.33934,     0.34034,     0.34134,     0.34234,     0.34334,     0.34434,     0.34535,     0.34635,     0.34735,     0.34835,     0.34935,     0.35035,     0.35135,     0.35235,     0.35335,     0.35435,     0.35536,     0.35636,     0.35736,     0.35836,     0.35936,\n",
       "           0.36036,     0.36136,     0.36236,     0.36336,     0.36436,     0.36537,     0.36637,     0.36737,     0.36837,     0.36937,     0.37037,     0.37137,     0.37237,     0.37337,     0.37437,     0.37538,     0.37638,     0.37738,     0.37838,     0.37938,     0.38038,     0.38138,     0.38238,     0.38338,\n",
       "           0.38438,     0.38539,     0.38639,     0.38739,     0.38839,     0.38939,     0.39039,     0.39139,     0.39239,     0.39339,     0.39439,      0.3954,      0.3964,      0.3974,      0.3984,      0.3994,      0.4004,      0.4014,      0.4024,      0.4034,      0.4044,     0.40541,     0.40641,     0.40741,\n",
       "           0.40841,     0.40941,     0.41041,     0.41141,     0.41241,     0.41341,     0.41441,     0.41542,     0.41642,     0.41742,     0.41842,     0.41942,     0.42042,     0.42142,     0.42242,     0.42342,     0.42442,     0.42543,     0.42643,     0.42743,     0.42843,     0.42943,     0.43043,     0.43143,\n",
       "           0.43243,     0.43343,     0.43443,     0.43544,     0.43644,     0.43744,     0.43844,     0.43944,     0.44044,     0.44144,     0.44244,     0.44344,     0.44444,     0.44545,     0.44645,     0.44745,     0.44845,     0.44945,     0.45045,     0.45145,     0.45245,     0.45345,     0.45445,     0.45546,\n",
       "           0.45646,     0.45746,     0.45846,     0.45946,     0.46046,     0.46146,     0.46246,     0.46346,     0.46446,     0.46547,     0.46647,     0.46747,     0.46847,     0.46947,     0.47047,     0.47147,     0.47247,     0.47347,     0.47447,     0.47548,     0.47648,     0.47748,     0.47848,     0.47948,\n",
       "           0.48048,     0.48148,     0.48248,     0.48348,     0.48448,     0.48549,     0.48649,     0.48749,     0.48849,     0.48949,     0.49049,     0.49149,     0.49249,     0.49349,     0.49449,      0.4955,      0.4965,      0.4975,      0.4985,      0.4995,      0.5005,      0.5015,      0.5025,      0.5035,\n",
       "            0.5045,     0.50551,     0.50651,     0.50751,     0.50851,     0.50951,     0.51051,     0.51151,     0.51251,     0.51351,     0.51451,     0.51552,     0.51652,     0.51752,     0.51852,     0.51952,     0.52052,     0.52152,     0.52252,     0.52352,     0.52452,     0.52553,     0.52653,     0.52753,\n",
       "           0.52853,     0.52953,     0.53053,     0.53153,     0.53253,     0.53353,     0.53453,     0.53554,     0.53654,     0.53754,     0.53854,     0.53954,     0.54054,     0.54154,     0.54254,     0.54354,     0.54454,     0.54555,     0.54655,     0.54755,     0.54855,     0.54955,     0.55055,     0.55155,\n",
       "           0.55255,     0.55355,     0.55455,     0.55556,     0.55656,     0.55756,     0.55856,     0.55956,     0.56056,     0.56156,     0.56256,     0.56356,     0.56456,     0.56557,     0.56657,     0.56757,     0.56857,     0.56957,     0.57057,     0.57157,     0.57257,     0.57357,     0.57457,     0.57558,\n",
       "           0.57658,     0.57758,     0.57858,     0.57958,     0.58058,     0.58158,     0.58258,     0.58358,     0.58458,     0.58559,     0.58659,     0.58759,     0.58859,     0.58959,     0.59059,     0.59159,     0.59259,     0.59359,     0.59459,      0.5956,      0.5966,      0.5976,      0.5986,      0.5996,\n",
       "            0.6006,      0.6016,      0.6026,      0.6036,      0.6046,     0.60561,     0.60661,     0.60761,     0.60861,     0.60961,     0.61061,     0.61161,     0.61261,     0.61361,     0.61461,     0.61562,     0.61662,     0.61762,     0.61862,     0.61962,     0.62062,     0.62162,     0.62262,     0.62362,\n",
       "           0.62462,     0.62563,     0.62663,     0.62763,     0.62863,     0.62963,     0.63063,     0.63163,     0.63263,     0.63363,     0.63463,     0.63564,     0.63664,     0.63764,     0.63864,     0.63964,     0.64064,     0.64164,     0.64264,     0.64364,     0.64464,     0.64565,     0.64665,     0.64765,\n",
       "           0.64865,     0.64965,     0.65065,     0.65165,     0.65265,     0.65365,     0.65465,     0.65566,     0.65666,     0.65766,     0.65866,     0.65966,     0.66066,     0.66166,     0.66266,     0.66366,     0.66466,     0.66567,     0.66667,     0.66767,     0.66867,     0.66967,     0.67067,     0.67167,\n",
       "           0.67267,     0.67367,     0.67467,     0.67568,     0.67668,     0.67768,     0.67868,     0.67968,     0.68068,     0.68168,     0.68268,     0.68368,     0.68468,     0.68569,     0.68669,     0.68769,     0.68869,     0.68969,     0.69069,     0.69169,     0.69269,     0.69369,     0.69469,      0.6957,\n",
       "            0.6967,      0.6977,      0.6987,      0.6997,      0.7007,      0.7017,      0.7027,      0.7037,      0.7047,     0.70571,     0.70671,     0.70771,     0.70871,     0.70971,     0.71071,     0.71171,     0.71271,     0.71371,     0.71471,     0.71572,     0.71672,     0.71772,     0.71872,     0.71972,\n",
       "           0.72072,     0.72172,     0.72272,     0.72372,     0.72472,     0.72573,     0.72673,     0.72773,     0.72873,     0.72973,     0.73073,     0.73173,     0.73273,     0.73373,     0.73473,     0.73574,     0.73674,     0.73774,     0.73874,     0.73974,     0.74074,     0.74174,     0.74274,     0.74374,\n",
       "           0.74474,     0.74575,     0.74675,     0.74775,     0.74875,     0.74975,     0.75075,     0.75175,     0.75275,     0.75375,     0.75475,     0.75576,     0.75676,     0.75776,     0.75876,     0.75976,     0.76076,     0.76176,     0.76276,     0.76376,     0.76476,     0.76577,     0.76677,     0.76777,\n",
       "           0.76877,     0.76977,     0.77077,     0.77177,     0.77277,     0.77377,     0.77477,     0.77578,     0.77678,     0.77778,     0.77878,     0.77978,     0.78078,     0.78178,     0.78278,     0.78378,     0.78478,     0.78579,     0.78679,     0.78779,     0.78879,     0.78979,     0.79079,     0.79179,\n",
       "           0.79279,     0.79379,     0.79479,      0.7958,      0.7968,      0.7978,      0.7988,      0.7998,      0.8008,      0.8018,      0.8028,      0.8038,      0.8048,     0.80581,     0.80681,     0.80781,     0.80881,     0.80981,     0.81081,     0.81181,     0.81281,     0.81381,     0.81481,     0.81582,\n",
       "           0.81682,     0.81782,     0.81882,     0.81982,     0.82082,     0.82182,     0.82282,     0.82382,     0.82482,     0.82583,     0.82683,     0.82783,     0.82883,     0.82983,     0.83083,     0.83183,     0.83283,     0.83383,     0.83483,     0.83584,     0.83684,     0.83784,     0.83884,     0.83984,\n",
       "           0.84084,     0.84184,     0.84284,     0.84384,     0.84484,     0.84585,     0.84685,     0.84785,     0.84885,     0.84985,     0.85085,     0.85185,     0.85285,     0.85385,     0.85485,     0.85586,     0.85686,     0.85786,     0.85886,     0.85986,     0.86086,     0.86186,     0.86286,     0.86386,\n",
       "           0.86486,     0.86587,     0.86687,     0.86787,     0.86887,     0.86987,     0.87087,     0.87187,     0.87287,     0.87387,     0.87487,     0.87588,     0.87688,     0.87788,     0.87888,     0.87988,     0.88088,     0.88188,     0.88288,     0.88388,     0.88488,     0.88589,     0.88689,     0.88789,\n",
       "           0.88889,     0.88989,     0.89089,     0.89189,     0.89289,     0.89389,     0.89489,      0.8959,      0.8969,      0.8979,      0.8989,      0.8999,      0.9009,      0.9019,      0.9029,      0.9039,      0.9049,     0.90591,     0.90691,     0.90791,     0.90891,     0.90991,     0.91091,     0.91191,\n",
       "           0.91291,     0.91391,     0.91491,     0.91592,     0.91692,     0.91792,     0.91892,     0.91992,     0.92092,     0.92192,     0.92292,     0.92392,     0.92492,     0.92593,     0.92693,     0.92793,     0.92893,     0.92993,     0.93093,     0.93193,     0.93293,     0.93393,     0.93493,     0.93594,\n",
       "           0.93694,     0.93794,     0.93894,     0.93994,     0.94094,     0.94194,     0.94294,     0.94394,     0.94494,     0.94595,     0.94695,     0.94795,     0.94895,     0.94995,     0.95095,     0.95195,     0.95295,     0.95395,     0.95495,     0.95596,     0.95696,     0.95796,     0.95896,     0.95996,\n",
       "           0.96096,     0.96196,     0.96296,     0.96396,     0.96496,     0.96597,     0.96697,     0.96797,     0.96897,     0.96997,     0.97097,     0.97197,     0.97297,     0.97397,     0.97497,     0.97598,     0.97698,     0.97798,     0.97898,     0.97998,     0.98098,     0.98198,     0.98298,     0.98398,\n",
       "           0.98498,     0.98599,     0.98699,     0.98799,     0.98899,     0.98999,     0.99099,     0.99199,     0.99299,     0.99399,     0.99499,       0.996,       0.997,       0.998,       0.999,           1]), array([[    0.17884,     0.17884,     0.20143,     0.21388,     0.22688,     0.23099,     0.23578,     0.24674,     0.25702,     0.26388,     0.27167,     0.27922,     0.28856,     0.29407,     0.29775,     0.30587,     0.31265,     0.31883,     0.32128,     0.32684,     0.32797,     0.33268,     0.33881,\n",
       "            0.34357,     0.34872,     0.35639,     0.36463,     0.37011,     0.37464,     0.37778,     0.38235,     0.38266,     0.38848,     0.39362,     0.39969,     0.40252,     0.40427,     0.40648,     0.40987,     0.41219,     0.41439,     0.41922,     0.41919,     0.42379,     0.42702,     0.43179,\n",
       "            0.43496,      0.4336,     0.43675,     0.44199,     0.44381,     0.44505,     0.44454,     0.44704,     0.45095,     0.45446,     0.45398,     0.45555,     0.46151,     0.46571,     0.46796,      0.4719,     0.47475,      0.4765,     0.48113,     0.48237,     0.48713,      0.4901,     0.49793,\n",
       "            0.50073,     0.50341,     0.50497,     0.50132,     0.50191,     0.50316,     0.50093,     0.50394,     0.50303,     0.50677,     0.50582,     0.51111,     0.51288,     0.51608,      0.5161,     0.51775,     0.52169,     0.52231,     0.52293,     0.52071,     0.52119,     0.52355,     0.52807,\n",
       "            0.52544,     0.52666,     0.53151,     0.53503,     0.53435,     0.53606,     0.53654,     0.53802,      0.5413,     0.54119,     0.54273,     0.54369,     0.54496,     0.54715,     0.54822,     0.54901,     0.55199,     0.56099,     0.56319,     0.56304,     0.56388,     0.56473,     0.56556,\n",
       "            0.56639,     0.56805,     0.57618,     0.57773,     0.58293,     0.58678,     0.59043,     0.59405,     0.59409,     0.59408,     0.59446,     0.59468,     0.59261,     0.58746,     0.58626,     0.58818,     0.59231,     0.59051,     0.59469,     0.60041,     0.60477,     0.60697,     0.60936,\n",
       "             0.6114,     0.61663,      0.6197,     0.62105,       0.623,     0.62439,     0.62966,     0.63089,     0.63141,     0.63221,     0.63588,     0.63503,     0.63562,     0.63711,      0.6414,     0.64256,     0.64367,     0.64421,     0.64337,     0.64747,     0.64875,     0.65359,     0.65607,\n",
       "            0.65949,     0.66185,     0.66264,     0.66342,     0.66421,     0.66494,     0.66387,     0.66574,     0.66742,     0.66833,     0.66924,     0.67003,     0.66863,     0.66466,      0.6639,     0.66325,     0.66645,     0.66872,     0.67187,     0.67111,     0.67034,     0.66932,     0.66818,\n",
       "             0.6667,     0.66607,     0.66768,     0.66565,     0.66343,     0.66031,     0.66045,     0.66265,     0.66376,     0.66836,     0.66742,     0.66903,     0.67049,     0.66529,      0.6666,     0.66577,     0.66493,     0.66356,     0.66653,      0.6662,     0.66588,     0.66555,     0.66522,\n",
       "             0.6649,     0.66447,     0.66291,     0.66407,     0.66621,     0.66331,     0.66397,     0.66601,     0.66561,     0.66782,     0.66796,     0.66634,      0.6647,     0.67492,     0.67261,     0.67144,     0.67259,     0.67374,     0.67489,     0.67684,     0.68161,     0.68585,     0.68761,\n",
       "            0.68937,     0.68738,     0.68766,     0.68996,     0.68942,     0.68815,     0.68999,     0.69186,     0.69425,     0.69663,     0.69315,     0.69326,     0.69509,     0.69693,     0.69704,     0.69596,     0.69401,     0.69181,     0.69088,     0.69002,     0.68915,     0.69398,     0.69311,\n",
       "            0.69223,     0.69443,     0.70245,     0.70148,     0.70561,      0.7045,     0.70582,      0.7062,     0.70272,     0.70328,     0.70383,     0.70439,     0.70495,     0.70551,     0.70606,     0.70662,     0.70718,     0.70774,     0.70829,     0.70885,     0.70615,     0.70566,     0.70518,\n",
       "            0.70469,     0.70421,     0.70372,     0.70849,     0.70614,     0.70891,     0.71133,      0.7082,     0.70652,     0.70343,       0.704,     0.70345,     0.70291,     0.70237,     0.70182,     0.70128,     0.70804,     0.70749,     0.70694,     0.70639,     0.70585,      0.7053,     0.70226,\n",
       "            0.70003,     0.70877,     0.71332,     0.71172,     0.71895,     0.71708,     0.72011,      0.7197,     0.71777,      0.7347,     0.73349,     0.73229,     0.73053,     0.72892,     0.73734,      0.7354,     0.73561,     0.73801,     0.73365,     0.73268,     0.73197,     0.73127,     0.73057,\n",
       "            0.72986,     0.72904,      0.7282,     0.72736,     0.72651,     0.72852,     0.73443,     0.73386,      0.7359,     0.73794,     0.73998,     0.74203,     0.73983,     0.73838,      0.7375,     0.73663,     0.73576,     0.73338,     0.73075,     0.72956,     0.72837,      0.7271,     0.72495,\n",
       "            0.72509,     0.73265,     0.72962,     0.72834,     0.72707,     0.73767,     0.73328,     0.73159,     0.72991,     0.72865,     0.72817,     0.72769,     0.72721,     0.72673,     0.72625,     0.72577,     0.72529,     0.72481,     0.72433,     0.72801,     0.73452,     0.74552,     0.74822,\n",
       "            0.74556,     0.74022,     0.73968,     0.73914,     0.73859,     0.73805,     0.73751,     0.73697,     0.73643,     0.73588,     0.73002,     0.72922,     0.72842,     0.72761,     0.72681,     0.72601,     0.71795,     0.71756,     0.72627,     0.72719,     0.72424,     0.72494,     0.72709,\n",
       "            0.72924,     0.73139,     0.73354,     0.73569,     0.73784,     0.73834,     0.73636,     0.73438,     0.74142,     0.74605,     0.76077,     0.75928,     0.75779,      0.7563,     0.75466,     0.75299,     0.75132,     0.74973,     0.74842,      0.7471,     0.74579,     0.74447,     0.74444,\n",
       "            0.74702,     0.74961,      0.7522,     0.75479,     0.75738,     0.75997,     0.76255,     0.75813,      0.7564,     0.75596,     0.75551,     0.75506,     0.75462,     0.75417,     0.75372,     0.75328,     0.75283,     0.75238,     0.75194,     0.75149,     0.75104,     0.75059,     0.75015,\n",
       "            0.77077,     0.76979,      0.7688,     0.76782,     0.76683,     0.76585,     0.76486,     0.76394,     0.76302,     0.76211,      0.7612,     0.76028,     0.75937,     0.75846,     0.75769,     0.76082,     0.76395,     0.76708,     0.77021,     0.77334,     0.77647,      0.7796,     0.77053,\n",
       "            0.76529,     0.76255,      0.7598,     0.75761,     0.75584,     0.75407,     0.75231,     0.75054,     0.74835,     0.74598,     0.74361,     0.74123,     0.76387,     0.78211,     0.79787,     0.79918,     0.79823,     0.79728,     0.79633,     0.79538,     0.79443,     0.79348,     0.79254,\n",
       "            0.79151,     0.78965,      0.7878,     0.78594,     0.78408,     0.78235,     0.78108,     0.77981,     0.77855,     0.77728,     0.77602,     0.77475,     0.77348,     0.76826,     0.76147,     0.76045,     0.75944,     0.75842,      0.7574,     0.75639,     0.75537,     0.75435,     0.75334,\n",
       "            0.75232,      0.7513,     0.75029,     0.74861,     0.74669,     0.74476,     0.74283,     0.74091,     0.73898,     0.73705,     0.73239,      0.7274,      0.7224,     0.72137,     0.72049,     0.71961,     0.71873,     0.71785,     0.71696,     0.71608,      0.7152,     0.71432,     0.71344,\n",
       "            0.71256,     0.71168,     0.71079,     0.70991,     0.70903,     0.70815,     0.70727,     0.70639,     0.71233,      0.7274,     0.74248,     0.74572,     0.73718,     0.72797,      0.7182,      0.7199,     0.72929,     0.73868,     0.74806,     0.75745,     0.76684,     0.76768,     0.76561,\n",
       "            0.76353,     0.76146,     0.75938,     0.75731,     0.75523,     0.75316,     0.75109,     0.74877,     0.74618,     0.74359,       0.741,     0.73841,     0.73582,     0.73323,     0.73065,     0.72806,     0.72078,     0.71146,     0.70214,     0.69671,     0.69244,     0.68817,      0.6839,\n",
       "            0.67963,     0.67536,     0.67109,     0.66681,     0.68166,     0.69719,     0.71272,     0.72825,     0.74378,     0.74561,     0.73829,     0.73097,     0.72365,     0.71632,     0.71093,     0.70628,     0.70163,     0.69698,     0.69234,     0.68769,     0.68304,     0.67839,     0.67374,\n",
       "            0.66909,     0.68844,       0.734,     0.77956,     0.80753,      0.8212,     0.83487,     0.84854,      0.8622,     0.87587,     0.88954,      0.9032,     0.91687,     0.93054,      0.9442,     0.95787,     0.97154,     0.98521,     0.99887,           1,           1,           1,           1,\n",
       "                  1,           1,           1,           1,           1,           1,           1,           1,           1,           1,           1,           1,           1,           1,           1,           1,           1,           1,           1,           1,           1,           1,           1,\n",
       "                  1,           1,           1,           1,           1,           1,           1,           1,           1,           1,           1,           1,           1,           1,           1,           1,           1,           1,           1,           1,           1,           1,           1,\n",
       "                  1,           1,           1,           1,           1,           1,           1,           1,           1,           1,           1,           1,           1,           1,           1,           1,           1,           1,           1,           1,           1,           1,           1,\n",
       "                  1,           1,           1,           1,           1,           1,           1,           1,           1,           1,           1,           1,           1,           1,           1,           1,           1,           1,           1,           1,           1,           1,           1,\n",
       "                  1,           1,           1,           1,           1,           1,           1,           1,           1,           1,           1,           1,           1,           1,           1,           1,           1,           1,           1,           1,           1,           1,           1,\n",
       "                  1,           1,           1,           1,           1,           1,           1,           1,           1,           1,           1,           1,           1,           1,           1,           1,           1,           1,           1,           1,           1,           1,           1,\n",
       "                  1,           1,           1,           1,           1,           1,           1,           1,           1,           1,           1,           1,           1,           1,           1,           1,           1,           1,           1,           1,           1,           1,           1,\n",
       "                  1,           1,           1,           1,           1,           1,           1,           1,           1,           1,           1,           1,           1,           1,           1,           1,           1,           1,           1,           1,           1,           1,           1,\n",
       "                  1,           1,           1,           1,           1,           1,           1,           1,           1,           1,           1,           1,           1,           1,           1,           1,           1,           1,           1,           1,           1,           1,           1,\n",
       "                  1,           1,           1,           1,           1,           1,           1,           1,           1,           1,           1,           1,           1,           1,           1,           1,           1,           1,           1,           1,           1,           1,           1,\n",
       "                  1,           1,           1,           1,           1,           1,           1,           1,           1,           1,           1,           1,           1,           1,           1,           1,           1,           1,           1,           1,           1,           1,           1,\n",
       "                  1,           1,           1,           1,           1,           1,           1,           1,           1,           1,           1,           1,           1,           1,           1,           1,           1,           1,           1,           1,           1,           1,           1,\n",
       "                  1,           1,           1,           1,           1,           1,           1,           1,           1,           1,           1,           1,           1,           1,           1,           1,           1,           1,           1,           1,           1,           1,           1,\n",
       "                  1,           1,           1,           1,           1,           1,           1,           1,           1,           1,           1,           1,           1,           1,           1,           1,           1,           1,           1,           1,           1,           1,           1,\n",
       "                  1,           1,           1,           1,           1,           1,           1,           1,           1,           1,           1,           1,           1,           1,           1,           1,           1,           1,           1,           1,           1,           1,           1,\n",
       "                  1,           1,           1,           1,           1,           1,           1,           1,           1,           1,           1,           1,           1,           1,           1,           1,           1,           1,           1,           1,           1,           1,           1,\n",
       "                  1,           1,           1,           1,           1,           1,           1,           1,           1,           1,           1]]), 'Confidence', 'Precision'], [array([          0,    0.001001,    0.002002,    0.003003,    0.004004,    0.005005,    0.006006,    0.007007,    0.008008,    0.009009,     0.01001,    0.011011,    0.012012,    0.013013,    0.014014,    0.015015,    0.016016,    0.017017,    0.018018,    0.019019,     0.02002,    0.021021,    0.022022,    0.023023,\n",
       "          0.024024,    0.025025,    0.026026,    0.027027,    0.028028,    0.029029,     0.03003,    0.031031,    0.032032,    0.033033,    0.034034,    0.035035,    0.036036,    0.037037,    0.038038,    0.039039,     0.04004,    0.041041,    0.042042,    0.043043,    0.044044,    0.045045,    0.046046,    0.047047,\n",
       "          0.048048,    0.049049,     0.05005,    0.051051,    0.052052,    0.053053,    0.054054,    0.055055,    0.056056,    0.057057,    0.058058,    0.059059,     0.06006,    0.061061,    0.062062,    0.063063,    0.064064,    0.065065,    0.066066,    0.067067,    0.068068,    0.069069,     0.07007,    0.071071,\n",
       "          0.072072,    0.073073,    0.074074,    0.075075,    0.076076,    0.077077,    0.078078,    0.079079,     0.08008,    0.081081,    0.082082,    0.083083,    0.084084,    0.085085,    0.086086,    0.087087,    0.088088,    0.089089,     0.09009,    0.091091,    0.092092,    0.093093,    0.094094,    0.095095,\n",
       "          0.096096,    0.097097,    0.098098,    0.099099,      0.1001,      0.1011,      0.1021,      0.1031,      0.1041,     0.10511,     0.10611,     0.10711,     0.10811,     0.10911,     0.11011,     0.11111,     0.11211,     0.11311,     0.11411,     0.11512,     0.11612,     0.11712,     0.11812,     0.11912,\n",
       "           0.12012,     0.12112,     0.12212,     0.12312,     0.12412,     0.12513,     0.12613,     0.12713,     0.12813,     0.12913,     0.13013,     0.13113,     0.13213,     0.13313,     0.13413,     0.13514,     0.13614,     0.13714,     0.13814,     0.13914,     0.14014,     0.14114,     0.14214,     0.14314,\n",
       "           0.14414,     0.14515,     0.14615,     0.14715,     0.14815,     0.14915,     0.15015,     0.15115,     0.15215,     0.15315,     0.15415,     0.15516,     0.15616,     0.15716,     0.15816,     0.15916,     0.16016,     0.16116,     0.16216,     0.16316,     0.16416,     0.16517,     0.16617,     0.16717,\n",
       "           0.16817,     0.16917,     0.17017,     0.17117,     0.17217,     0.17317,     0.17417,     0.17518,     0.17618,     0.17718,     0.17818,     0.17918,     0.18018,     0.18118,     0.18218,     0.18318,     0.18418,     0.18519,     0.18619,     0.18719,     0.18819,     0.18919,     0.19019,     0.19119,\n",
       "           0.19219,     0.19319,     0.19419,      0.1952,      0.1962,      0.1972,      0.1982,      0.1992,      0.2002,      0.2012,      0.2022,      0.2032,      0.2042,     0.20521,     0.20621,     0.20721,     0.20821,     0.20921,     0.21021,     0.21121,     0.21221,     0.21321,     0.21421,     0.21522,\n",
       "           0.21622,     0.21722,     0.21822,     0.21922,     0.22022,     0.22122,     0.22222,     0.22322,     0.22422,     0.22523,     0.22623,     0.22723,     0.22823,     0.22923,     0.23023,     0.23123,     0.23223,     0.23323,     0.23423,     0.23524,     0.23624,     0.23724,     0.23824,     0.23924,\n",
       "           0.24024,     0.24124,     0.24224,     0.24324,     0.24424,     0.24525,     0.24625,     0.24725,     0.24825,     0.24925,     0.25025,     0.25125,     0.25225,     0.25325,     0.25425,     0.25526,     0.25626,     0.25726,     0.25826,     0.25926,     0.26026,     0.26126,     0.26226,     0.26326,\n",
       "           0.26426,     0.26527,     0.26627,     0.26727,     0.26827,     0.26927,     0.27027,     0.27127,     0.27227,     0.27327,     0.27427,     0.27528,     0.27628,     0.27728,     0.27828,     0.27928,     0.28028,     0.28128,     0.28228,     0.28328,     0.28428,     0.28529,     0.28629,     0.28729,\n",
       "           0.28829,     0.28929,     0.29029,     0.29129,     0.29229,     0.29329,     0.29429,      0.2953,      0.2963,      0.2973,      0.2983,      0.2993,      0.3003,      0.3013,      0.3023,      0.3033,      0.3043,     0.30531,     0.30631,     0.30731,     0.30831,     0.30931,     0.31031,     0.31131,\n",
       "           0.31231,     0.31331,     0.31431,     0.31532,     0.31632,     0.31732,     0.31832,     0.31932,     0.32032,     0.32132,     0.32232,     0.32332,     0.32432,     0.32533,     0.32633,     0.32733,     0.32833,     0.32933,     0.33033,     0.33133,     0.33233,     0.33333,     0.33433,     0.33534,\n",
       "           0.33634,     0.33734,     0.33834,     0.33934,     0.34034,     0.34134,     0.34234,     0.34334,     0.34434,     0.34535,     0.34635,     0.34735,     0.34835,     0.34935,     0.35035,     0.35135,     0.35235,     0.35335,     0.35435,     0.35536,     0.35636,     0.35736,     0.35836,     0.35936,\n",
       "           0.36036,     0.36136,     0.36236,     0.36336,     0.36436,     0.36537,     0.36637,     0.36737,     0.36837,     0.36937,     0.37037,     0.37137,     0.37237,     0.37337,     0.37437,     0.37538,     0.37638,     0.37738,     0.37838,     0.37938,     0.38038,     0.38138,     0.38238,     0.38338,\n",
       "           0.38438,     0.38539,     0.38639,     0.38739,     0.38839,     0.38939,     0.39039,     0.39139,     0.39239,     0.39339,     0.39439,      0.3954,      0.3964,      0.3974,      0.3984,      0.3994,      0.4004,      0.4014,      0.4024,      0.4034,      0.4044,     0.40541,     0.40641,     0.40741,\n",
       "           0.40841,     0.40941,     0.41041,     0.41141,     0.41241,     0.41341,     0.41441,     0.41542,     0.41642,     0.41742,     0.41842,     0.41942,     0.42042,     0.42142,     0.42242,     0.42342,     0.42442,     0.42543,     0.42643,     0.42743,     0.42843,     0.42943,     0.43043,     0.43143,\n",
       "           0.43243,     0.43343,     0.43443,     0.43544,     0.43644,     0.43744,     0.43844,     0.43944,     0.44044,     0.44144,     0.44244,     0.44344,     0.44444,     0.44545,     0.44645,     0.44745,     0.44845,     0.44945,     0.45045,     0.45145,     0.45245,     0.45345,     0.45445,     0.45546,\n",
       "           0.45646,     0.45746,     0.45846,     0.45946,     0.46046,     0.46146,     0.46246,     0.46346,     0.46446,     0.46547,     0.46647,     0.46747,     0.46847,     0.46947,     0.47047,     0.47147,     0.47247,     0.47347,     0.47447,     0.47548,     0.47648,     0.47748,     0.47848,     0.47948,\n",
       "           0.48048,     0.48148,     0.48248,     0.48348,     0.48448,     0.48549,     0.48649,     0.48749,     0.48849,     0.48949,     0.49049,     0.49149,     0.49249,     0.49349,     0.49449,      0.4955,      0.4965,      0.4975,      0.4985,      0.4995,      0.5005,      0.5015,      0.5025,      0.5035,\n",
       "            0.5045,     0.50551,     0.50651,     0.50751,     0.50851,     0.50951,     0.51051,     0.51151,     0.51251,     0.51351,     0.51451,     0.51552,     0.51652,     0.51752,     0.51852,     0.51952,     0.52052,     0.52152,     0.52252,     0.52352,     0.52452,     0.52553,     0.52653,     0.52753,\n",
       "           0.52853,     0.52953,     0.53053,     0.53153,     0.53253,     0.53353,     0.53453,     0.53554,     0.53654,     0.53754,     0.53854,     0.53954,     0.54054,     0.54154,     0.54254,     0.54354,     0.54454,     0.54555,     0.54655,     0.54755,     0.54855,     0.54955,     0.55055,     0.55155,\n",
       "           0.55255,     0.55355,     0.55455,     0.55556,     0.55656,     0.55756,     0.55856,     0.55956,     0.56056,     0.56156,     0.56256,     0.56356,     0.56456,     0.56557,     0.56657,     0.56757,     0.56857,     0.56957,     0.57057,     0.57157,     0.57257,     0.57357,     0.57457,     0.57558,\n",
       "           0.57658,     0.57758,     0.57858,     0.57958,     0.58058,     0.58158,     0.58258,     0.58358,     0.58458,     0.58559,     0.58659,     0.58759,     0.58859,     0.58959,     0.59059,     0.59159,     0.59259,     0.59359,     0.59459,      0.5956,      0.5966,      0.5976,      0.5986,      0.5996,\n",
       "            0.6006,      0.6016,      0.6026,      0.6036,      0.6046,     0.60561,     0.60661,     0.60761,     0.60861,     0.60961,     0.61061,     0.61161,     0.61261,     0.61361,     0.61461,     0.61562,     0.61662,     0.61762,     0.61862,     0.61962,     0.62062,     0.62162,     0.62262,     0.62362,\n",
       "           0.62462,     0.62563,     0.62663,     0.62763,     0.62863,     0.62963,     0.63063,     0.63163,     0.63263,     0.63363,     0.63463,     0.63564,     0.63664,     0.63764,     0.63864,     0.63964,     0.64064,     0.64164,     0.64264,     0.64364,     0.64464,     0.64565,     0.64665,     0.64765,\n",
       "           0.64865,     0.64965,     0.65065,     0.65165,     0.65265,     0.65365,     0.65465,     0.65566,     0.65666,     0.65766,     0.65866,     0.65966,     0.66066,     0.66166,     0.66266,     0.66366,     0.66466,     0.66567,     0.66667,     0.66767,     0.66867,     0.66967,     0.67067,     0.67167,\n",
       "           0.67267,     0.67367,     0.67467,     0.67568,     0.67668,     0.67768,     0.67868,     0.67968,     0.68068,     0.68168,     0.68268,     0.68368,     0.68468,     0.68569,     0.68669,     0.68769,     0.68869,     0.68969,     0.69069,     0.69169,     0.69269,     0.69369,     0.69469,      0.6957,\n",
       "            0.6967,      0.6977,      0.6987,      0.6997,      0.7007,      0.7017,      0.7027,      0.7037,      0.7047,     0.70571,     0.70671,     0.70771,     0.70871,     0.70971,     0.71071,     0.71171,     0.71271,     0.71371,     0.71471,     0.71572,     0.71672,     0.71772,     0.71872,     0.71972,\n",
       "           0.72072,     0.72172,     0.72272,     0.72372,     0.72472,     0.72573,     0.72673,     0.72773,     0.72873,     0.72973,     0.73073,     0.73173,     0.73273,     0.73373,     0.73473,     0.73574,     0.73674,     0.73774,     0.73874,     0.73974,     0.74074,     0.74174,     0.74274,     0.74374,\n",
       "           0.74474,     0.74575,     0.74675,     0.74775,     0.74875,     0.74975,     0.75075,     0.75175,     0.75275,     0.75375,     0.75475,     0.75576,     0.75676,     0.75776,     0.75876,     0.75976,     0.76076,     0.76176,     0.76276,     0.76376,     0.76476,     0.76577,     0.76677,     0.76777,\n",
       "           0.76877,     0.76977,     0.77077,     0.77177,     0.77277,     0.77377,     0.77477,     0.77578,     0.77678,     0.77778,     0.77878,     0.77978,     0.78078,     0.78178,     0.78278,     0.78378,     0.78478,     0.78579,     0.78679,     0.78779,     0.78879,     0.78979,     0.79079,     0.79179,\n",
       "           0.79279,     0.79379,     0.79479,      0.7958,      0.7968,      0.7978,      0.7988,      0.7998,      0.8008,      0.8018,      0.8028,      0.8038,      0.8048,     0.80581,     0.80681,     0.80781,     0.80881,     0.80981,     0.81081,     0.81181,     0.81281,     0.81381,     0.81481,     0.81582,\n",
       "           0.81682,     0.81782,     0.81882,     0.81982,     0.82082,     0.82182,     0.82282,     0.82382,     0.82482,     0.82583,     0.82683,     0.82783,     0.82883,     0.82983,     0.83083,     0.83183,     0.83283,     0.83383,     0.83483,     0.83584,     0.83684,     0.83784,     0.83884,     0.83984,\n",
       "           0.84084,     0.84184,     0.84284,     0.84384,     0.84484,     0.84585,     0.84685,     0.84785,     0.84885,     0.84985,     0.85085,     0.85185,     0.85285,     0.85385,     0.85485,     0.85586,     0.85686,     0.85786,     0.85886,     0.85986,     0.86086,     0.86186,     0.86286,     0.86386,\n",
       "           0.86486,     0.86587,     0.86687,     0.86787,     0.86887,     0.86987,     0.87087,     0.87187,     0.87287,     0.87387,     0.87487,     0.87588,     0.87688,     0.87788,     0.87888,     0.87988,     0.88088,     0.88188,     0.88288,     0.88388,     0.88488,     0.88589,     0.88689,     0.88789,\n",
       "           0.88889,     0.88989,     0.89089,     0.89189,     0.89289,     0.89389,     0.89489,      0.8959,      0.8969,      0.8979,      0.8989,      0.8999,      0.9009,      0.9019,      0.9029,      0.9039,      0.9049,     0.90591,     0.90691,     0.90791,     0.90891,     0.90991,     0.91091,     0.91191,\n",
       "           0.91291,     0.91391,     0.91491,     0.91592,     0.91692,     0.91792,     0.91892,     0.91992,     0.92092,     0.92192,     0.92292,     0.92392,     0.92492,     0.92593,     0.92693,     0.92793,     0.92893,     0.92993,     0.93093,     0.93193,     0.93293,     0.93393,     0.93493,     0.93594,\n",
       "           0.93694,     0.93794,     0.93894,     0.93994,     0.94094,     0.94194,     0.94294,     0.94394,     0.94494,     0.94595,     0.94695,     0.94795,     0.94895,     0.94995,     0.95095,     0.95195,     0.95295,     0.95395,     0.95495,     0.95596,     0.95696,     0.95796,     0.95896,     0.95996,\n",
       "           0.96096,     0.96196,     0.96296,     0.96396,     0.96496,     0.96597,     0.96697,     0.96797,     0.96897,     0.96997,     0.97097,     0.97197,     0.97297,     0.97397,     0.97497,     0.97598,     0.97698,     0.97798,     0.97898,     0.97998,     0.98098,     0.98198,     0.98298,     0.98398,\n",
       "           0.98498,     0.98599,     0.98699,     0.98799,     0.98899,     0.98999,     0.99099,     0.99199,     0.99299,     0.99399,     0.99499,       0.996,       0.997,       0.998,       0.999,           1]), array([[    0.61584,     0.61584,     0.61188,     0.60594,     0.60396,     0.58812,     0.57426,     0.56832,     0.56436,     0.55842,     0.55248,     0.54653,     0.54653,     0.54278,     0.54059,     0.53663,     0.53465,     0.53267,     0.52492,     0.52206,     0.51287,     0.50891,     0.50891,\n",
       "            0.50891,     0.50693,     0.50693,     0.50297,     0.50099,     0.50099,     0.49901,     0.49307,     0.48361,     0.48317,     0.48317,     0.48119,     0.47525,     0.46898,     0.46733,     0.46337,     0.46139,     0.45821,     0.45545,     0.44752,     0.44554,      0.4396,     0.43762,\n",
       "            0.43749,     0.43366,     0.43366,      0.4297,     0.42821,     0.42178,     0.41782,     0.41584,     0.41584,     0.41584,      0.4099,      0.4099,     0.40792,     0.40792,     0.40594,     0.40396,     0.40198,         0.4,     0.39802,     0.39604,     0.39604,     0.39406,     0.39208,\n",
       "            0.39208,     0.39208,     0.38784,     0.38221,     0.38112,      0.3802,     0.37228,     0.37228,     0.36879,     0.36825,     0.36483,     0.36436,     0.36436,     0.36436,     0.36238,     0.36238,     0.35842,     0.35842,     0.35842,     0.35282,     0.35248,     0.35248,      0.3523,\n",
       "            0.34851,     0.34851,     0.34822,     0.34635,     0.34257,     0.34059,     0.33928,      0.3367,     0.33663,     0.33267,     0.33069,     0.33069,     0.33069,     0.33069,     0.32871,     0.32475,     0.32475,     0.32277,      0.3217,     0.32079,     0.32079,     0.32079,     0.32079,\n",
       "            0.32079,     0.32079,     0.32079,     0.31881,     0.31881,     0.31881,     0.31881,     0.31881,     0.31591,     0.31009,     0.30891,     0.30797,     0.30533,      0.2989,     0.29742,     0.29505,     0.29345,     0.29109,     0.29109,     0.28911,     0.28911,     0.28911,     0.28911,\n",
       "            0.28911,     0.28911,     0.28713,     0.28317,     0.28317,     0.28317,     0.28119,     0.27921,     0.27816,     0.27723,     0.27665,     0.27564,     0.27525,     0.27525,     0.27525,      0.2741,     0.27327,      0.2725,     0.27129,     0.26914,     0.26733,     0.26535,     0.26064,\n",
       "            0.25941,     0.25941,     0.25941,     0.25941,     0.25941,     0.25937,     0.25812,     0.25743,     0.25743,     0.25743,     0.25743,     0.25734,     0.25572,     0.25119,     0.25034,      0.2495,      0.2495,     0.24782,     0.24733,     0.24648,     0.24562,     0.24449,     0.24324,\n",
       "            0.24162,      0.2396,     0.23872,     0.23655,      0.2342,     0.23096,      0.2297,      0.2297,     0.22772,     0.22747,     0.22574,     0.22574,     0.22565,     0.22042,     0.21776,     0.21695,     0.21613,      0.2148,     0.21373,     0.21342,     0.21311,     0.21279,     0.21248,\n",
       "            0.21217,     0.21177,     0.21029,      0.2099,      0.2099,     0.20676,     0.20594,     0.20533,     0.20396,     0.20396,     0.20316,     0.20168,     0.20021,     0.19735,     0.19528,     0.19406,     0.19406,     0.19406,     0.19406,     0.19406,     0.19208,      0.1901,      0.1901,\n",
       "             0.1901,     0.18723,     0.18614,     0.18614,     0.18462,     0.18218,     0.18218,     0.18218,     0.18218,     0.18218,     0.17893,     0.17822,     0.17822,     0.17822,     0.17768,     0.17678,     0.17517,     0.17336,     0.16818,      0.1675,     0.16683,     0.16615,     0.16547,\n",
       "             0.1648,     0.16436,     0.16436,     0.16238,     0.16238,     0.16051,     0.15842,     0.15708,     0.15446,     0.15446,     0.15446,     0.15446,     0.15446,     0.15446,     0.15446,     0.15446,     0.15446,     0.15446,     0.15446,     0.15446,     0.15227,     0.15192,     0.15157,\n",
       "            0.15122,     0.15086,     0.15051,      0.1492,     0.14653,     0.14653,     0.14638,     0.14418,     0.14302,     0.14091,     0.13658,     0.13623,     0.13587,     0.13552,     0.13517,     0.13481,     0.13446,     0.13411,     0.13376,      0.1334,     0.13305,      0.1327,     0.13078,\n",
       "             0.1294,     0.12871,     0.12871,     0.12711,     0.12664,     0.12548,     0.12475,     0.12203,     0.12087,     0.12064,      0.1199,     0.11917,     0.11811,     0.11683,     0.11674,     0.11558,     0.11287,     0.11157,     0.10909,     0.10855,     0.10816,     0.10778,     0.10739,\n",
       "              0.107,     0.10656,     0.10611,     0.10566,     0.10521,     0.10495,     0.10495,     0.10297,     0.10297,     0.10297,     0.10297,     0.10297,     0.10136,      0.1006,     0.10015,    0.099699,    0.099248,    0.098053,    0.096742,    0.096162,    0.095582,    0.094967,    0.093952,\n",
       "           0.093069,     0.09226,    0.090844,    0.090264,    0.089684,    0.089092,    0.087104,    0.086366,    0.085628,    0.085077,    0.084874,    0.084672,    0.084469,    0.084266,    0.084063,     0.08386,    0.083657,    0.083454,    0.083251,    0.083168,    0.083168,    0.083168,    0.082394,\n",
       "           0.081234,    0.078997,    0.078778,    0.078558,    0.078339,    0.078119,      0.0779,    0.077681,    0.077461,    0.077242,    0.074966,    0.074665,    0.074365,    0.074064,    0.073763,    0.073463,    0.070575,    0.069307,    0.069307,    0.068629,    0.067614,    0.067327,    0.067327,\n",
       "           0.067327,    0.067327,    0.067327,    0.067327,    0.067327,    0.067056,     0.06638,    0.065703,    0.065347,       0.064,    0.062978,     0.06247,    0.061963,    0.061455,    0.060919,    0.060377,    0.059836,    0.059323,    0.058917,    0.058511,    0.058105,    0.057699,    0.057426,\n",
       "           0.057426,    0.057426,    0.057426,    0.057426,    0.057426,    0.057426,    0.057426,     0.05587,    0.055342,    0.055211,     0.05508,    0.054949,    0.054818,    0.054687,    0.054556,    0.054425,    0.054294,    0.054163,    0.054032,    0.053902,    0.053771,     0.05364,    0.053509,\n",
       "           0.053271,    0.052981,    0.052691,    0.052401,    0.052111,    0.051821,    0.051532,    0.051272,    0.051018,    0.050765,    0.050511,    0.050257,    0.050003,     0.04975,    0.049505,    0.049505,    0.049505,    0.049505,    0.049505,    0.049505,    0.049505,    0.049505,    0.046561,\n",
       "           0.045207,     0.04453,    0.043854,    0.043332,    0.042926,     0.04252,    0.042114,    0.041708,    0.041232,    0.040724,    0.040217,     0.03971,    0.039604,    0.039604,    0.039604,    0.039409,    0.039183,    0.038958,    0.038732,    0.038507,    0.038281,    0.038056,     0.03783,\n",
       "           0.037589,    0.037183,    0.036777,    0.036371,    0.035965,    0.035591,    0.035337,    0.035084,     0.03483,    0.034576,    0.034322,    0.034069,    0.033815,    0.032847,    0.031611,    0.031442,    0.031273,    0.031104,    0.030934,    0.030765,    0.030596,    0.030427,    0.030258,\n",
       "           0.030089,     0.02992,     0.02975,    0.029494,    0.029204,    0.028914,    0.028624,    0.028334,    0.028044,    0.027754,     0.02712,    0.026444,    0.025767,     0.02564,    0.025533,    0.025426,    0.025319,    0.025212,    0.025105,    0.024999,    0.024892,    0.024785,    0.024678,\n",
       "           0.024571,    0.024464,    0.024358,    0.024251,    0.024144,    0.024037,     0.02393,    0.023824,    0.023762,    0.023762,    0.023762,    0.023254,    0.022239,    0.021224,    0.020209,    0.019802,    0.019802,    0.019802,    0.019802,    0.019802,    0.019802,    0.019643,    0.019429,\n",
       "           0.019215,    0.019002,    0.018788,    0.018574,    0.018361,    0.018147,    0.017934,    0.017714,    0.017489,    0.017263,    0.017038,    0.016812,    0.016587,    0.016361,    0.016135,     0.01591,     0.01537,    0.014694,    0.014017,    0.013666,    0.013412,    0.013159,    0.012905,\n",
       "           0.012651,    0.012397,    0.012144,     0.01189,    0.011881,    0.011881,    0.011881,    0.011881,    0.011881,    0.011638,    0.011232,    0.010826,     0.01042,    0.010014,   0.0097615,   0.0095682,   0.0093749,   0.0091816,   0.0089882,   0.0087949,   0.0086016,   0.0084083,    0.008215,\n",
       "          0.0080217,   0.0079208,   0.0079208,   0.0079208,   0.0079208,   0.0079208,   0.0079208,   0.0079208,   0.0079208,   0.0079208,   0.0079208,   0.0079208,   0.0079208,   0.0079208,   0.0079208,   0.0079208,   0.0079208,   0.0079208,   0.0079208,    0.007688,   0.0074343,   0.0071806,   0.0069269,\n",
       "          0.0066731,   0.0064194,   0.0061657,   0.0059258,   0.0057949,   0.0056639,    0.005533,    0.005402,   0.0052711,   0.0051401,   0.0050092,   0.0048782,   0.0047473,   0.0046163,   0.0044854,   0.0043544,   0.0042235,   0.0040925,   0.0039615,   0.0038385,   0.0037154,   0.0035924,   0.0034694,\n",
       "          0.0033464,   0.0032234,   0.0031004,   0.0029774,   0.0028543,   0.0027313,   0.0026083,   0.0024853,   0.0023623,   0.0022393,   0.0021162,   0.0019932,           0,           0,           0,           0,           0,           0,           0,           0,           0,           0,           0,\n",
       "                  0,           0,           0,           0,           0,           0,           0,           0,           0,           0,           0,           0,           0,           0,           0,           0,           0,           0,           0,           0,           0,           0,           0,\n",
       "                  0,           0,           0,           0,           0,           0,           0,           0,           0,           0,           0,           0,           0,           0,           0,           0,           0,           0,           0,           0,           0,           0,           0,\n",
       "                  0,           0,           0,           0,           0,           0,           0,           0,           0,           0,           0,           0,           0,           0,           0,           0,           0,           0,           0,           0,           0,           0,           0,\n",
       "                  0,           0,           0,           0,           0,           0,           0,           0,           0,           0,           0,           0,           0,           0,           0,           0,           0,           0,           0,           0,           0,           0,           0,\n",
       "                  0,           0,           0,           0,           0,           0,           0,           0,           0,           0,           0,           0,           0,           0,           0,           0,           0,           0,           0,           0,           0,           0,           0,\n",
       "                  0,           0,           0,           0,           0,           0,           0,           0,           0,           0,           0,           0,           0,           0,           0,           0,           0,           0,           0,           0,           0,           0,           0,\n",
       "                  0,           0,           0,           0,           0,           0,           0,           0,           0,           0,           0,           0,           0,           0,           0,           0,           0,           0,           0,           0,           0,           0,           0,\n",
       "                  0,           0,           0,           0,           0,           0,           0,           0,           0,           0,           0,           0,           0,           0,           0,           0,           0,           0,           0,           0,           0,           0,           0,\n",
       "                  0,           0,           0,           0,           0,           0,           0,           0,           0,           0,           0,           0,           0,           0,           0,           0,           0,           0,           0,           0,           0,           0,           0,\n",
       "                  0,           0,           0,           0,           0,           0,           0,           0,           0,           0,           0,           0,           0,           0,           0,           0,           0,           0,           0,           0,           0,           0,           0,\n",
       "                  0,           0,           0,           0,           0,           0,           0,           0,           0,           0,           0,           0,           0,           0,           0,           0,           0,           0,           0,           0,           0,           0,           0,\n",
       "                  0,           0,           0,           0,           0,           0,           0,           0,           0,           0,           0,           0,           0,           0,           0,           0,           0,           0,           0,           0,           0,           0,           0,\n",
       "                  0,           0,           0,           0,           0,           0,           0,           0,           0,           0,           0,           0,           0,           0,           0,           0,           0,           0,           0,           0,           0,           0,           0,\n",
       "                  0,           0,           0,           0,           0,           0,           0,           0,           0,           0,           0,           0,           0,           0,           0,           0,           0,           0,           0,           0,           0,           0,           0,\n",
       "                  0,           0,           0,           0,           0,           0,           0,           0,           0,           0,           0]]), 'Confidence', 'Recall']]\n",
       "fitness: 0.1278768970308799\n",
       "keys: ['metrics/precision(B)', 'metrics/recall(B)', 'metrics/mAP50(B)', 'metrics/mAP50-95(B)']\n",
       "maps: array([    0.10025])\n",
       "names: {0: 'icebergs'}\n",
       "plot: True\n",
       "results_dict: {'metrics/precision(B)': 0.5019097277968216, 'metrics/recall(B)': 0.38111935603684777, 'metrics/mAP50(B)': 0.37653987288295826, 'metrics/mAP50-95(B)': 0.10024767749176008, 'fitness': 0.1278768970308799}\n",
       "save_dir: WindowsPath('runs/detect/train')\n",
       "speed: {'preprocess': 0.2331415812174479, 'inference': 9.8907470703125, 'loss': 0.0, 'postprocess': 1.595751444498698}\n",
       "task: 'detect'"
      ]
     },
     "execution_count": 4,
     "metadata": {},
     "output_type": "execute_result"
    }
   ],
   "source": [
    "from ultralytics import YOLO\n",
    "\n",
    "# Load a model\n",
    "model = YOLO(\"yolo11s.pt\")  # load a pretrained model (recommended for training)\n",
    "\n",
    "model.train(data='D:/snap data/marked data/data.yaml', epochs=40, imgsz=640, batch=16)"
   ]
  },
  {
   "cell_type": "code",
   "execution_count": 5,
   "metadata": {},
   "outputs": [
    {
     "name": "stdout",
     "output_type": "stream",
     "text": [
      "Ultralytics 8.3.13  Python-3.9.2 torch-2.1.0+cu118 CUDA:0 (NVIDIA GeForce GTX 1070, 8192MiB)\n",
      "YOLO11s summary (fused): 238 layers, 9,413,187 parameters, 0 gradients, 21.3 GFLOPs\n"
     ]
    },
    {
     "name": "stderr",
     "output_type": "stream",
     "text": [
      "\u001b[34m\u001b[1mval: \u001b[0mScanning D:\\snap data\\marked data\\valid\\labels.cache... 15 images, 0 backgrounds, 0 corrupt: 100%|██████████| 15/15 [00:00<?, ?it/s]\n",
      "                 Class     Images  Instances      Box(P          R      mAP50  mAP50-95): 100%|██████████| 1/1 [00:04<00:00,  4.31s/it]\n"
     ]
    },
    {
     "name": "stdout",
     "output_type": "stream",
     "text": [
      "                   all         15        505      0.515      0.382       0.38      0.103\n",
      "Speed: 0.5ms preprocess, 16.3ms inference, 0.0ms loss, 1.4ms postprocess per image\n",
      "Results saved to \u001b[1mruns\\detect\\train2\u001b[0m\n"
     ]
    }
   ],
   "source": [
    "metrics = model.val() "
   ]
  }
 ],
 "metadata": {
  "kernelspec": {
   "display_name": "Python 3",
   "language": "python",
   "name": "python3"
  },
  "language_info": {
   "codemirror_mode": {
    "name": "ipython",
    "version": 3
   },
   "file_extension": ".py",
   "mimetype": "text/x-python",
   "name": "python",
   "nbconvert_exporter": "python",
   "pygments_lexer": "ipython3",
   "version": "3.9.2"
  }
 },
 "nbformat": 4,
 "nbformat_minor": 2
}
